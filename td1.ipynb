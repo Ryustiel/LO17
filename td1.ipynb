{
 "cells": [
  {
   "cell_type": "markdown",
   "metadata": {},
   "source": [
    "## Matrace d'Incindince\n",
    "\n",
    "Un indexation : \n",
    "[[Mots clés] ; [Documents]] = bool: Le mot clé est présent dans le document\n",
    "\n",
    "\n",
    "Exemple d'écriture de matrice :\n",
    "renard ET trompeur => 11000 (filtre sur la matrice booléenne où renard est index 1 et cigogne est index 2)\n",
    "repas => 10110 ET NON cigogne => 11101 (tous les indexes sauf celui de cigogne)\n",
    "=> 10100 résultat du \"et\" binaire"
   ]
  },
  {
   "cell_type": "code",
   "execution_count": 2,
   "metadata": {},
   "outputs": [],
   "source": [
    "from pydantic import BaseModel, PrivateAttr\n",
    "from typing import Any, Dict, List, Set, Self, Union, Callable\n",
    "from abc import abstractmethod\n",
    "\n",
    "import re\n",
    "import pandas as pd"
   ]
  },
  {
   "cell_type": "code",
   "execution_count": 3,
   "metadata": {},
   "outputs": [],
   "source": [
    "input_docs = {\"docs\": [\n",
    "    {\n",
    "        \"name\": \"Le Corbeau et le Renard\",\n",
    "        \"content\": \"Un corbeau tient un fromage dans son bec. Un renard rusé le flatte pour le tromper et lui faire lâcher son repas.\"\n",
    "    },\n",
    "    {\n",
    "        \"name\": \"Le Renard et le Bouc\",\n",
    "        \"content\": \"Un renard et un bouc tombent dans un puits. Le renard parvient à tromper le bouc pour s’en sortir, puis l’abandonne au fond.\"\n",
    "    },\n",
    "    {\n",
    "        \"name\": \"Le Loup et l’Agneau\",\n",
    "        \"content\": \"Un loup cherche un prétexte pour faire de l’agneau innocent son repas.\"\n",
    "    },\n",
    "    {\n",
    "        \"name\": \"Le Renard et la Cigogne\",\n",
    "        \"content\": \"Un renard invite une cigogne à dîner mais lui sert un repas inadapté ; la cigogne se venge de la même manière.\"\n",
    "    },\n",
    "    {\n",
    "        \"name\": \"Le Loup devenu Berger\",\n",
    "        \"content\": \"Un loup se déguise en berger pour tromper les moutons, mais il est vite démasqué et puni.\"\n",
    "    }\n",
    "]}"
   ]
  },
  {
   "cell_type": "code",
   "execution_count": 4,
   "metadata": {},
   "outputs": [],
   "source": [
    "class Document: pass\n",
    "\n",
    "class Expr:\n",
    "    def __init__(self, term: str|List[str]|None = None):\n",
    "        if isinstance(term, list):\n",
    "            self.expression = term\n",
    "        else:\n",
    "            self.expression: List[str] = [term] if term else []\n",
    "\n",
    "    def __or__(self, other: Self|str):\n",
    "        if isinstance(other, Expr):\n",
    "            return Expr([self, \"_or\", other])\n",
    "        elif isinstance(other, str):\n",
    "            return Expr(self.expression + [\"_or\", other])\n",
    "        return NotImplemented\n",
    "    \n",
    "    def __and__(self, other: Self|str):\n",
    "        if isinstance(other, Expr):\n",
    "            return Expr([self, \"_and\", other])\n",
    "        elif isinstance(other, str):\n",
    "            return Expr(self.expression + [\"_and\", other])\n",
    "        return NotImplemented\n",
    "    \n",
    "    def __str__(self) -> str:\n",
    "        s = \"\"\n",
    "        for item in self.expression:\n",
    "            if isinstance(item, Expr):\n",
    "                s += f\"({str(item)})\"\n",
    "            elif item.startswith(\"_\"):\n",
    "                s += f\" {item[1:]} \"\n",
    "            else:\n",
    "                s += item\n",
    "        return s\n",
    "            \n",
    "    def __repr__(self):\n",
    "        return str(self)\n",
    "    \n",
    "e: Callable[[str], Expr] = lambda s: Expr(s)\n",
    "\n",
    "\n",
    "class SearchIndex:\n",
    "    @abstractmethod\n",
    "    def union_search(self) -> Set[Any]:\n",
    "        raise NotImplemented\n",
    "    \n",
    "    def search(self, expression: Expr | str) -> Set['Document']:\n",
    "        \"\"\"Recursively evaluates AND / OR operations.\"\"\"\n",
    "        if isinstance(expression, str):\n",
    "            return self.union_search([expression])\n",
    "        \n",
    "        if len(expression.expression) == 1:  # Single keyword case\n",
    "            return self.search(expression.expression[0])\n",
    "        \n",
    "        # Extract left, operator, and right expressions\n",
    "        left, operator, right = expression.expression\n",
    "        left_docs = self.search(left)\n",
    "        right_docs = self.search(right)\n",
    "\n",
    "        if operator == \"_or\":   # Perform OR (Union)\n",
    "            return left_docs | right_docs\n",
    "        elif operator == \"_and\":  # Perform AND (Intersection)\n",
    "            return left_docs & right_docs\n",
    "\n",
    "        return set()  # Default case (no match)\n",
    "\n",
    "class IncidenceMatrix(pd.DataFrame, SearchIndex):\n",
    "    def union_search(self, keywords: List[str]) -> List[str]:\n",
    "        docs = set()\n",
    "        for kw in keywords:\n",
    "            if kw in self.columns:\n",
    "                for doc_name in self.index:\n",
    "                    if self.loc[doc_name, kw]:\n",
    "                        docs.add(doc_name)\n",
    "        return docs\n",
    "\n",
    "class InvertedIndex(Dict[str, List['Document']], SearchIndex):\n",
    "    def union_search(self, keywords: List[str]) -> List['Document']:\n",
    "        # Assuming all input keywords are included\n",
    "        docs = set()\n",
    "        for kw in keywords:\n",
    "            for doc in self.get(kw, []):\n",
    "                docs.add(doc)\n",
    "        return docs"
   ]
  },
  {
   "cell_type": "code",
   "execution_count": 5,
   "metadata": {},
   "outputs": [],
   "source": [
    "class Document(BaseModel):\n",
    "    _cached_keywords: Set[str] | None = PrivateAttr(None)\n",
    "\n",
    "    name: str\n",
    "    content: str\n",
    "\n",
    "    def __hash__(self):\n",
    "        return hash(self.name)\n",
    "\n",
    "    @property\n",
    "    def keywords(self) -> Set[str]:\n",
    "        if not self._cached_keywords:\n",
    "            spans = self.content.split()\n",
    "            keywords = [\"\".join(re.findall(r'\\w+', s)).lower() for s in spans if re.search(r'\\w', s)]\n",
    "            self._cached_keywords = set(keywords)\n",
    "        return self._cached_keywords\n",
    "\n",
    "class Corpus(BaseModel):\n",
    "    docs: List[Document]\n",
    "\n",
    "    @property\n",
    "    def all_keywords(self) -> Set[str]:\n",
    "        keywords = set()\n",
    "        for doc in self.docs:\n",
    "            keywords = keywords.union(doc.keywords)  # Implicit set.add()\n",
    "        return keywords\n",
    "    \n",
    "    @property\n",
    "    def document_names(self) -> List[str]:\n",
    "        return [doc.name for doc in self.docs]\n",
    "    \n",
    "    @property\n",
    "    def incidence_matrix(self) -> 'IncidenceMatrix':\n",
    "        all_keywords: List[str] = list(self.all_keywords)\n",
    "        return IncidenceMatrix(\n",
    "            columns=all_keywords,\n",
    "            index=self.document_names,\n",
    "            data=[\n",
    "                [\n",
    "                    keyword in doc.keywords\n",
    "                    for keyword in all_keywords\n",
    "                ] \n",
    "                for doc in self.docs\n",
    "            ]\n",
    "        )\n",
    "    \n",
    "    @property\n",
    "    def inverted_index(self) -> 'InvertedIndex':\n",
    "        all_keywords: List[str] = list(self.all_keywords)\n",
    "        index = InvertedIndex({keyword: [] for keyword in all_keywords})\n",
    "        \n",
    "        for keyword in all_keywords:\n",
    "            for doc in self.docs:\n",
    "                if keyword in doc.keywords:\n",
    "                    index[keyword].append(doc)\n",
    "\n",
    "        return index"
   ]
  },
  {
   "cell_type": "code",
   "execution_count": 6,
   "metadata": {},
   "outputs": [],
   "source": [
    "documents = Corpus.model_validate(input_docs)"
   ]
  },
  {
   "cell_type": "code",
   "execution_count": 7,
   "metadata": {},
   "outputs": [
    {
     "data": {
      "text/plain": [
       "57"
      ]
     },
     "execution_count": 7,
     "metadata": {},
     "output_type": "execute_result"
    }
   ],
   "source": [
    "len(documents.inverted_index)"
   ]
  },
  {
   "cell_type": "code",
   "execution_count": 8,
   "metadata": {},
   "outputs": [
    {
     "data": {
      "text/plain": [
       "(tromper) or (loup and berger)"
      ]
     },
     "execution_count": 8,
     "metadata": {},
     "output_type": "execute_result"
    }
   ],
   "source": [
    "e(\"tromper\") | e(\"loup\") & \"berger\""
   ]
  },
  {
   "cell_type": "code",
   "execution_count": 9,
   "metadata": {},
   "outputs": [
    {
     "data": {
      "text/plain": [
       "{'Le Corbeau et le Renard', 'Le Loup devenu Berger', 'Le Renard et le Bouc'}"
      ]
     },
     "execution_count": 9,
     "metadata": {},
     "output_type": "execute_result"
    }
   ],
   "source": [
    "documents.incidence_matrix.search(e(\"tromper\") | e(\"loup\") & \"berger\")"
   ]
  },
  {
   "cell_type": "code",
   "execution_count": 10,
   "metadata": {},
   "outputs": [
    {
     "data": {
      "text/plain": [
       "{Document(name='Le Corbeau et le Renard', content='Un corbeau tient un fromage dans son bec. Un renard rusé le flatte pour le tromper et lui faire lâcher son repas.'),\n",
       " Document(name='Le Loup devenu Berger', content='Un loup se déguise en berger pour tromper les moutons, mais il est vite démasqué et puni.'),\n",
       " Document(name='Le Loup et l’Agneau', content='Un loup cherche un prétexte pour faire de l’agneau innocent son repas.'),\n",
       " Document(name='Le Renard et le Bouc', content='Un renard et un bouc tombent dans un puits. Le renard parvient à tromper le bouc pour s’en sortir, puis l’abandonne au fond.')}"
      ]
     },
     "execution_count": 10,
     "metadata": {},
     "output_type": "execute_result"
    }
   ],
   "source": [
    "documents.inverted_index.union_search([\"tromper\", \"loup\"])"
   ]
  },
  {
   "cell_type": "code",
   "execution_count": 11,
   "metadata": {},
   "outputs": [
    {
     "data": {
      "text/plain": [
       "{'Le Corbeau et le Renard',\n",
       " 'Le Loup devenu Berger',\n",
       " 'Le Loup et l’Agneau',\n",
       " 'Le Renard et le Bouc'}"
      ]
     },
     "execution_count": 11,
     "metadata": {},
     "output_type": "execute_result"
    }
   ],
   "source": [
    "documents.incidence_matrix.union_search([\"tromper\", \"loup\"])"
   ]
  }
 ],
 "metadata": {
  "kernelspec": {
   "display_name": "Python 3",
   "language": "python",
   "name": "python3"
  },
  "language_info": {
   "codemirror_mode": {
    "name": "ipython",
    "version": 3
   },
   "file_extension": ".py",
   "mimetype": "text/x-python",
   "name": "python",
   "nbconvert_exporter": "python",
   "pygments_lexer": "ipython3",
   "version": "3.12.3"
  }
 },
 "nbformat": 4,
 "nbformat_minor": 2
}
