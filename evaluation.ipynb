{
 "cells": [
  {
   "cell_type": "markdown",
   "id": "02559c92",
   "metadata": {},
   "source": [
    "# Perfs"
   ]
  },
  {
   "cell_type": "markdown",
   "id": "5735b85f",
   "metadata": {},
   "source": [
    "## Import de la recherche"
   ]
  },
  {
   "cell_type": "code",
   "execution_count": null,
   "id": "816e7b3a",
   "metadata": {},
   "outputs": [],
   "source": [
    "from typing import Callable, List, Dict\n",
    "from index import Document, Corpus, InvertedIndex, Query\n",
    "\n",
    "import pandas, os, re\n",
    "\n",
    "DATA_FOLDER = os.path.join(os.getcwd(), \"output\")\n",
    "\n",
    "XML_INITIAL_FILE = os.path.join(DATA_FOLDER, \"corpus_initial.xml\")\n",
    "STEMMED_REPLACEMENTS = os.path.join(DATA_FOLDER, \"stemmed_replacement.tsv\")\n",
    "LEMMATIZED_REPLACEMENTS = os.path.join(DATA_FOLDER, \"lemmatized_replacement.tsv\")\n",
    "\n",
    "TEXTE_INDEX_FILE = os.path.join(DATA_FOLDER, \"index_files\", \"texte_index.xml\")\n",
    "LEGENDE_INDEX_FILE = os.path.join(DATA_FOLDER, \"index_files\", \"legende_index.xml\")\n",
    "TITRE_INDEX_FILE = os.path.join(DATA_FOLDER, \"index_files\", \"titre_index.xml\")\n",
    "\n",
    "STORAGE_TAGS = {\"Corpus\": \"corpus\", \"documents\": \"bulletins\", \"Document\": \"bulletin\", \"Image\": \"image\"}\n",
    "\n",
    "STANDARDIZE: Callable[[str], str] = lambda x: re.sub(r\"[^\\w\\s]\", \"\", re.sub(r\"'\", \" \", x.strip().lower()))"
   ]
  },
  {
   "cell_type": "code",
   "execution_count": 55,
   "id": "423af0d5",
   "metadata": {},
   "outputs": [],
   "source": [
    "# 1. Charge le Corpus\n",
    "with open(XML_INITIAL_FILE, \"r\", encoding=\"utf-8\") as f:\n",
    "    CORPUS = Corpus.model_validate_xml(f.read(), tags=STORAGE_TAGS)\n",
    "\n",
    "# 2. Charge l'Index inversé par zone    \n",
    "INDEX = {}\n",
    "for zone, file in zip([\"texte\", \"legendes\", \"titre\"], [TEXTE_INDEX_FILE, LEGENDE_INDEX_FILE, TITRE_INDEX_FILE]):\n",
    "    INDEX[zone] = InvertedIndex.from_dataframe(pandas.read_csv(file, sep=\"\\t\", encoding=\"utf-8\"))\n",
    "    \n",
    "# 3. Charge le dictionnaire de lemmatisation\n",
    "substitutions_df = pandas.read_csv(STEMMED_REPLACEMENTS, sep=\"\\t\", header=None, na_filter=False)\n",
    "substitutions = {inp: repl for inp, repl in zip(substitutions_df.iloc[:,0], substitutions_df.iloc[:,1])}\n",
    "TOKENIZE: Callable[[List[str]], List[str]] = lambda x: [substitutions.get(STANDARDIZE(token), STANDARDIZE(token)) for token in x]\n",
    "\n",
    "# 4. Défini la search function (et l'application de la lemmatisation)\n",
    "def search(s: str) -> List[Document]:\n",
    "    q = Query.build(\n",
    "        'montre moi les articles qui parlent de environnement minimum depuis juillet 2011 et qui nest pas dans la rubrique Focus',\n",
    "    )\n",
    "    for field in [\"keywords\", \"excluded_keywords\", \"title_contains\"]:\n",
    "        setattr(q, field, TOKENIZE(getattr(q, field)))\n",
    "    for field in [\"rubriques\", \"excluded_rubriques\"]:\n",
    "        setattr(q, field, [STANDARDIZE(r) for r in getattr(q, field)])\n",
    "    return q.search(documents=CORPUS, index=INDEX)"
   ]
  },
  {
   "cell_type": "code",
   "execution_count": 57,
   "id": "43a9f4b7",
   "metadata": {},
   "outputs": [
    {
     "data": {
      "text/plain": [
       "[Document(fichier='67794.htm', numero='261', date=datetime.datetime(2011, 9, 29, 0, 0), rubrique='Focus', titre=\"9 milliards d'hommes à nourrir : un défi majeur !\", auteur='ADIT - Jean-François Desessard - email : jfd@adit.fr', contact='François Bourin Editeur - www.bourin-editeur.fr', texte='C\\'est sans doute pour l\\'humanité le défi majeur de ces 40 prochaines années. D\\'ici 2050, alors que la Terre comptera environ 9 milliards d\\'êtres humains, iil faudra en effet réussir à produire en quantité croissante une nourriture répondant à des normes de qualité exigeantes, ceci en respectant mieux l\\'environnement. D\\'où le titre de l\\'ouvrage co-écrit par Marion Guillou, Présidente de l\\'Institut National de la Recherche Agronomique (INRA), et Gérard Matheron, Président du Centre de coopération Internationale en Recherche Agronomique pour le Développement (CIRAD), et publié par François Bourin Editeur. Confronté à cet extraordinaire défi, l\\'homme peut éviter un cataclysme selon les auteurs de cet ouvrage, \"mais cela nécessitera de profonds changements, notamment dans nos habitudes de consommation et de production ici en Europe\", concluent-ils dans la quatrième de couverture. L\\'ouvrage de Marion Guillou et Gérard Matheron Crédits : Francois Bourin Editeur \"Combien de civilisations se sont-elles effondrées, faute de sécurité alimentaire, ou plus précisément par incapacité de leur agriculture à satisfaire les besoins de la population dans un contexte de surexploitation des ressources naturelles ou de dégâts environnementaux irréversibles\", s\\'interrogent les auteurs en introduction de leur ouvrage. Une question qui mérite d\\'être posée alors que l\\'humanité comptera officiellement 7 milliards d\\'êtres humains en novembre prochain et 9 milliards d\\'ici 2050, c\\'est-à-dire demain, dans moins de 40 ans. Se pose alors évidemment une autre question, majeure, celle de nourrir une telle population. \"C\\'est une question que tout le monde se pose mais qui est abordée le plus souvent par le petit bout de la lorgnette en évoquant les récentes émeutes de la faim ou l\\'achat de terre en Afrique par tel ou tel spéculateur\", explique Marion Guillou. Or les deux auteurs, du fait des fonctions qu\\'ils occupent et de leur parcours professionnel, observent depuis longtemps se qui se passe dans l\\'agriculture, l\\'alimentation et l\\'environnement, au nord comme au sud. Qui plus est, ils se connaissent bien, d\\'où l\\'envie de \"donner à voir\" à un large public ce que la science a produit durant ces dernières années autour de ces sujets afin de faire partager à chaque lecteur leur compréhension de ce paysage, même s\\'il n\\'est pas simple. Nécessité de ne pas prolonger les tendances actuelles Leur diagnostic est sans appel : \"Oui nous allons nourrir les 9 milliards d\\'être humains que comptera la Terre en 2050 mais ... à la seule condition de ne pas prolonger les tendances actuelles\", déclarent-ils. Pour Marion Guillou et Gérard Matheron, il est urgent de réagir en tant qu\\'individu, en tant que citoyen, l\\'INRA et le CIRAD, les organismes qu\\'ils président, devant également réagir, \"parce que le temps de la recherche se mesure en dizaines d\\'années\". Sélectionner une plante résistante à la sécheresse, cela demande en effet une quinzaine d\\'années de travail. \"Au cours de ces trente dernières années, l\\'agriculture a été très mal traitée dans l\\'agenda international, notamment par les bailleurs de fonds et une certaine vision politique. Aussi avons-nous décidé d\\'écrire ce livre pour que l\\'agriculture revienne sur le devant de la scène\", explique Gérard Matheron. Une chose est sûre : il va falloir inverser les tendances, sinon nous courrons à la catastrophe. Un exemple, celui du gaspillage où des évolutions importantes sont impératives, évolutions qui dépendent, certes, des connaissances scientifiques mais également du comportement de chacun et de la politique. Autre constat des auteurs de l\\'ouvrage, il ne sera pas possible dans chaque endroit de la planète de nourrir la population qui y habite à partir de ce qu\\'elle produit. Avec le changement climatique, les pays du sud vont être frappés en effet de la double peine. D\\'un côté, la production de leurs terres cultivées va diminuer, de l\\'autre ils disposeront de moins de terres pour l\\'agriculture. Aussi devront-ils accroître leurs échanges avec les pays du nord. \"Pour autant, les pays du sud doivent remettre l\\'accent sur le développement de l\\'agriculture paysanne et investir dans les cultures vivrières et des céréales, c\\'est capital pour s\\'en sortir\", déclare Gérard Matheron. \"Vous ne sortirez pas les populations rurales de la pauvreté si vous ne redéveloppez pas l\\'agriculture locale\", confirme Marion Guillou. Innover et changer notre manière de consommer S\\'appuyant sur 43 années de données rétrospectives collectées dans tous les pays du monde, les auteurs de cet ouvrage ont essayé de se projeter sur les 40 prochaines années et de proposer deux scénarios. Le premier d\\'entre eux montre la poursuite de la tendance actuelle, avec des disparités alimentaires qui s\\'échelonnent selon les différentes régions du monde entre 2 500 et 4.000 kcalories par jour. Le second, est un scénario de rupture, avec 3.000 kcalories par personne, dont 500 kcalories d\\'origine animale, pour l\\'ensemble de la population du globe. \"Il s\\'agissait de montrer quel serait l\\'impact de cette consommation de viande dans les régimes sur les besoins nécessaires en termes de surfaces agricoles pour produire cette viande\", précisent-ils. Ni pessimiste, ni optimiste, Marion Guillou et Gérard Matheron, en scientifiques qu\\'ils restent avant tout, se veulent objectifs et réalistes. \"Il est possible d\\'éviter le cataclysme qu\\'envisagent certains. Cela suppose évidemment d\\'innover considérablement, à tous les niveaux, mais surtout nécessite de changer profondément nos comportements alimentaires et, plus généralement, notre manière de consommer\".', images=[Image(url='http://www4.utc.fr/~lo17/IMAGESWEB/67794_01.jpg', legende=\"L'ouvrage de Marion Guillou et Gérard Matheron\")]),\n",
       " Document(fichier='67389.htm', numero='259', date=datetime.datetime(2011, 7, 22, 0, 0), rubrique='En direct des laboratoires', titre=\"Des neurones particuliers impliqués dans l'apprentissage rapide de la cartographie des lieux\", auteur='ADIT - Jean-François Desessard - email : jfd@adit.fr', contact='Inserm - Unité 901 \"Institut de Neurobiologie de la Méditerranée\" - Jérôme Epsztein : tél. : +33 (0)4 91 82 81 15 - email : epsztein@inmed.univ-mrs.fr', texte='Pour un individu, survivre implique obligatoirement de pouvoir se localiser en permanence dans son environnement. Mais comment le cerveau de cet individu cartographie et mémorise l\\'environnement dans lequel il évolue afin de lui permettre de s\\'orienter ? C\\'est la question à laquelle Jérôme Epsztein, chercheur Inserm au sein de l\\'Unité 901 \"Institut de Neurobiologie de la Méditerranée\", et ses collaborateurs, Michael Brecht de l\\'Université Humboldt de Berlin et Albert Lee de l\\'Institut Médical Howard Hugues en Virginie, tentent d\\'apporter des réponses. Rappelons qu\\'il y a plus de 40 ans, des cellules dites \"de lieu\" ont été découvertes chez l\\'animal. Localisés dans l\\'hippocampe, ces neurones particuliers ne sont activés que lorsque l\\'animal se trouve dans un lieu donné de son environnement. D\\'où leur nom. Reste que jusqu\\'à présent, personne n\\'a encore réussi à expliquer pourquoi certains de ces neurones de l\\'hippocampe sont actifs dans un environnement donné alors que la majorité d\\'entre eux reste silencieux dans un environnement identique. D\\'où l\\'importance des travaux menés par Jérôme Epsztein et ses collaborateurs, des travaux qui les ont conduit à développer une nouvelle technique permettant d\\'enregistrer in vivo l\\'activité intracellulaire des \"cellules de lieu\" chez le rat pendant que celui-ci explore son espace environnant. Très sensible, cette technique permet non seulement d\\'enregistrer les messages envoyés par les cellules, comme le font déjà les techniques classiques, mais également les messages reçus par les neurones ainsi que des propriétés intrinsèques fondamentales des neurones. Ainsi, grâce à cette technique, les chercheurs ont pu comparer très précisément les propriétés des cellules dites \"de lieu\" de celles dites \"silencieuses\", alors que l\\'animal explorait un environnement pour la première fois et apprenait donc à s\\'y repérer. Les enregistrements ainsi effectués ont permis de mettre en évidence, comme les chercheurs le supposaient, que les \"cellules de lieu\" reçoivent davantage de messages excitateurs que les \"celllules silencieuses\" dans un environnement donné. Parallèlement, les chercheurs ont observé que les \"cellules de lieu\" présentent des propriétés intrinsèques différentes des \"cellules silencieuses\" qui facilitent leur réponse à un stimulus donné. Plus surprenant, ces différences de propriétés intrinsèques ont pu être observées avant même que l\\'animal ne soit confronté à une nouvelle expérience à mémoriser. Jérôme Epsetein pense que certains cellules de l\\'hippocampe seraient prédisposées à cartographier et potentiellement à mémoriser le prochain environnement exploré. Reste que le cerveau, complexe et plastique, se réorganise à chaque instant en fonction des sollicitations qu\\'il reçoit. \"Nos travaux s\\'appliquent à l\\'étude du cerveau de ces animaux à un instant donné\", souligne Jérôme Epsztein qui estime qu\\'il se peut fort bien qu\\'à un autre moment pour appréhender un environnement différent, les \"cellules silencieuses\" deviennent \"cellules de lieu\", suite à une modification de leurs propriétés intrinsèques.', images=[]),\n",
       " Document(fichier='67385.htm', numero='259', date=datetime.datetime(2011, 7, 22, 0, 0), rubrique='Actualité Innovation', titre='Produire du biogaz et absorber du CO2 grâce à des micro-algues', auteur='ADIT - Jean-François Desessard - email : jfd@adit.fr', contact='Inria/Sophia Antipolis-Méditerranée - Olivier Bernard : tél. : +33 [4]92 38 77 85 - email : olivier.bernard@inria.fr', texte='Utiliser la digestion de micro-algues par des bactéries pour produire du biométhane biocarburant apparaît comme une solution prometteuse pour l\\'avenir. Avec une croissance plus rapide que les autres végétaux et une utilisation plus efficace de la lumière, les micro-algues présentent en effet un bon rendement énergétique. Depuis plusieurs années, l\\'équipe projet Biocore de l\\'Inria Sophia Antipolis-Méditerranée travaille sur le sujet en collaboration avec ses partenaires de l\\'Inra et de l\\'Ifremer. Et visiblement, les résultats sont au rendez-vous puisque deux brevets ont déjà été déposés, en 2006 puis en 2009. Ils concernent un procédé de méthanisation des micro-algues qui permet d\\'utiliser des résidus de la digestion, comme l\\'ammoniac et les engrais phosphatés, pour nourrir les algues elles-mêmes. Le couplage \"production culture\" permet ainsi de limiter les rejets dans l\\'environnement. De plus, le gaz carbonique fixé par les micro-algues au cours de la photosynthèse est valorisé. Aujourd\\'hui, l\\'Inria est ses partenaires entament une seconde phase d\\'optimisation de ce procédé dans le cadre du projet ANR (Agence Nationale de la Recherche) Symbiose auquel participent également Ecosym, qui est un laboratoire du CNRS, et l\\'entreprise Naskéo Environnement, spécialisée dans la valorisation des déchets. Cela passe notamment par la modélisation de la croissance et du comportement des populations d\\'algues et de bactéries. Ainsi l\\'équipe Biocore de l\\'Inria a conçu des modèles du comportement des micro-algues et des bactéries, modèles qui, dans un second temps, ont été implantés dans des simulateurs numériques. Grâce à ces derniers, il est alors possible de réaliser des expérimentations in silico à moindre coût, par exemple estimer les meilleures conditions d\\'exposition au soleil ou d\\'alimentation des algues pour la production d\\'une quantité élevée de biogaz. La mise en place d\\'un premier système pilote, en extérieur, composé d\\'un bassin de culture ovoïde et d\\'un méthaniseur va permettre ainsi de valider en conditions réelles les résultats obtenus en laboratoire. Restera ensuite à franchir une nouvelle étape, celle du pilote industriel. Pour l\\'heure, une autre piste est également explorer dans le cadre du projet Symbiose. Il s\\'agit d\\'utiliser les micro-algues pour \"nettoyer\" les fumées d\\'usines. Les micro-algues peuvent en effet ingérer une proportion de CO2 pour leur croissance. Aussi pourrait-on les utiliser dans une première étape comme une sorte de filtre, avant de les réutiliser dans une seconde pour produire du biogaz ou du biocarburant.', images=[])]"
      ]
     },
     "execution_count": 57,
     "metadata": {},
     "output_type": "execute_result"
    }
   ],
   "source": [
    "result = search(\"Documents qui parlent d'environnement\")\n",
    "result"
   ]
  },
  {
   "cell_type": "code",
   "execution_count": 59,
   "id": "d7bf96ac",
   "metadata": {},
   "outputs": [
    {
     "data": {
      "text/plain": [
       "['67794.htm', '67389.htm', '67385.htm']"
      ]
     },
     "execution_count": 59,
     "metadata": {},
     "output_type": "execute_result"
    }
   ],
   "source": [
    "[r.document_id for r in result]"
   ]
  },
  {
   "cell_type": "markdown",
   "id": "dc9eb686",
   "metadata": {},
   "source": [
    "## Evaluation des Performances"
   ]
  },
  {
   "cell_type": "code",
   "execution_count": 44,
   "id": "71caa543",
   "metadata": {},
   "outputs": [],
   "source": [
    "TRUTH: Dict[str, List[Document]] = {\n",
    "    \"this is a set of queries\": [\"123\"],\n",
    "    \"mapped to the documents that\": [\"456\"],\n",
    "    \"should be retrieved\": [\"123\", \"456\"],\n",
    "} # TODO : Récupérer les exemples de recherche de Raphael"
   ]
  },
  {
   "cell_type": "markdown",
   "id": "4cdedcfc",
   "metadata": {},
   "source": [
    "### Fonction statistique"
   ]
  },
  {
   "cell_type": "code",
   "execution_count": 61,
   "id": "2ae62e3c",
   "metadata": {},
   "outputs": [],
   "source": [
    "resulting_docs: Callable[[str], List[Document]] = lambda x: [\"123\"]  # lambda x: [d.document_id for d in search(x)]"
   ]
  },
  {
   "cell_type": "markdown",
   "id": "a6a62fa4",
   "metadata": {},
   "source": [
    "### Calcul des métriques"
   ]
  },
  {
   "cell_type": "code",
   "execution_count": 62,
   "id": "57483cdf",
   "metadata": {},
   "outputs": [
    {
     "name": "stderr",
     "output_type": "stream",
     "text": [
      "C:\\Users\\ongki\\AppData\\Local\\Temp\\ipykernel_11980\\3171210285.py:15: FutureWarning: The behavior of DataFrame concatenation with empty or all-NA entries is deprecated. In a future version, this will no longer exclude empty or all-NA columns when determining the result dtypes. To retain the old behavior, exclude the relevant entries before the concat operation.\n",
      "  DATA = pd.concat([DATA, pd.DataFrame([row])], ignore_index=True)\n"
     ]
    },
    {
     "data": {
      "text/html": [
       "<div>\n",
       "<style scoped>\n",
       "    .dataframe tbody tr th:only-of-type {\n",
       "        vertical-align: middle;\n",
       "    }\n",
       "\n",
       "    .dataframe tbody tr th {\n",
       "        vertical-align: top;\n",
       "    }\n",
       "\n",
       "    .dataframe thead th {\n",
       "        text-align: right;\n",
       "    }\n",
       "</style>\n",
       "<table border=\"1\" class=\"dataframe\">\n",
       "  <thead>\n",
       "    <tr style=\"text-align: right;\">\n",
       "      <th></th>\n",
       "      <th>Recall</th>\n",
       "      <th>Precision</th>\n",
       "      <th>Delay</th>\n",
       "      <th>Hint</th>\n",
       "    </tr>\n",
       "  </thead>\n",
       "  <tbody>\n",
       "    <tr>\n",
       "      <th>0</th>\n",
       "      <td>1.0</td>\n",
       "      <td>1.0</td>\n",
       "      <td>0</td>\n",
       "      <td>this is a set of queries</td>\n",
       "    </tr>\n",
       "    <tr>\n",
       "      <th>1</th>\n",
       "      <td>0.0</td>\n",
       "      <td>0.0</td>\n",
       "      <td>0</td>\n",
       "      <td>mapped to the documents that</td>\n",
       "    </tr>\n",
       "    <tr>\n",
       "      <th>2</th>\n",
       "      <td>0.5</td>\n",
       "      <td>1.0</td>\n",
       "      <td>0</td>\n",
       "      <td>should be retrieved</td>\n",
       "    </tr>\n",
       "  </tbody>\n",
       "</table>\n",
       "</div>"
      ],
      "text/plain": [
       "   Recall  Precision Delay                          Hint\n",
       "0     1.0        1.0     0      this is a set of queries\n",
       "1     0.0        0.0     0  mapped to the documents that\n",
       "2     0.5        1.0     0           should be retrieved"
      ]
     },
     "execution_count": 62,
     "metadata": {},
     "output_type": "execute_result"
    }
   ],
   "source": [
    "import pandas as pd\n",
    "\n",
    "DATA = pd.DataFrame(columns=[\"Recall\", \"Precision\", \"Delay\", \"Hint\"])\n",
    "\n",
    "for query, truth in TRUTH.items():\n",
    "    results = resulting_docs(query)\n",
    "\n",
    "    row = {\n",
    "        \"Recall\":    len(set(results) & set(truth)) / len(truth),\n",
    "        \"Precision\": len(set(results) & set(truth)) / len(results),\n",
    "        \"Delay\":     0,\n",
    "        \"Hint\":      query,\n",
    "    }\n",
    "\n",
    "    DATA = pd.concat([DATA, pd.DataFrame([row])], ignore_index=True)\n",
    "\n",
    "DATA"
   ]
  },
  {
   "cell_type": "markdown",
   "id": "b554427e",
   "metadata": {},
   "source": [
    "### Visualisation"
   ]
  },
  {
   "cell_type": "code",
   "execution_count": 69,
   "id": "ed7df0e9",
   "metadata": {},
   "outputs": [
    {
     "data": {
      "text/html": [
       "<div>\n",
       "<style scoped>\n",
       "    .dataframe tbody tr th:only-of-type {\n",
       "        vertical-align: middle;\n",
       "    }\n",
       "\n",
       "    .dataframe tbody tr th {\n",
       "        vertical-align: top;\n",
       "    }\n",
       "\n",
       "    .dataframe thead th {\n",
       "        text-align: right;\n",
       "    }\n",
       "</style>\n",
       "<table border=\"1\" class=\"dataframe\">\n",
       "  <thead>\n",
       "    <tr style=\"text-align: right;\">\n",
       "      <th></th>\n",
       "      <th>Metric</th>\n",
       "      <th>Score</th>\n",
       "    </tr>\n",
       "  </thead>\n",
       "  <tbody>\n",
       "    <tr>\n",
       "      <th>0</th>\n",
       "      <td>Recall</td>\n",
       "      <td>1.0</td>\n",
       "    </tr>\n",
       "    <tr>\n",
       "      <th>1</th>\n",
       "      <td>Recall</td>\n",
       "      <td>0.0</td>\n",
       "    </tr>\n",
       "  </tbody>\n",
       "</table>\n",
       "</div>"
      ],
      "text/plain": [
       "   Metric Score\n",
       "0  Recall   1.0\n",
       "1  Recall   0.0"
      ]
     },
     "execution_count": 69,
     "metadata": {},
     "output_type": "execute_result"
    }
   ],
   "source": [
    "df = DATA.melt(\n",
    "    value_vars=[\"Recall\",\"Precision\",\"Delay\"],\n",
    "    var_name=\"Metric\",\n",
    "    value_name=\"Score\"\n",
    ")\n",
    "df.head(2)"
   ]
  },
  {
   "cell_type": "code",
   "execution_count": 70,
   "id": "457c2fa5",
   "metadata": {},
   "outputs": [
    {
     "data": {
      "text/plain": [
       "<Axes: xlabel='Metric', ylabel='Score'>"
      ]
     },
     "execution_count": 70,
     "metadata": {},
     "output_type": "execute_result"
    },
    {
     "data": {
      "image/png": "[encoded data removed]",
      "text/plain": [
       "<Figure size 640x480 with 1 Axes>"
      ]
     },
     "metadata": {},
     "output_type": "display_data"
    }
   ],
   "source": [
    "import matplotlib.pyplot as plt\n",
    "import seaborn as sns\n",
    "\n",
    "# Boxplots of the metrics\n",
    "sns.boxplot(x=\"Metric\", y=\"Score\", data=df)"
   ]
  },
  {
   "cell_type": "code",
   "execution_count": 72,
   "id": "7a62f367",
   "metadata": {},
   "outputs": [
    {
     "data": {
      "image/png": "[encoded data removed]",
      "text/plain": [
       "<Figure size 2000x600 with 3 Axes>"
      ]
     },
     "metadata": {},
     "output_type": "display_data"
    }
   ],
   "source": [
    "fig, axs = plt.subplots(1, 3, figsize=(20, 6))\n",
    "\n",
    "# Plot using complexity / length of the query (nuage de points qui forme une espèce de courbe)\n",
    "\n",
    "# Plot with lemmatizer or with stemmer (have to change the recording function) (deux boxplots)\n",
    "\n",
    "# Plot with extra tokenization and without extra tokenization (reposer sur le corpus ou plus)\n"
   ]
  }
 ],
 "metadata": {
  "kernelspec": {
   "display_name": ".venv",
   "language": "python",
   "name": "python3"
  },
  "language_info": {
   "codemirror_mode": {
    "name": "ipython",
    "version": 3
   },
   "file_extension": ".py",
   "mimetype": "text/x-python",
   "name": "python",
   "nbconvert_exporter": "python",
   "pygments_lexer": "ipython3",
   "version": "3.12.3"
  }
 },
 "nbformat": 4,
 "nbformat_minor": 5
}
