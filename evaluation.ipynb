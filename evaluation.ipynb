{
 "cells": [
  {
   "cell_type": "markdown",
   "id": "02559c92",
   "metadata": {},
   "source": [
    "# Perfs"
   ]
  },
  {
   "cell_type": "markdown",
   "id": "5735b85f",
   "metadata": {},
   "source": [
    "## Import de la recherche"
   ]
  },
  {
   "cell_type": "code",
   "execution_count": 1,
   "id": "816e7b3a",
   "metadata": {},
   "outputs": [],
   "source": [
    "from typing import Callable, List, Dict\n",
    "from index import Document, Corpus, InvertedIndex, Query\n",
    "\n",
    "import pandas, os, re\n",
    "\n",
    "DATA_FOLDER = os.path.join(os.getcwd(), \"output\")\n",
    "\n",
    "XML_INITIAL_FILE = os.path.join(DATA_FOLDER, \"corpus_initial.xml\")\n",
    "STEMMED_REPLACEMENTS = os.path.join(DATA_FOLDER, \"stemmed_replacement.tsv\")\n",
    "LEMMATIZED_REPLACEMENTS = os.path.join(DATA_FOLDER, \"lemmatized_replacement.tsv\")\n",
    "\n",
    "TEXTE_INDEX_FILE = os.path.join(DATA_FOLDER, \"index_files\", \"texte_index.xml\")\n",
    "LEGENDE_INDEX_FILE = os.path.join(DATA_FOLDER, \"index_files\", \"legende_index.xml\")\n",
    "TITRE_INDEX_FILE = os.path.join(DATA_FOLDER, \"index_files\", \"titre_index.xml\")\n",
    "\n",
    "STORAGE_TAGS = {\"Corpus\": \"corpus\", \"documents\": \"bulletins\", \"Document\": \"bulletin\", \"Image\": \"image\"}\n",
    "\n",
    "STANDARDIZE: Callable[[str], str] = lambda x: re.sub(r\"[^\\w\\s]\", \"\", re.sub(r\"'\", \" \", x.strip().lower()))"
   ]
  },
  {
   "cell_type": "code",
   "execution_count": 2,
   "id": "423af0d5",
   "metadata": {},
   "outputs": [
    {
     "name": "stderr",
     "output_type": "stream",
     "text": [
      "C:\\Users\\ongki\\AppData\\Local\\Temp\\ipykernel_19988\\1112978524.py:8: DtypeWarning: Columns (5,6,7,8,9,10,11,12,13,14,15,16,17,18,19,20,21,22,23,24,25,26,27,28,29,30,31,32,33,34,35,36,37,38,39,40,41,42,43,44,45,46,47,48,49,50,51,52,53,54,55,56,57,58,59,60,61,62,63,64,65,66,67,68,69,70,71,72,73,74,75,76,77,78,79,80,81,82,83,84,85,86,87,88,89,90,91,92,93,94,95,96,97,98,99,100,101,102,103,104,105,106,107,108,109,110,111,112,113,114,115,116,117,118,119,120,121,122,123,124,125,126,127,128,129,130,131,132,133,134,135,136,137,138,139,140,141,142,143,144,145,146,147,148,149,150,151,152,153,154,155,156,157,158,159,160,161,162,163,164,165,166,167,168,169,170,171,172,173,174,175,176,177,178,179,180,181,182,183,184,185,186,187,188,189,190,191,192,193,194,195,196,197,198,199,200,201,202,203,204,205,206,207,208,209,210,211,212,213,214,215,216,217,218,219,220,221,222,223,224,225,226,227,228,229,230,231,232,233,234,235,236,237,238,239,240,241,242,243,244,245,246,247,248,249,250,251,252,253,254,255,256,257,258,259,260,261,262,263,264,265,266,267,268,269,270,271,272,273,274,275,276,277,278,279,280,281,282,283,284,285,286,287,288,289,290,291,292,293,294,295,296,297,298,299,300,301,302,303,304,305,306,307,308,309,310,311,312,313,314,315,316,317,318,319,320,321,322,323,324,325,326,327,328,329,330,331,332,333,334,335,336,337,338,339,340,341,342,343,344,345,346,347,348,349,350,351,352,353,354,355,356,357,358,359,360,361,362,363,364,365,366,367,368,369,370,371,372,373,374,375,376,377,378,379,380,381,382,383,384,385,386,387,388,389,390,391,392,393,394,395,396,397,398,399,400,401,402,403,404,405,406,407,408,409,410,411,412,413,414,415,416,417,418,419,420,421,422,423,424,425,426,427,428,429,430,431,432,433,434,435,436,437,438,439,440,441,442,443,444,445,446,447,448,449,450,451,452,453,454,455,456,457,458,459,460,461,462,463,464,465,466,467,468,469,470,471,472,473,474,475,476,477,478,479,480,481,482,483,484,485,486,487,488,489,490,491,492,493,494,495,496,497,498,499,500,501,502,503,504,505,506,507,508,509,510,511,512,513,514,515,516,517,518,519,520,521,522,523,524,525,526,527,528,529,530,531,532,533,534,535,536,537,538,539,540,541,542,543,544,545,546,547,548,549,550,551,552,553,554,555,556,557,558,559,560,561,562,563,564,565,566,567,568,569,570,571,572,573,574,575,576,577,578,579,580,581,582,583,584,585,586,587,588,589,590,591,592,593,594,595,596,597,598,599,600,601,602,603,604,605,606,607,608,609,610,611,612,613,614,615,616,617,618,619,620,621,622,623,624,625,626,627,628,629,630,631,632,633,634,635,636,637,638,639,640,641,642,643,644,645,646,647,648,649,650,651,652,653,654,655,656,657,658,659,660,661,662,663,664,665,666,667,668,669,670,671,672,673,674,675,676,677,678,679,680,681,682,683,684,685,686,687,688,689,690,691,692,693,694,695,696,697,698,699,700,701,702,703,704,705,706,707,708,709,710,711,712,713,714,715,716,717,718,719,720,721,722,723,724,725,726,727,728,729,730,731,732,733,734,735,736,737,738,739,740,741,742,743,744,745,746,747,748,749,750,751,752,753,754,755,756,757,758,759,760,761,762,763,764,765,766,767,768,769,770,771,772,773,774,775,776,777,778,779,780,781,782,783,784,785,786,787,788,789,790,791,792,793,794,795,796,797,798,799,800,801,802,803,804,805,806,807,808,809,810,811,812,813,814,815,816,817,818,819,820,821,822,823,824,825,826,827,828,829,830,831,832,833,834,835,836,837,838,839,840,841,842,843,844,845,846,847,848,849,850,851,852,853,854,855,856,857,858,859,860,861,862,863,864,865,866,867,868,869,870,871,872,873,874,875,876,877,878,879,880,881,882,883,884,885,886,887,888,889,890,891,892,893,894,895,896,897,898,899,900,901,902,903,904,905,906,907,908,909,910,911,912,913,914,915,916,917,918,919,920,921,922,923,924,925,926,927,928,929,930,931,932,933,934,935,936,937,938,939,940,941,942,943,944,945,946,947,948,949,950,951,952,953,954,955,956,957,958,959,960,961,962,963,964,965,966,967,968,969,970,971,972,973,974,975,976,977,978,979,980) have mixed types. Specify dtype option on import or set low_memory=False.\n",
      "  INDEX[zone] = InvertedIndex.from_dataframe(pandas.read_csv(file, sep=\"\\t\", encoding=\"utf-8\"))\n"
     ]
    }
   ],
   "source": [
    "# 1. Charge le Corpus\n",
    "with open(XML_INITIAL_FILE, \"r\", encoding=\"utf-8\") as f:\n",
    "    CORPUS = Corpus.model_validate_xml(f.read(), tags=STORAGE_TAGS)\n",
    "\n",
    "# 2. Charge l'Index inversé par zone    \n",
    "INDEX: Dict[str, InvertedIndex] = {}\n",
    "for zone, file in zip([\"texte\", \"legendes\", \"titre\"], [TEXTE_INDEX_FILE, LEGENDE_INDEX_FILE, TITRE_INDEX_FILE]):\n",
    "    INDEX[zone] = InvertedIndex.from_dataframe(pandas.read_csv(file, sep=\"\\t\", encoding=\"utf-8\"))\n",
    "    \n",
    "# 3. Charge le dictionnaire de lemmatisation\n",
    "substitutions_df = pandas.read_csv(STEMMED_REPLACEMENTS, sep=\"\\t\", header=None, na_filter=False)\n",
    "substitutions = {inp: repl for inp, repl in zip(substitutions_df.iloc[:,0], substitutions_df.iloc[:,1])}\n",
    "TOKENIZE: Callable[[List[str]], List[str]] = lambda x: [substitutions.get(STANDARDIZE(token), STANDARDIZE(token)) for token in x]\n",
    "\n",
    "# 4. Défini la search function (et l'application de la lemmatisation)\n",
    "def search(s: str) -> List[Document]:\n",
    "    q = Query.build(\n",
    "        'montre moi les articles qui parlent de environnement minimum depuis juillet 2011 et qui nest pas dans la rubrique Focus',\n",
    "    )\n",
    "    for field in [\"keywords\", \"excluded_keywords\", \"title_contains\"]:\n",
    "        setattr(q, field, TOKENIZE(getattr(q, field)))\n",
    "    for field in [\"rubriques\", \"excluded_rubriques\"]:\n",
    "        setattr(q, field, [STANDARDIZE(r) for r in getattr(q, field)])\n",
    "    return q.search(documents=CORPUS, index=INDEX)"
   ]
  },
  {
   "cell_type": "markdown",
   "id": "dc9eb686",
   "metadata": {},
   "source": [
    "## Evaluation des Performances"
   ]
  },
  {
   "cell_type": "code",
   "execution_count": 5,
   "id": "71caa543",
   "metadata": {},
   "outputs": [],
   "source": [
    "TRUTH: Dict[str, List[Document]] = {\n",
    "    \"this is a set of queries\": [\"123\"],\n",
    "    \"mapped to the documents that\": [\"456\"],\n",
    "    \"should be retrieved\": [\"123\", \"456\"],\n",
    "} # TODO : Récupérer les exemples de recherche de Raphael"
   ]
  },
  {
   "cell_type": "markdown",
   "id": "4cdedcfc",
   "metadata": {},
   "source": [
    "### Fonctions statistiques"
   ]
  },
  {
   "cell_type": "code",
   "execution_count": 15,
   "id": "2ae62e3c",
   "metadata": {},
   "outputs": [],
   "source": [
    "search_function: Callable[[str], List[str]] = lambda x: [d.document_id for d in search(x)]"
   ]
  },
  {
   "cell_type": "markdown",
   "id": "a6a62fa4",
   "metadata": {},
   "source": [
    "### Calcul des métriques"
   ]
  },
  {
   "cell_type": "code",
   "execution_count": null,
   "id": "57483cdf",
   "metadata": {},
   "outputs": [
    {
     "name": "stderr",
     "output_type": "stream",
     "text": [
      "C:\\Users\\ongki\\AppData\\Local\\Temp\\ipykernel_19988\\2302032615.py:19: FutureWarning: The behavior of DataFrame concatenation with empty or all-NA entries is deprecated. In a future version, this will no longer exclude empty or all-NA columns when determining the result dtypes. To retain the old behavior, exclude the relevant entries before the concat operation.\n",
      "  DATA[layer] = pandas.concat([DATA[layer], pandas.DataFrame([row])], ignore_index=True)\n"
     ]
    },
    {
     "data": {
      "text/html": [
       "<div>\n",
       "<style scoped>\n",
       "    .dataframe tbody tr th:only-of-type {\n",
       "        vertical-align: middle;\n",
       "    }\n",
       "\n",
       "    .dataframe tbody tr th {\n",
       "        vertical-align: top;\n",
       "    }\n",
       "\n",
       "    .dataframe thead th {\n",
       "        text-align: right;\n",
       "    }\n",
       "</style>\n",
       "<table border=\"1\" class=\"dataframe\">\n",
       "  <thead>\n",
       "    <tr style=\"text-align: right;\">\n",
       "      <th></th>\n",
       "      <th>Recall</th>\n",
       "      <th>Precision</th>\n",
       "      <th>Delay</th>\n",
       "      <th>Hint</th>\n",
       "    </tr>\n",
       "  </thead>\n",
       "  <tbody>\n",
       "    <tr>\n",
       "      <th>0</th>\n",
       "      <td>0.0</td>\n",
       "      <td>0.0</td>\n",
       "      <td>2.557749</td>\n",
       "      <td>this is a set of queries</td>\n",
       "    </tr>\n",
       "    <tr>\n",
       "      <th>1</th>\n",
       "      <td>0.0</td>\n",
       "      <td>0.0</td>\n",
       "      <td>2.464743</td>\n",
       "      <td>mapped to the documents that</td>\n",
       "    </tr>\n",
       "    <tr>\n",
       "      <th>2</th>\n",
       "      <td>0.0</td>\n",
       "      <td>0.0</td>\n",
       "      <td>2.612612</td>\n",
       "      <td>should be retrieved</td>\n",
       "    </tr>\n",
       "  </tbody>\n",
       "</table>\n",
       "</div>"
      ],
      "text/plain": [
       "   Recall  Precision     Delay                          Hint\n",
       "0     0.0        0.0  2.557749      this is a set of queries\n",
       "1     0.0        0.0  2.464743  mapped to the documents that\n",
       "2     0.0        0.0  2.612612           should be retrieved"
      ]
     },
     "execution_count": 18,
     "metadata": {},
     "output_type": "execute_result"
    }
   ],
   "source": [
    "import pandas, datetime\n",
    "\n",
    "DATA: Dict[str, pandas.DataFrame] = {name: pandas.DataFrame(columns=[\"Recall\", \"Precision\", \"Delay\", \"Hint\"]) for name in [\"spacy\", \"stem\"]}\n",
    "\n",
    "for layer, stat in zip([\"spacy\", \"stem\"], [search_function, search_function]):\n",
    "\n",
    "    for query, truth in TRUTH.items():\n",
    "        \n",
    "        start = datetime.datetime.now()\n",
    "        results = stat(query)\n",
    "\n",
    "        row = {\n",
    "            \"Recall\":    len(set(results) & set(truth)) / len(truth),\n",
    "            \"Precision\": len(set(results) & set(truth)) / len(results) if len(results) > 0 else 0.0,\n",
    "            \"Size\":      len(results),\n",
    "            \"Delay\":     (datetime.datetime.now() - start).total_seconds(),\n",
    "            \"Hint\":      query,\n",
    "        }\n",
    "\n",
    "        DATA[layer] = pandas.concat([DATA[layer], pandas.DataFrame([row])], ignore_index=True)\n",
    "\n",
    "DATA[\"spacy\"]"
   ]
  },
  {
   "cell_type": "code",
   "execution_count": 19,
   "id": "f485dca7",
   "metadata": {},
   "outputs": [
    {
     "data": {
      "text/html": [
       "<div>\n",
       "<style scoped>\n",
       "    .dataframe tbody tr th:only-of-type {\n",
       "        vertical-align: middle;\n",
       "    }\n",
       "\n",
       "    .dataframe tbody tr th {\n",
       "        vertical-align: top;\n",
       "    }\n",
       "\n",
       "    .dataframe thead th {\n",
       "        text-align: right;\n",
       "    }\n",
       "</style>\n",
       "<table border=\"1\" class=\"dataframe\">\n",
       "  <thead>\n",
       "    <tr style=\"text-align: right;\">\n",
       "      <th></th>\n",
       "      <th>Recall</th>\n",
       "      <th>Precision</th>\n",
       "      <th>Delay</th>\n",
       "      <th>Hint</th>\n",
       "    </tr>\n",
       "  </thead>\n",
       "  <tbody>\n",
       "    <tr>\n",
       "      <th>0</th>\n",
       "      <td>0.0</td>\n",
       "      <td>0.0</td>\n",
       "      <td>2.301745</td>\n",
       "      <td>this is a set of queries</td>\n",
       "    </tr>\n",
       "    <tr>\n",
       "      <th>1</th>\n",
       "      <td>0.0</td>\n",
       "      <td>0.0</td>\n",
       "      <td>2.507622</td>\n",
       "      <td>mapped to the documents that</td>\n",
       "    </tr>\n",
       "    <tr>\n",
       "      <th>2</th>\n",
       "      <td>0.0</td>\n",
       "      <td>0.0</td>\n",
       "      <td>2.678724</td>\n",
       "      <td>should be retrieved</td>\n",
       "    </tr>\n",
       "  </tbody>\n",
       "</table>\n",
       "</div>"
      ],
      "text/plain": [
       "   Recall  Precision     Delay                          Hint\n",
       "0     0.0        0.0  2.301745      this is a set of queries\n",
       "1     0.0        0.0  2.507622  mapped to the documents that\n",
       "2     0.0        0.0  2.678724           should be retrieved"
      ]
     },
     "execution_count": 19,
     "metadata": {},
     "output_type": "execute_result"
    }
   ],
   "source": [
    "DATA[\"stem\"]"
   ]
  },
  {
   "cell_type": "markdown",
   "id": "b554427e",
   "metadata": {},
   "source": [
    "### Visualisation"
   ]
  },
  {
   "cell_type": "code",
   "execution_count": 20,
   "id": "ed7df0e9",
   "metadata": {},
   "outputs": [
    {
     "data": {
      "text/html": [
       "<div>\n",
       "<style scoped>\n",
       "    .dataframe tbody tr th:only-of-type {\n",
       "        vertical-align: middle;\n",
       "    }\n",
       "\n",
       "    .dataframe tbody tr th {\n",
       "        vertical-align: top;\n",
       "    }\n",
       "\n",
       "    .dataframe thead th {\n",
       "        text-align: right;\n",
       "    }\n",
       "</style>\n",
       "<table border=\"1\" class=\"dataframe\">\n",
       "  <thead>\n",
       "    <tr style=\"text-align: right;\">\n",
       "      <th></th>\n",
       "      <th>Metric</th>\n",
       "      <th>Score</th>\n",
       "    </tr>\n",
       "  </thead>\n",
       "  <tbody>\n",
       "    <tr>\n",
       "      <th>0</th>\n",
       "      <td>Recall</td>\n",
       "      <td>0.0</td>\n",
       "    </tr>\n",
       "    <tr>\n",
       "      <th>1</th>\n",
       "      <td>Recall</td>\n",
       "      <td>0.0</td>\n",
       "    </tr>\n",
       "  </tbody>\n",
       "</table>\n",
       "</div>"
      ],
      "text/plain": [
       "   Metric  Score\n",
       "0  Recall    0.0\n",
       "1  Recall    0.0"
      ]
     },
     "execution_count": 20,
     "metadata": {},
     "output_type": "execute_result"
    }
   ],
   "source": [
    "df = DATA[\"spacy\"].melt(\n",
    "    value_vars=[\"Recall\",\"Precision\",\"Delay\"],\n",
    "    var_name=\"Metric\",\n",
    "    value_name=\"Score\"\n",
    ")\n",
    "df.head(2)"
   ]
  },
  {
   "cell_type": "code",
   "execution_count": 28,
   "id": "457c2fa5",
   "metadata": {},
   "outputs": [
    {
     "data": {
      "text/plain": [
       "<Axes: ylabel='Delay'>"
      ]
     },
     "execution_count": 28,
     "metadata": {},
     "output_type": "execute_result"
    },
    {
     "data": {
      "image/png": "[encoded data removed]",
      "text/plain": [
       "<Figure size 2000x600 with 3 Axes>"
      ]
     },
     "metadata": {},
     "output_type": "display_data"
    }
   ],
   "source": [
    "import matplotlib.pyplot as plt\n",
    "import seaborn as sns\n",
    "\n",
    "fig, axs = plt.subplots(1, 3, figsize=(20, 6))\n",
    "\n",
    "# Boxplots of the metrics\n",
    "sns.boxplot(y=\"Delay\", data=DATA[\"spacy\"], ax=axs[1])"
   ]
  },
  {
   "cell_type": "code",
   "execution_count": null,
   "id": "7a62f367",
   "metadata": {},
   "outputs": [
    {
     "data": {
      "image/png": "[encoded data removed]",
      "text/plain": [
       "<Figure size 2000x600 with 3 Axes>"
      ]
     },
     "metadata": {},
     "output_type": "display_data"
    }
   ],
   "source": [
    "fig, axs = plt.subplots(1, 3, figsize=(20, 6))\n",
    "\n",
    "# Plot using complexity / length of the query (nuage de points qui forme une espèce de courbe)\n",
    "\n",
    "# Plot with lemmatizer or with stemmer (have to change the recording function) (deux boxplots)\n",
    "\n",
    "# Plot with extra tokenization and without extra tokenization (reposer sur le corpus ou plus)\n"
   ]
  }
 ],
 "metadata": {
  "kernelspec": {
   "display_name": ".venv",
   "language": "python",
   "name": "python3"
  },
  "language_info": {
   "codemirror_mode": {
    "name": "ipython",
    "version": 3
   },
   "file_extension": ".py",
   "mimetype": "text/x-python",
   "name": "python",
   "nbconvert_exporter": "python",
   "pygments_lexer": "ipython3",
   "version": "3.12.10"
  }
 },
 "nbformat": 4,
 "nbformat_minor": 5
}
