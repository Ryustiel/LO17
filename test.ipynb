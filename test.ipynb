{
 "cells": [
  {
   "cell_type": "code",
   "execution_count": 1,
   "metadata": {},
   "outputs": [],
   "source": [
    "from index import BS4Parser, Document, Image, CorpusClient\n",
    "BS4CLIENT = BS4Parser()"
   ]
  },
  {
   "cell_type": "code",
   "execution_count": 2,
   "metadata": {},
   "outputs": [
    {
     "data": {
      "text/plain": [
       "Document(fichier='67068.htm', numero='258', date=datetime.datetime(2011, 6, 21, 0, 0), rubrique='Focus', titre='Physique : Mathias Fink, un bel exemple de chercheur qui innove', auteur='ADIT - Jean-François Desessard - email : jfd@adit.fr', contact='Institut Langevin \"Ondes et Images\" - Mathias Fink - email : mathias.fink@espci.fr - http://www.institut-langevin.espci.fr', texte='Le 27 avril dernier, le CNRS décernait pour la première fois la Médaille de l\\'Innovation, dont Valérie Pécresse, ministre de l\\'Enseignement Supérieur et de la Recherche est à l\\'origine de la création. Le CNRS souhaite ainsi honorer des chercheurs et ingénieurs travaillant dans des établissements publics de recherche, des universités, des grandes écoles mais aussi des industriels qui développent des innovations marquantes. Pour cette première édition, cette nouvelle distinction a été attribuée à trois chercheurs réputés : l\\'économiste Esther Duflo, le roboticien François Pierrot et le physicien Mathias Fink. Directeur de l\\'Institut Langevin \"Ondes et Images\", créé en janvier 2009 au sein de l\\'Ecole de Physique et de Chimie Industrielles de la Ville de Paris (ESPCI), Mathias Fink est un remarquable exemple de ces chercheurs qui innovent. Les travaux de son équipe ont en effet abouti à la création de quatre start-ups, qui totalisent 230 personnes, dans des domaines aussi variés que la médecine, les télécommunications, le multimédia ou encore les objets tactiles. \"J\\'aime transformer des idées de physique très fondamentale en produits innovants\", précise d\\'emblée Mathias Fink. Mais pour y parvenir, il fallait trouver le \"terrain\" propice. Et c\\'est à la fin des années 1980, à l\\'occasion d\\'une rencontre avec Georges Charpak, le prix Nobel de Physique 1992, qu\\'il va le découvrir, au coeur de la Montagne Sainte Geneviève, en plein Paris. Alors physicien au sein d\\'un des plus grands laboratoires français de physique du solide, Mathias Fink souhaite faire de l\\'innovation autour du concept de renversement du temps. De la \"belle physique\" comme la qualifient les connaisseurs, qui plus est qui intéresse quatre grands industriels du secteur aéronautique (Dassault, Aerospatial, Snecma, Turboméca), prêts à financer des travaux. Mais à cette époque, le milieu de la recherche est encore peu enclin à travailler avec l\\'industrie, d\\'autant plus si celle-ci est \"militaro-industrielle\". Aussi Mathias Fink se retrouve isolé. Georges Charpak lui propose alors de rencontrer Pierre-Gilles de Gennes, alors directeur de l\\'ESPCI, et Jacques Lewiner, le directeur scientifique. \"C\\'est un endroit sympathique\", lui précise Georges Charpak. \"Je les ai rencontré. L\\'endroit était en effet très sympathique. Ils m\\'ont alors dit : vous voulez Innovez ? Alors venez\", résume Mathias Fink qui ajoute : \"cela a été la chance de ma carrière\". Vous êtes chercheur : amusez-vous C\\'est ainsi que dès 1990, ce physicien crée le Laboratoire Ondes et Acoustique, dans une école qu\\'il qualifie d\\'\"unique\". \"Innover est particulièrement bien vu à l\\'ESPCI, et l\\'on vous donne le feu vert du moment que l\\'idée proposée est très originale\", précise-t-il. Autre particularité de cette école vraiment pas comme les autres Grandes Ecoles, la pluridisciplinarité qui y règne. Ne cherchez pas, vous n\\'y trouverez pas comme ailleurs un département de physique, un département de chimie et un département de biologie. \"Ici, on vous dit dès le départ : vous êtes chercheur, amusez-vous\", souligne-t-il avec une pointe d\\'humour. Et c\\'est en s\\'amusant que lui et son équipe ont développé les fameux miroirs à retournement temporel qui permettent d\\'échantillonner et d\\'enregistrer un champ acoustique incident puis de le réémettre dans une chronologie inversée. Mathias Fink et ses collaborateurs se sont rendus compte en effet que faire revivre à une onde sa vie passée permettait de focaliser cette onde à sa source d\\'une façon très efficace. Ils commencèrent alors à travailler d\\'abord sur les ultrasons, puis sur les ondes sismiques et les micro-ondes. Cette équipe aurait pu se limiter à publier d\\'excellents papiers dans des publications réputées comme Physical Review. Mais ces chercheurs ont compris très vite qu\\'au-delà de cette \"belle physique\", il y avait des applications potentielles. Ainsi le renversement du temps permettait de brûler une tumeur, mais aussi de détruire un composant électronique, ou encore de voir derrière un mur ou d\\'envoyer des informations à un endroit précis dans une pièce. \"Progressivement, nous avons donc développé un certain nombre d\\'instruments originaux qui ont fini par déboucher sur la création de plusieurs start-ups\", indique-t-il. A partir du concept de renversement du temps, Mathias Fink et son équipe ont découvert qu\\'il était possible de créer des images d\\'une autre façon. Aussi sont-ils parvenus à fabriquer des imageurs du corps humain grâce auxquels il est possible d\\'obtenir 10.000 images par seconde du corps humain. \"Nous avons pu alors découvrir que le corps humain était parcouru d\\'ondes que jamais personne n\\'avait observé jusqu\\'alors\", s\\'enthousiasme-t-il. La pluridisciplinarité, clé de la réussite de l\\'Institut Langevin \"Ondes et Images\" Le renversement du temps aurait-il des effets sur l\\'âge de ceux qui le pratiquent ? Au-delà de la boutade, Mathias Fink, âgé aujourd\\'hui de 65 ans, pourrait le laisser croire, tant son enthousiasme reste intact. Ainsi, en 2009 a-t-il concrétisé le rapprochement de son laboratoire avec un autre laboratoire de l\\'ESPCI, celui d\\'Optique Physique, en créant l\\'Institut Langevin \"Ondes et Images\", dont il est le directeur, Arnaud Tourin et Rémi Carminatti en étant les deux directeurs adjoints. Cette Unité Mixte de Recherche (CNRS/ESPCI ParisTech/UPMC/Université Paris-Diderot), qui compte une centaine de personnes, a pour coeur de métier la physique des ondes. Les recherches qui y sont menées s\\'étendent des concepts fondamentaux aux applications les plus poussées de l\\'imagerie multi-ondes (acousto-optique, photo-acoustique, élastographie par ultrasons ou IRM) aux techniques originales de focalisation (retournement temporel, filtre inverse, contrôle de front d\\'ondes), en passant par la création d\\'entreprises mettant en oeuvre ces nouvelles technologies dans les domaines du biomédical, des télécommunications, de la domotique, etc. \"L\\'aventure se poursuit, toujours dans la pluridisciplinarité, qui est la clé de notre réussite. Aussi faut-il impérativement la préserver\", conclut-il.', images=[Image(url='lol', legende='aha'), Image(url='OmO', legende='UwU')])"
      ]
     },
     "execution_count": 2,
     "metadata": {},
     "output_type": "execute_result"
    }
   ],
   "source": [
    "model = BS4CLIENT.process_local_file(\"data/BULLETINS/67068.htm\")\n",
    "model.images = [Image(url=\"lol\", legende=\"aha\"), Image(url=\"OmO\", legende=\"UwU\")]\n",
    "model"
   ]
  },
  {
   "cell_type": "code",
   "execution_count": 3,
   "metadata": {},
   "outputs": [
    {
     "data": {
      "text/plain": [
       "Document(fichier='67068.htm', numero='258', date=datetime.datetime(2025, 3, 20, 15, 40, 33, 976067), rubrique='Focus', titre='Physique : Mathias Fink, un bel exemple de chercheur qui innove', auteur='ADIT - Jean-François Desessard - email : jfd@adit.fr', contact='Institut Langevin \"Ondes et Images\" - Mathias Fink - email : mathias.fink@espci.fr - http://www.institut-langevin.espci.fr', texte='Le 27 avril dernier, le CNRS décernait pour la première fois la Médaille de l\\'Innovation, dont Valérie Pécresse, ministre de l\\'Enseignement Supérieur et de la Recherche est à l\\'origine de la création. Le CNRS souhaite ainsi honorer des chercheurs et ingénieurs travaillant dans des établissements publics de recherche, des universités, des grandes écoles mais aussi des industriels qui développent des innovations marquantes. Pour cette première édition, cette nouvelle distinction a été attribuée à trois chercheurs réputés : l\\'économiste Esther Duflo, le roboticien François Pierrot et le physicien Mathias Fink. Directeur de l\\'Institut Langevin \"Ondes et Images\", créé en janvier 2009 au sein de l\\'Ecole de Physique et de Chimie Industrielles de la Ville de Paris (ESPCI), Mathias Fink est un remarquable exemple de ces chercheurs qui innovent. Les travaux de son équipe ont en effet abouti à la création de quatre start-ups, qui totalisent 230 personnes, dans des domaines aussi variés que la médecine, les télécommunications, le multimédia ou encore les objets tactiles. \"J\\'aime transformer des idées de physique très fondamentale en produits innovants\", précise d\\'emblée Mathias Fink. Mais pour y parvenir, il fallait trouver le \"terrain\" propice. Et c\\'est à la fin des années 1980, à l\\'occasion d\\'une rencontre avec Georges Charpak, le prix Nobel de Physique 1992, qu\\'il va le découvrir, au coeur de la Montagne Sainte Geneviève, en plein Paris. Alors physicien au sein d\\'un des plus grands laboratoires français de physique du solide, Mathias Fink souhaite faire de l\\'innovation autour du concept de renversement du temps. De la \"belle physique\" comme la qualifient les connaisseurs, qui plus est qui intéresse quatre grands industriels du secteur aéronautique (Dassault, Aerospatial, Snecma, Turboméca), prêts à financer des travaux. Mais à cette époque, le milieu de la recherche est encore peu enclin à travailler avec l\\'industrie, d\\'autant plus si celle-ci est \"militaro-industrielle\". Aussi Mathias Fink se retrouve isolé. Georges Charpak lui propose alors de rencontrer Pierre-Gilles de Gennes, alors directeur de l\\'ESPCI, et Jacques Lewiner, le directeur scientifique. \"C\\'est un endroit sympathique\", lui précise Georges Charpak. \"Je les ai rencontré. L\\'endroit était en effet très sympathique. Ils m\\'ont alors dit : vous voulez Innovez ? Alors venez\", résume Mathias Fink qui ajoute : \"cela a été la chance de ma carrière\". Vous êtes chercheur : amusez-vous C\\'est ainsi que dès 1990, ce physicien crée le Laboratoire Ondes et Acoustique, dans une école qu\\'il qualifie d\\'\"unique\". \"Innover est particulièrement bien vu à l\\'ESPCI, et l\\'on vous donne le feu vert du moment que l\\'idée proposée est très originale\", précise-t-il. Autre particularité de cette école vraiment pas comme les autres Grandes Ecoles, la pluridisciplinarité qui y règne. Ne cherchez pas, vous n\\'y trouverez pas comme ailleurs un département de physique, un département de chimie et un département de biologie. \"Ici, on vous dit dès le départ : vous êtes chercheur, amusez-vous\", souligne-t-il avec une pointe d\\'humour. Et c\\'est en s\\'amusant que lui et son équipe ont développé les fameux miroirs à retournement temporel qui permettent d\\'échantillonner et d\\'enregistrer un champ acoustique incident puis de le réémettre dans une chronologie inversée. Mathias Fink et ses collaborateurs se sont rendus compte en effet que faire revivre à une onde sa vie passée permettait de focaliser cette onde à sa source d\\'une façon très efficace. Ils commencèrent alors à travailler d\\'abord sur les ultrasons, puis sur les ondes sismiques et les micro-ondes. Cette équipe aurait pu se limiter à publier d\\'excellents papiers dans des publications réputées comme Physical Review. Mais ces chercheurs ont compris très vite qu\\'au-delà de cette \"belle physique\", il y avait des applications potentielles. Ainsi le renversement du temps permettait de brûler une tumeur, mais aussi de détruire un composant électronique, ou encore de voir derrière un mur ou d\\'envoyer des informations à un endroit précis dans une pièce. \"Progressivement, nous avons donc développé un certain nombre d\\'instruments originaux qui ont fini par déboucher sur la création de plusieurs start-ups\", indique-t-il. A partir du concept de renversement du temps, Mathias Fink et son équipe ont découvert qu\\'il était possible de créer des images d\\'une autre façon. Aussi sont-ils parvenus à fabriquer des imageurs du corps humain grâce auxquels il est possible d\\'obtenir 10.000 images par seconde du corps humain. \"Nous avons pu alors découvrir que le corps humain était parcouru d\\'ondes que jamais personne n\\'avait observé jusqu\\'alors\", s\\'enthousiasme-t-il. La pluridisciplinarité, clé de la réussite de l\\'Institut Langevin \"Ondes et Images\" Le renversement du temps aurait-il des effets sur l\\'âge de ceux qui le pratiquent ? Au-delà de la boutade, Mathias Fink, âgé aujourd\\'hui de 65 ans, pourrait le laisser croire, tant son enthousiasme reste intact. Ainsi, en 2009 a-t-il concrétisé le rapprochement de son laboratoire avec un autre laboratoire de l\\'ESPCI, celui d\\'Optique Physique, en créant l\\'Institut Langevin \"Ondes et Images\", dont il est le directeur, Arnaud Tourin et Rémi Carminatti en étant les deux directeurs adjoints. Cette Unité Mixte de Recherche (CNRS/ESPCI ParisTech/UPMC/Université Paris-Diderot), qui compte une centaine de personnes, a pour coeur de métier la physique des ondes. Les recherches qui y sont menées s\\'étendent des concepts fondamentaux aux applications les plus poussées de l\\'imagerie multi-ondes (acousto-optique, photo-acoustique, élastographie par ultrasons ou IRM) aux techniques originales de focalisation (retournement temporel, filtre inverse, contrôle de front d\\'ondes), en passant par la création d\\'entreprises mettant en oeuvre ces nouvelles technologies dans les domaines du biomédical, des télécommunications, de la domotique, etc. \"L\\'aventure se poursuit, toujours dans la pluridisciplinarité, qui est la clé de notre réussite. Aussi faut-il impérativement la préserver\", conclut-il.', images=[Image(url='lol', legende='aha'), Image(url='OmO', legende='UwU')])"
      ]
     },
     "execution_count": 3,
     "metadata": {},
     "output_type": "execute_result"
    }
   ],
   "source": [
    "import datetime\n",
    "model.date = datetime.datetime.now()\n",
    "model"
   ]
  },
  {
   "cell_type": "code",
   "execution_count": 4,
   "metadata": {},
   "outputs": [
    {
     "data": {
      "text/plain": [
       "'<Document><fichier>67068.htm</fichier><numero>258</numero><date>2025-03-20T15:40:33.976067</date><rubrique>Focus</rubrique><titre>Physique : Mathias Fink, un bel exemple de chercheur qui innove</titre><auteur>ADIT - Jean-François Desessard - email : jfd@adit.fr</auteur><contact>Institut Langevin \"Ondes et Images\" - Mathias Fink - email : mathias.fink@espci.fr - http://www.institut-langevin.espci.fr</contact><texte>Le 27 avril dernier, le CNRS décernait pour la première fois la Médaille de l\\'Innovation, dont Valérie Pécresse, ministre de l\\'Enseignement Supérieur et de la Recherche est à l\\'origine de la création. Le CNRS souhaite ainsi honorer des chercheurs et ingénieurs travaillant dans des établissements publics de recherche, des universités, des grandes écoles mais aussi des industriels qui développent des innovations marquantes. Pour cette première édition, cette nouvelle distinction a été attribuée à trois chercheurs réputés : l\\'économiste Esther Duflo, le roboticien François Pierrot et le physicien Mathias Fink. Directeur de l\\'Institut Langevin \"Ondes et Images\", créé en janvier 2009 au sein de l\\'Ecole de Physique et de Chimie Industrielles de la Ville de Paris (ESPCI), Mathias Fink est un remarquable exemple de ces chercheurs qui innovent. Les travaux de son équipe ont en effet abouti à la création de quatre start-ups, qui totalisent 230 personnes, dans des domaines aussi variés que la médecine, les télécommunications, le multimédia ou encore les objets tactiles. \"J\\'aime transformer des idées de physique très fondamentale en produits innovants\", précise d\\'emblée Mathias Fink. Mais pour y parvenir, il fallait trouver le \"terrain\" propice. Et c\\'est à la fin des années 1980, à l\\'occasion d\\'une rencontre avec Georges Charpak, le prix Nobel de Physique 1992, qu\\'il va le découvrir, au coeur de la Montagne Sainte Geneviève, en plein Paris. Alors physicien au sein d\\'un des plus grands laboratoires français de physique du solide, Mathias Fink souhaite faire de l\\'innovation autour du concept de renversement du temps. De la \"belle physique\" comme la qualifient les connaisseurs, qui plus est qui intéresse quatre grands industriels du secteur aéronautique (Dassault, Aerospatial, Snecma, Turboméca), prêts à financer des travaux. Mais à cette époque, le milieu de la recherche est encore peu enclin à travailler avec l\\'industrie, d\\'autant plus si celle-ci est \"militaro-industrielle\". Aussi Mathias Fink se retrouve isolé. Georges Charpak lui propose alors de rencontrer Pierre-Gilles de Gennes, alors directeur de l\\'ESPCI, et Jacques Lewiner, le directeur scientifique. \"C\\'est un endroit sympathique\", lui précise Georges Charpak. \"Je les ai rencontré. L\\'endroit était en effet très sympathique. Ils m\\'ont alors dit : vous voulez Innovez ? Alors venez\", résume Mathias Fink qui ajoute : \"cela a été la chance de ma carrière\". Vous êtes chercheur : amusez-vous C\\'est ainsi que dès 1990, ce physicien crée le Laboratoire Ondes et Acoustique, dans une école qu\\'il qualifie d\\'\"unique\". \"Innover est particulièrement bien vu à l\\'ESPCI, et l\\'on vous donne le feu vert du moment que l\\'idée proposée est très originale\", précise-t-il. Autre particularité de cette école vraiment pas comme les autres Grandes Ecoles, la pluridisciplinarité qui y règne. Ne cherchez pas, vous n\\'y trouverez pas comme ailleurs un département de physique, un département de chimie et un département de biologie. \"Ici, on vous dit dès le départ : vous êtes chercheur, amusez-vous\", souligne-t-il avec une pointe d\\'humour. Et c\\'est en s\\'amusant que lui et son équipe ont développé les fameux miroirs à retournement temporel qui permettent d\\'échantillonner et d\\'enregistrer un champ acoustique incident puis de le réémettre dans une chronologie inversée. Mathias Fink et ses collaborateurs se sont rendus compte en effet que faire revivre à une onde sa vie passée permettait de focaliser cette onde à sa source d\\'une façon très efficace. Ils commencèrent alors à travailler d\\'abord sur les ultrasons, puis sur les ondes sismiques et les micro-ondes. Cette équipe aurait pu se limiter à publier d\\'excellents papiers dans des publications réputées comme Physical Review. Mais ces chercheurs ont compris très vite qu\\'au-delà de cette \"belle physique\", il y avait des applications potentielles. Ainsi le renversement du temps permettait de brûler une tumeur, mais aussi de détruire un composant électronique, ou encore de voir derrière un mur ou d\\'envoyer des informations à un endroit précis dans une pièce. \"Progressivement, nous avons donc développé un certain nombre d\\'instruments originaux qui ont fini par déboucher sur la création de plusieurs start-ups\", indique-t-il. A partir du concept de renversement du temps, Mathias Fink et son équipe ont découvert qu\\'il était possible de créer des images d\\'une autre façon. Aussi sont-ils parvenus à fabriquer des imageurs du corps humain grâce auxquels il est possible d\\'obtenir 10.000 images par seconde du corps humain. \"Nous avons pu alors découvrir que le corps humain était parcouru d\\'ondes que jamais personne n\\'avait observé jusqu\\'alors\", s\\'enthousiasme-t-il. La pluridisciplinarité, clé de la réussite de l\\'Institut Langevin \"Ondes et Images\" Le renversement du temps aurait-il des effets sur l\\'âge de ceux qui le pratiquent ? Au-delà de la boutade, Mathias Fink, âgé aujourd\\'hui de 65 ans, pourrait le laisser croire, tant son enthousiasme reste intact. Ainsi, en 2009 a-t-il concrétisé le rapprochement de son laboratoire avec un autre laboratoire de l\\'ESPCI, celui d\\'Optique Physique, en créant l\\'Institut Langevin \"Ondes et Images\", dont il est le directeur, Arnaud Tourin et Rémi Carminatti en étant les deux directeurs adjoints. Cette Unité Mixte de Recherche (CNRS/ESPCI ParisTech/UPMC/Université Paris-Diderot), qui compte une centaine de personnes, a pour coeur de métier la physique des ondes. Les recherches qui y sont menées s\\'étendent des concepts fondamentaux aux applications les plus poussées de l\\'imagerie multi-ondes (acousto-optique, photo-acoustique, élastographie par ultrasons ou IRM) aux techniques originales de focalisation (retournement temporel, filtre inverse, contrôle de front d\\'ondes), en passant par la création d\\'entreprises mettant en oeuvre ces nouvelles technologies dans les domaines du biomédical, des télécommunications, de la domotique, etc. \"L\\'aventure se poursuit, toujours dans la pluridisciplinarité, qui est la clé de notre réussite. Aussi faut-il impérativement la préserver\", conclut-il.</texte><images><Image><url>lol</url><legende>aha</legende></Image><Image><url>OmO</url><legende>UwU</legende></Image></images></Document>'"
      ]
     },
     "execution_count": 4,
     "metadata": {},
     "output_type": "execute_result"
    }
   ],
   "source": [
    "xml = model.model_dump_xml_str()\n",
    "xml"
   ]
  },
  {
   "cell_type": "code",
   "execution_count": 5,
   "metadata": {},
   "outputs": [
    {
     "data": {
      "text/plain": [
       "Document(fichier='67068.htm', numero='258', date=datetime.datetime(2025, 3, 20, 15, 40, 33, 976067), rubrique='Focus', titre='Physique : Mathias Fink, un bel exemple de chercheur qui innove', auteur='ADIT - Jean-François Desessard - email : jfd@adit.fr', contact='Institut Langevin \"Ondes et Images\" - Mathias Fink - email : mathias.fink@espci.fr - http://www.institut-langevin.espci.fr', texte='Le 27 avril dernier, le CNRS décernait pour la première fois la Médaille de l\\'Innovation, dont Valérie Pécresse, ministre de l\\'Enseignement Supérieur et de la Recherche est à l\\'origine de la création. Le CNRS souhaite ainsi honorer des chercheurs et ingénieurs travaillant dans des établissements publics de recherche, des universités, des grandes écoles mais aussi des industriels qui développent des innovations marquantes. Pour cette première édition, cette nouvelle distinction a été attribuée à trois chercheurs réputés : l\\'économiste Esther Duflo, le roboticien François Pierrot et le physicien Mathias Fink. Directeur de l\\'Institut Langevin \"Ondes et Images\", créé en janvier 2009 au sein de l\\'Ecole de Physique et de Chimie Industrielles de la Ville de Paris (ESPCI), Mathias Fink est un remarquable exemple de ces chercheurs qui innovent. Les travaux de son équipe ont en effet abouti à la création de quatre start-ups, qui totalisent 230 personnes, dans des domaines aussi variés que la médecine, les télécommunications, le multimédia ou encore les objets tactiles. \"J\\'aime transformer des idées de physique très fondamentale en produits innovants\", précise d\\'emblée Mathias Fink. Mais pour y parvenir, il fallait trouver le \"terrain\" propice. Et c\\'est à la fin des années 1980, à l\\'occasion d\\'une rencontre avec Georges Charpak, le prix Nobel de Physique 1992, qu\\'il va le découvrir, au coeur de la Montagne Sainte Geneviève, en plein Paris. Alors physicien au sein d\\'un des plus grands laboratoires français de physique du solide, Mathias Fink souhaite faire de l\\'innovation autour du concept de renversement du temps. De la \"belle physique\" comme la qualifient les connaisseurs, qui plus est qui intéresse quatre grands industriels du secteur aéronautique (Dassault, Aerospatial, Snecma, Turboméca), prêts à financer des travaux. Mais à cette époque, le milieu de la recherche est encore peu enclin à travailler avec l\\'industrie, d\\'autant plus si celle-ci est \"militaro-industrielle\". Aussi Mathias Fink se retrouve isolé. Georges Charpak lui propose alors de rencontrer Pierre-Gilles de Gennes, alors directeur de l\\'ESPCI, et Jacques Lewiner, le directeur scientifique. \"C\\'est un endroit sympathique\", lui précise Georges Charpak. \"Je les ai rencontré. L\\'endroit était en effet très sympathique. Ils m\\'ont alors dit : vous voulez Innovez ? Alors venez\", résume Mathias Fink qui ajoute : \"cela a été la chance de ma carrière\". Vous êtes chercheur : amusez-vous C\\'est ainsi que dès 1990, ce physicien crée le Laboratoire Ondes et Acoustique, dans une école qu\\'il qualifie d\\'\"unique\". \"Innover est particulièrement bien vu à l\\'ESPCI, et l\\'on vous donne le feu vert du moment que l\\'idée proposée est très originale\", précise-t-il. Autre particularité de cette école vraiment pas comme les autres Grandes Ecoles, la pluridisciplinarité qui y règne. Ne cherchez pas, vous n\\'y trouverez pas comme ailleurs un département de physique, un département de chimie et un département de biologie. \"Ici, on vous dit dès le départ : vous êtes chercheur, amusez-vous\", souligne-t-il avec une pointe d\\'humour. Et c\\'est en s\\'amusant que lui et son équipe ont développé les fameux miroirs à retournement temporel qui permettent d\\'échantillonner et d\\'enregistrer un champ acoustique incident puis de le réémettre dans une chronologie inversée. Mathias Fink et ses collaborateurs se sont rendus compte en effet que faire revivre à une onde sa vie passée permettait de focaliser cette onde à sa source d\\'une façon très efficace. Ils commencèrent alors à travailler d\\'abord sur les ultrasons, puis sur les ondes sismiques et les micro-ondes. Cette équipe aurait pu se limiter à publier d\\'excellents papiers dans des publications réputées comme Physical Review. Mais ces chercheurs ont compris très vite qu\\'au-delà de cette \"belle physique\", il y avait des applications potentielles. Ainsi le renversement du temps permettait de brûler une tumeur, mais aussi de détruire un composant électronique, ou encore de voir derrière un mur ou d\\'envoyer des informations à un endroit précis dans une pièce. \"Progressivement, nous avons donc développé un certain nombre d\\'instruments originaux qui ont fini par déboucher sur la création de plusieurs start-ups\", indique-t-il. A partir du concept de renversement du temps, Mathias Fink et son équipe ont découvert qu\\'il était possible de créer des images d\\'une autre façon. Aussi sont-ils parvenus à fabriquer des imageurs du corps humain grâce auxquels il est possible d\\'obtenir 10.000 images par seconde du corps humain. \"Nous avons pu alors découvrir que le corps humain était parcouru d\\'ondes que jamais personne n\\'avait observé jusqu\\'alors\", s\\'enthousiasme-t-il. La pluridisciplinarité, clé de la réussite de l\\'Institut Langevin \"Ondes et Images\" Le renversement du temps aurait-il des effets sur l\\'âge de ceux qui le pratiquent ? Au-delà de la boutade, Mathias Fink, âgé aujourd\\'hui de 65 ans, pourrait le laisser croire, tant son enthousiasme reste intact. Ainsi, en 2009 a-t-il concrétisé le rapprochement de son laboratoire avec un autre laboratoire de l\\'ESPCI, celui d\\'Optique Physique, en créant l\\'Institut Langevin \"Ondes et Images\", dont il est le directeur, Arnaud Tourin et Rémi Carminatti en étant les deux directeurs adjoints. Cette Unité Mixte de Recherche (CNRS/ESPCI ParisTech/UPMC/Université Paris-Diderot), qui compte une centaine de personnes, a pour coeur de métier la physique des ondes. Les recherches qui y sont menées s\\'étendent des concepts fondamentaux aux applications les plus poussées de l\\'imagerie multi-ondes (acousto-optique, photo-acoustique, élastographie par ultrasons ou IRM) aux techniques originales de focalisation (retournement temporel, filtre inverse, contrôle de front d\\'ondes), en passant par la création d\\'entreprises mettant en oeuvre ces nouvelles technologies dans les domaines du biomédical, des télécommunications, de la domotique, etc. \"L\\'aventure se poursuit, toujours dans la pluridisciplinarité, qui est la clé de notre réussite. Aussi faut-il impérativement la préserver\", conclut-il.', images=[Image(url='lol', legende='aha'), Image(url='OmO', legende='UwU')])"
      ]
     },
     "execution_count": 5,
     "metadata": {},
     "output_type": "execute_result"
    }
   ],
   "source": [
    "Document.model_validate_xml(xml)"
   ]
  },
  {
   "cell_type": "code",
   "execution_count": 6,
   "metadata": {},
   "outputs": [
    {
     "data": {
      "text/plain": [
       "[Document(fichier='67068.htm', numero='258', date=datetime.datetime(2011, 6, 21, 0, 0), rubrique='Focus', titre='Physique : Mathias Fink, un bel exemple de chercheur qui innove', auteur='ADIT - Jean-François Desessard - email : jfd@adit.fr', contact='Institut Langevin \"Ondes et Images\" - Mathias Fink - email : mathias.fink@espci.fr - http://www.institut-langevin.espci.fr', texte='Le 27 avril dernier, le CNRS décernait pour la première fois la Médaille de l\\'Innovation, dont Valérie Pécresse, ministre de l\\'Enseignement Supérieur et de la Recherche est à l\\'origine de la création. Le CNRS souhaite ainsi honorer des chercheurs et ingénieurs travaillant dans des établissements publics de recherche, des universités, des grandes écoles mais aussi des industriels qui développent des innovations marquantes. Pour cette première édition, cette nouvelle distinction a été attribuée à trois chercheurs réputés : l\\'économiste Esther Duflo, le roboticien François Pierrot et le physicien Mathias Fink. Directeur de l\\'Institut Langevin \"Ondes et Images\", créé en janvier 2009 au sein de l\\'Ecole de Physique et de Chimie Industrielles de la Ville de Paris (ESPCI), Mathias Fink est un remarquable exemple de ces chercheurs qui innovent. Les travaux de son équipe ont en effet abouti à la création de quatre start-ups, qui totalisent 230 personnes, dans des domaines aussi variés que la médecine, les télécommunications, le multimédia ou encore les objets tactiles. \"J\\'aime transformer des idées de physique très fondamentale en produits innovants\", précise d\\'emblée Mathias Fink. Mais pour y parvenir, il fallait trouver le \"terrain\" propice. Et c\\'est à la fin des années 1980, à l\\'occasion d\\'une rencontre avec Georges Charpak, le prix Nobel de Physique 1992, qu\\'il va le découvrir, au coeur de la Montagne Sainte Geneviève, en plein Paris. Alors physicien au sein d\\'un des plus grands laboratoires français de physique du solide, Mathias Fink souhaite faire de l\\'innovation autour du concept de renversement du temps. De la \"belle physique\" comme la qualifient les connaisseurs, qui plus est qui intéresse quatre grands industriels du secteur aéronautique (Dassault, Aerospatial, Snecma, Turboméca), prêts à financer des travaux. Mais à cette époque, le milieu de la recherche est encore peu enclin à travailler avec l\\'industrie, d\\'autant plus si celle-ci est \"militaro-industrielle\". Aussi Mathias Fink se retrouve isolé. Georges Charpak lui propose alors de rencontrer Pierre-Gilles de Gennes, alors directeur de l\\'ESPCI, et Jacques Lewiner, le directeur scientifique. \"C\\'est un endroit sympathique\", lui précise Georges Charpak. \"Je les ai rencontré. L\\'endroit était en effet très sympathique. Ils m\\'ont alors dit : vous voulez Innovez ? Alors venez\", résume Mathias Fink qui ajoute : \"cela a été la chance de ma carrière\". Vous êtes chercheur : amusez-vous C\\'est ainsi que dès 1990, ce physicien crée le Laboratoire Ondes et Acoustique, dans une école qu\\'il qualifie d\\'\"unique\". \"Innover est particulièrement bien vu à l\\'ESPCI, et l\\'on vous donne le feu vert du moment que l\\'idée proposée est très originale\", précise-t-il. Autre particularité de cette école vraiment pas comme les autres Grandes Ecoles, la pluridisciplinarité qui y règne. Ne cherchez pas, vous n\\'y trouverez pas comme ailleurs un département de physique, un département de chimie et un département de biologie. \"Ici, on vous dit dès le départ : vous êtes chercheur, amusez-vous\", souligne-t-il avec une pointe d\\'humour. Et c\\'est en s\\'amusant que lui et son équipe ont développé les fameux miroirs à retournement temporel qui permettent d\\'échantillonner et d\\'enregistrer un champ acoustique incident puis de le réémettre dans une chronologie inversée. Mathias Fink et ses collaborateurs se sont rendus compte en effet que faire revivre à une onde sa vie passée permettait de focaliser cette onde à sa source d\\'une façon très efficace. Ils commencèrent alors à travailler d\\'abord sur les ultrasons, puis sur les ondes sismiques et les micro-ondes. Cette équipe aurait pu se limiter à publier d\\'excellents papiers dans des publications réputées comme Physical Review. Mais ces chercheurs ont compris très vite qu\\'au-delà de cette \"belle physique\", il y avait des applications potentielles. Ainsi le renversement du temps permettait de brûler une tumeur, mais aussi de détruire un composant électronique, ou encore de voir derrière un mur ou d\\'envoyer des informations à un endroit précis dans une pièce. \"Progressivement, nous avons donc développé un certain nombre d\\'instruments originaux qui ont fini par déboucher sur la création de plusieurs start-ups\", indique-t-il. A partir du concept de renversement du temps, Mathias Fink et son équipe ont découvert qu\\'il était possible de créer des images d\\'une autre façon. Aussi sont-ils parvenus à fabriquer des imageurs du corps humain grâce auxquels il est possible d\\'obtenir 10.000 images par seconde du corps humain. \"Nous avons pu alors découvrir que le corps humain était parcouru d\\'ondes que jamais personne n\\'avait observé jusqu\\'alors\", s\\'enthousiasme-t-il. La pluridisciplinarité, clé de la réussite de l\\'Institut Langevin \"Ondes et Images\" Le renversement du temps aurait-il des effets sur l\\'âge de ceux qui le pratiquent ? Au-delà de la boutade, Mathias Fink, âgé aujourd\\'hui de 65 ans, pourrait le laisser croire, tant son enthousiasme reste intact. Ainsi, en 2009 a-t-il concrétisé le rapprochement de son laboratoire avec un autre laboratoire de l\\'ESPCI, celui d\\'Optique Physique, en créant l\\'Institut Langevin \"Ondes et Images\", dont il est le directeur, Arnaud Tourin et Rémi Carminatti en étant les deux directeurs adjoints. Cette Unité Mixte de Recherche (CNRS/ESPCI ParisTech/UPMC/Université Paris-Diderot), qui compte une centaine de personnes, a pour coeur de métier la physique des ondes. Les recherches qui y sont menées s\\'étendent des concepts fondamentaux aux applications les plus poussées de l\\'imagerie multi-ondes (acousto-optique, photo-acoustique, élastographie par ultrasons ou IRM) aux techniques originales de focalisation (retournement temporel, filtre inverse, contrôle de front d\\'ondes), en passant par la création d\\'entreprises mettant en oeuvre ces nouvelles technologies dans les domaines du biomédical, des télécommunications, de la domotique, etc. \"L\\'aventure se poursuit, toujours dans la pluridisciplinarité, qui est la clé de notre réussite. Aussi faut-il impérativement la préserver\", conclut-il.', images=[]),\n",
       " Document(fichier='67071.htm', numero='258', date=datetime.datetime(2011, 6, 21, 0, 0), rubrique='Actualité Innovation', titre=\"Recherche pour l'environnement : AllEnvi publie son premier rapport\", auteur='ADIT - Jean-François Desessard - email : jfd@adit.fr', contact='AllEnvi - http://www.allenvi.fr', texte='AllENVI, l\\'Alliance nationale de recherche pour l\\'Environnement, a été créée le 9 février 2010, à l\\'initiative de Valérie Pécresse, ministre de l\\'Enseignement supérieur et de la Recherche. \"L\\'environnement est un système complexe qui recouvre un champ très étendu, de l\\'agroécologie à l\\'aménagement des territoires, en passant par les sciences de la mer ou du climat. Biologie, écologie, physico-chimie, mathématiques appliquées, géographie, sciences économiques et sociales ... Toutes les disciplines sont mobilisées par les sciences environnementales\", rappelle en introduction Roger Genet, Président d\\'AllEnvi et directeur général du Cemagref. D\\'où la nécessité pour mieux programmer et coordonner l\\'interdisciplinarité qui caractérise cette recherche de regrouper les principaux opérateurs de recherche dans le domaine de l\\'environnement au sein de cette Alliance nationale de recherche pour l\\'Environnement qui compte 12 membres fondateurs [1] Alimentation, Eau, Climat et Territoires constituent les quatre grands enjeux d\\'AllEnvi. De véritables défis à relever pour les décennies à venir puisqu\\'il s\\'agira notamment en matière d\\'alimentation de parvenir à nourrir 9 milliards d\\'individus à l\\'horizon 2050. Concernant l\\'eau, son accès devra être garanti au plan mondial, non seulement en qualité mais nécessairement en quantité. Autre défi de taille auquel l\\'humanité devra faire face, les changements climatiques et l\\'érosion de la biodiversité. Enfin, toutes les populations de la planète devront respecter un impératif, celui de la qualité environnementale des territoires. Au sein d\\'AllEnvi, le travail des chercheurs est organisé en 12 groupes thématiques, réunissant plus de 250 experts scientifiques : \"Agroécologie et Sol\", \"Aliments et Alimentation\", \"Biodiversité\", \"Biologie des plantes\", \"Climat (Evolution, Adaptation, Atténuation, Impacts)\", \"Eau\", \"Ecotechnologies et Chimie durable\", \"Sciences de la mer et Ressources marines\", \"Risques environnementaux, naturels et écotoxiques\", \"Territoires et Ressources naturelles\", \"Villes et Mobilités\", \"Evaluation environnementale et Cycle de vie\". \"Un nouvel élan a été initié\", déclare le Président d\\'AllEnvi. \"Il revient maintenant à nos 15.000 scientifiques, chercheurs, ingénieurs et techniciens, d\\'identifier, concevoir, valider et déployer les solutions qui permettront de relever les défis de la transition écologique vers une croissante verte\", conclut-il dans l\\'introduction du premier rapport publié par cette Alliance nationale de recherche pour l\\'Environnement. -- [1] BRGM, CEA, Cemagref, Cirad, CNRS, Ifremer, IFSTTAR, INRA, IRD, Conférence des Présidents d\\'Universités, Météo France, Muséum National d\\'Histoire Naturelle', images=[]),\n",
       " Document(fichier='67383.htm', numero='259', date=datetime.datetime(2011, 7, 22, 0, 0), rubrique='Focus', titre=\"Une médaille de l'innovation qui récompense un roboticien qui ne cesse d'innover\", auteur='ADIT - Jean-François Desessard - email : jfd@adit.fr', contact='Lirmm - François Pierrot - email : francois.pierrot@lirmm.fr', texte='Le 27 avril dernier, le CNRS a décerné pour la première fois la Médaille de l\\'Innovation. Parmi les trois lauréats, François Pierrot, directeur de recherche au CNRS au sein du Laboratoire d\\'Informatique, de Robotique et de Microélectronique de Montpellier, le LIRMM. Réputé mondialement, ce roboticien a notamment participé à la conception et au développement du robot parallèle le plus rapide du monde dont le brevet a été racheté par l\\'entreprise américaine leader dans le domaine des systèmes robotisés, Adept. Autant dire que contrairement à beaucoup de gens qui dissertent sur l\\'innovation, ce chercheur, lui, sait ce qu\\'est l\\'innovation puisqu\\'il la vit et la pratique au quotidien. Qui plus est, il en parle remarquablement bien. \"Pour innover, il faut évidemment des idées, c\\'est indispensable, mais aussi souvent beaucoup de chance. Or depuis le début de ma carrière, je n\\'ai cessé d\\'en avoir\", déclare-t-il d\\'emblée. Il rappelle que la première chance de sa carrière professionnelle est d\\'avoir été recruté au CNRS \"qui me soutient depuis plus de vingt ans et m\\'accorde une très grande liberté dans mon travail, ce qui est important\". Pour lui, l\\'innovation n\\'est pas un travail solitaire, bien au contraire. D\\'où la nécessité de disposer d\\'une équipe. Et sa seconde chance est d\\'avoir été recruté à Montpellier, une ville magnifique qui dispose d\\'un potentiel de recherche tout à fait exceptionnel et en particulier d\\'un laboratoire réputé mondialement, le LIRMM. \"Ce laboratoire exceptionnel renferme une équipe de robotique qui concentre de grands talents avec lesquels je travaille au quotidien. Et tous ensemble, nous avons pu transformer nos idées en produits, notamment en France, en Europe, aux Etats-Unis et au Japon, et créer une entreprise, Wany Robotics\", s\\'enthousiasme-t-il. François Pierrot rappelle que la démarche d\\'innovation est en fait la conjonction d\\'un problème théorique qui, en général, sert de fil conducteur à une thèse, et d\\'un problème industriel. De cette rencontre va émerger des prototypes, à la fois cohérents avec la démarche scientifique théorique et proche du besoin industriel. \"C\\'est à partir de ces prototypes que nous allons pouvoir faire des démonstrations auprès d\\'industriels potentiellement intéressés et chercher à aller le plus loin possible afin d\\'aboutir à des solutions crédibles qui puissent avoir un sens à la fois scientifique, technique et, éventuellement, économique, si l\\'objectif est de mettre un produit sur le marché\", résume-t-il. C\\'est en appliquant cette démarche que son équipe a conçu le robot parallèle le plus rapide de tout le marché mondial. \"La clé de l\\'innovation de ce robot ce sont les quatre chaînes en parallèle qui agissent toutes en même temps sur un seul organe ce qui permet de déplacer extrêmement vite par exemple des chocolats lors de leur mise en boîte ou des poissons dans des barquettes, voire, dans le secteur de la microélectronique, déplacer le plus vite possible des composants que l\\'on cherche à assembler\", explique-t-il. Aujourd\\'hui, François Pierrot poursuit différents projets, en particulier avec une fondation de recherche privée espagnole, Tecnalia. \"Cette fondation a été pour nous le véritable relais pour transformer nos connaissances en avantages compétitifs dans les entreprises\", souligne le chercheur du Lirmm. Il y a quatre ans, cette fondation a même créé une filiale à Montpellier. La chance, toujours cette chance qu\\'évoque François Pierrot. Celle de travailler dans un établissement de recherche qui l\\'a \"laissé vivre sa vie\", de collaborer avec des collègues remarquablement créatifs, enfin de trouver le relais nécessaire avec Tecnalia. Et puis beaucoup d\\'idées, originales. Telle est la recette pour innover selon le chercheur de Montpellier.', images=[]),\n",
       " Document(fichier='67385.htm', numero='259', date=datetime.datetime(2011, 7, 22, 0, 0), rubrique='Actualité Innovation', titre='Produire du biogaz et absorber du CO2 grâce à des micro-algues', auteur='ADIT - Jean-François Desessard - email : jfd@adit.fr', contact='Inria/Sophia Antipolis-Méditerranée - Olivier Bernard : tél. : +33 [4]92 38 77 85 - email : olivier.bernard@inria.fr', texte='Utiliser la digestion de micro-algues par des bactéries pour produire du biométhane biocarburant apparaît comme une solution prometteuse pour l\\'avenir. Avec une croissance plus rapide que les autres végétaux et une utilisation plus efficace de la lumière, les micro-algues présentent en effet un bon rendement énergétique. Depuis plusieurs années, l\\'équipe projet Biocore de l\\'Inria Sophia Antipolis-Méditerranée travaille sur le sujet en collaboration avec ses partenaires de l\\'Inra et de l\\'Ifremer. Et visiblement, les résultats sont au rendez-vous puisque deux brevets ont déjà été déposés, en 2006 puis en 2009. Ils concernent un procédé de méthanisation des micro-algues qui permet d\\'utiliser des résidus de la digestion, comme l\\'ammoniac et les engrais phosphatés, pour nourrir les algues elles-mêmes. Le couplage \"production culture\" permet ainsi de limiter les rejets dans l\\'environnement. De plus, le gaz carbonique fixé par les micro-algues au cours de la photosynthèse est valorisé. Aujourd\\'hui, l\\'Inria est ses partenaires entament une seconde phase d\\'optimisation de ce procédé dans le cadre du projet ANR (Agence Nationale de la Recherche) Symbiose auquel participent également Ecosym, qui est un laboratoire du CNRS, et l\\'entreprise Naskéo Environnement, spécialisée dans la valorisation des déchets. Cela passe notamment par la modélisation de la croissance et du comportement des populations d\\'algues et de bactéries. Ainsi l\\'équipe Biocore de l\\'Inria a conçu des modèles du comportement des micro-algues et des bactéries, modèles qui, dans un second temps, ont été implantés dans des simulateurs numériques. Grâce à ces derniers, il est alors possible de réaliser des expérimentations in silico à moindre coût, par exemple estimer les meilleures conditions d\\'exposition au soleil ou d\\'alimentation des algues pour la production d\\'une quantité élevée de biogaz. La mise en place d\\'un premier système pilote, en extérieur, composé d\\'un bassin de culture ovoïde et d\\'un méthaniseur va permettre ainsi de valider en conditions réelles les résultats obtenus en laboratoire. Restera ensuite à franchir une nouvelle étape, celle du pilote industriel. Pour l\\'heure, une autre piste est également explorer dans le cadre du projet Symbiose. Il s\\'agit d\\'utiliser les micro-algues pour \"nettoyer\" les fumées d\\'usines. Les micro-algues peuvent en effet ingérer une proportion de CO2 pour leur croissance. Aussi pourrait-on les utiliser dans une première étape comme une sorte de filtre, avant de les réutiliser dans une seconde pour produire du biogaz ou du biocarburant.', images=[]),\n",
       " Document(fichier='67386.htm', numero='259', date=datetime.datetime(2011, 7, 22, 0, 0), rubrique='Actualité Innovation', titre='Des réseaux de capteurs sans fil à moindre coût pour les usines', auteur='ADIT - Jean-François Desessard - email : jfd@adit.fr', contact='Inria/Paris-Rocquencourt - Pascale Minet : tél. : +33 (0)1 39 63 52 33 - email : pascale.minet@inria.fr', texte='Le réseau sans fil est un concept qui évoque évidemment les secteurs de la téléphonie et de l\\'Internet mobiles. Pour autant, il existe d\\'autres types de réseaux sans fil, plus complexes, dont le fonctionnement ne nécessite pas l\\'utilisation de relais fixes, comme pour les télécommunications, mais de relais mobiles. Il s\\'agit de réseaux qui permettent de communiquer avec des capteurs dispersés sur de vastes sites industriels non équipés de réseau câblé afin d\\'indiquer le dépassement d\\'un seuil de pollution ou de degré d\\'usure d\\'éléments de machines. Le problème est que ces informations sont envoyées par ondes radio dont la portée n\\'est que de quelques dizaines de mètres. D\\'où la nécessité d\\'utiliser des capteurs relais intermédiaires. \"La difficulté est de combiner les exigences des industriels, à savoir minimiser la consommation énergétique, la plupart des capteurs fonctionnant sur batteries, et garantir l\\'envoi du message dans les délais impartis, tout en étant compatible avec les interfaces existantes\", explique Pascale Minet, de l\\'équipe-projet Hipercom de l\\'Inria. Ajoutons que les capteurs ne disposant que de capacités de mémoire très limitées, les programmes développés doivent être très simples. Dans le cadre du projet ANR (Agence Nationale de la Recherche) Ocari, que coordonne EDF et qui rassemble aussi bien des acteurs du secteur académique comme les universités de Clermont-Ferrand, Toulouse et Paris-Sud, et l\\'Inria, que des industriels (DCNS et Telit), l\\'Inria a mis au point un protocole qui permet de choisir les bons relais en prenant en compte l\\'existence de relais mobile, par exemple des capteurs portés par un intervenant humain. Des capteurs qui disposent de trois états possibles : transmission, réception, veille. \"Notre protocole vise à les laisser le plus souvent en veille, tout en garantissant l\\'envoi du message dans les délais, en évitant de passer toujours par les mêmes capteurs\", précise la chercheuse de l\\'Inria. Dès septembre prochain, des tests en vraie grandeur doivent réalisés dans les usines d\\'EDF et du constructeur naval militaire qu\\'est la DCNS.', images=[])]"
      ]
     },
     "execution_count": 6,
     "metadata": {},
     "output_type": "execute_result"
    }
   ],
   "source": [
    "BS4CLIENT.process_folder(\"data/BULLETINS\", limit=5)"
   ]
  },
  {
   "cell_type": "code",
   "execution_count": 7,
   "metadata": {},
   "outputs": [],
   "source": [
    "CORPUS = CorpusClient.from_folder(BS4CLIENT, \"data/BULLETINS\", limit=10)"
   ]
  },
  {
   "cell_type": "code",
   "execution_count": 8,
   "metadata": {},
   "outputs": [
    {
     "data": {
      "text/plain": [
       "10"
      ]
     },
     "execution_count": 8,
     "metadata": {},
     "output_type": "execute_result"
    }
   ],
   "source": [
    "len(CORPUS.documents)"
   ]
  },
  {
   "cell_type": "code",
   "execution_count": 9,
   "metadata": {},
   "outputs": [
    {
     "data": {
      "text/html": [
       "<div>\n",
       "<style scoped>\n",
       "    .dataframe tbody tr th:only-of-type {\n",
       "        vertical-align: middle;\n",
       "    }\n",
       "\n",
       "    .dataframe tbody tr th {\n",
       "        vertical-align: top;\n",
       "    }\n",
       "\n",
       "    .dataframe thead th {\n",
       "        text-align: right;\n",
       "    }\n",
       "</style>\n",
       "<table border=\"1\" class=\"dataframe\">\n",
       "  <thead>\n",
       "    <tr style=\"text-align: right;\">\n",
       "      <th></th>\n",
       "      <th>token</th>\n",
       "      <th>filename</th>\n",
       "    </tr>\n",
       "  </thead>\n",
       "  <tbody>\n",
       "    <tr>\n",
       "      <th>0</th>\n",
       "      <td>pu</td>\n",
       "      <td>67068.htm</td>\n",
       "    </tr>\n",
       "    <tr>\n",
       "      <th>1</th>\n",
       "      <td>linnovation</td>\n",
       "      <td>67068.htm</td>\n",
       "    </tr>\n",
       "    <tr>\n",
       "      <th>2</th>\n",
       "      <td>ajoute</td>\n",
       "      <td>67068.htm</td>\n",
       "    </tr>\n",
       "    <tr>\n",
       "      <th>3</th>\n",
       "      <td>fondamentaux</td>\n",
       "      <td>67068.htm</td>\n",
       "    </tr>\n",
       "    <tr>\n",
       "      <th>4</th>\n",
       "      <td>la</td>\n",
       "      <td>67068.htm</td>\n",
       "    </tr>\n",
       "    <tr>\n",
       "      <th>...</th>\n",
       "      <td>...</td>\n",
       "      <td>...</td>\n",
       "    </tr>\n",
       "    <tr>\n",
       "      <th>2530</th>\n",
       "      <td>limportance</td>\n",
       "      <td>67391.htm</td>\n",
       "    </tr>\n",
       "    <tr>\n",
       "      <th>2531</th>\n",
       "      <td>membranaire</td>\n",
       "      <td>67391.htm</td>\n",
       "    </tr>\n",
       "    <tr>\n",
       "      <th>2532</th>\n",
       "      <td>pays</td>\n",
       "      <td>67391.htm</td>\n",
       "    </tr>\n",
       "    <tr>\n",
       "      <th>2533</th>\n",
       "      <td>malgré</td>\n",
       "      <td>67391.htm</td>\n",
       "    </tr>\n",
       "    <tr>\n",
       "      <th>2534</th>\n",
       "      <td>celui</td>\n",
       "      <td>67391.htm</td>\n",
       "    </tr>\n",
       "  </tbody>\n",
       "</table>\n",
       "<p>2535 rows × 2 columns</p>\n",
       "</div>"
      ],
      "text/plain": [
       "             token   filename\n",
       "0               pu  67068.htm\n",
       "1      linnovation  67068.htm\n",
       "2           ajoute  67068.htm\n",
       "3     fondamentaux  67068.htm\n",
       "4               la  67068.htm\n",
       "...            ...        ...\n",
       "2530   limportance  67391.htm\n",
       "2531   membranaire  67391.htm\n",
       "2532          pays  67391.htm\n",
       "2533        malgré  67391.htm\n",
       "2534         celui  67391.htm\n",
       "\n",
       "[2535 rows x 2 columns]"
      ]
     },
     "execution_count": 9,
     "metadata": {},
     "output_type": "execute_result"
    }
   ],
   "source": [
    "CORPUS.segmente()"
   ]
  }
 ],
 "metadata": {
  "kernelspec": {
   "display_name": ".venv",
   "language": "python",
   "name": "python3"
  },
  "language_info": {
   "codemirror_mode": {
    "name": "ipython",
    "version": 3
   },
   "file_extension": ".py",
   "mimetype": "text/x-python",
   "name": "python",
   "nbconvert_exporter": "python",
   "pygments_lexer": "ipython3",
   "version": "3.12.3"
  }
 },
 "nbformat": 4,
 "nbformat_minor": 2
}
