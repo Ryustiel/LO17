{
 "cells": [
  {
   "cell_type": "markdown",
   "id": "02559c92",
   "metadata": {},
   "source": [
    "# Perfs"
   ]
  },
  {
   "cell_type": "markdown",
   "id": "5735b85f",
   "metadata": {},
   "source": [
    "## Import de la recherche"
   ]
  },
  {
   "cell_type": "code",
   "execution_count": 1,
   "id": "816e7b3a",
   "metadata": {},
   "outputs": [],
   "source": [
    "from typing import Callable, List, Dict\n",
    "from index import Document, Corpus, InvertedIndex, Query\n",
    "\n",
    "import pandas, os, re\n",
    "\n",
    "DATA_FOLDER = os.path.join(os.getcwd(), \"output\")\n",
    "INDEX_OUTPUT_DIR = os.path.join(DATA_FOLDER, \"index_files\")\n",
    "\n",
    "XML_INITIAL_FILE = os.path.join(DATA_FOLDER, \"corpus_initial.xml\")\n",
    "STEMMED_REPLACEMENTS = os.path.join(DATA_FOLDER, \"stemmed_replacement.tsv\")\n",
    "LEMMATIZED_REPLACEMENTS = os.path.join(DATA_FOLDER, \"lemmatized_replacement.tsv\")\n",
    "\n",
    "STORAGE_TAGS = {\"Corpus\": \"corpus\", \"documents\": \"bulletins\", \"Document\": \"bulletin\", \"Image\": \"image\"}"
   ]
  },
  {
   "cell_type": "markdown",
   "id": "56789ccc",
   "metadata": {},
   "source": [
    "### Reconstruction des Index"
   ]
  },
  {
   "cell_type": "code",
   "execution_count": 2,
   "id": "423af0d5",
   "metadata": {},
   "outputs": [
    {
     "name": "stderr",
     "output_type": "stream",
     "text": [
      "C:\\Users\\ongki\\AppData\\Local\\Temp\\ipykernel_18648\\2807305975.py:10: DtypeWarning: Columns (5,6,7,8,9,10,11,12,13,14,15,16,17,18,19,20,21,22,23,24,25,26,27,28,29,30,31,32,33,34,35,36,37,38,39,40,41,42,43,44,45,46,47,48,49,50,51,52,53,54,55,56,57,58,59,60,61,62,63,64,65,66,67,68,69,70,71,72,73,74,75,76,77,78,79,80,81,82,83,84,85,86,87,88,89,90,91,92,93,94,95,96,97,98,99,100,101,102,103,104,105,106,107,108,109,110,111,112,113,114,115,116,117,118,119,120,121,122,123,124,125,126,127,128,129,130,131,132,133,134,135,136,137,138,139,140,141,142,143,144,145,146,147,148,149,150,151,152,153,154,155,156,157,158,159,160,161,162,163,164,165,166,167,168,169,170,171,172,173,174,175,176,177,178,179,180,181,182,183,184,185,186,187,188,189,190,191,192,193,194,195,196,197,198,199,200,201,202,203,204,205,206,207,208,209,210,211,212,213,214,215,216,217,218,219,220,221,222,223,224,225,226,227,228,229,230,231,232,233,234,235,236,237,238,239,240,241,242,243,244,245,246,247,248,249,250,251,252,253,254,255,256,257,258,259,260,261,262,263,264,265,266,267,268,269,270,271,272,273,274,275,276,277,278,279,280,281,282,283,284,285,286,287,288,289,290,291,292,293,294,295,296,297,298,299,300,301,302,303,304,305,306,307,308,309,310,311,312,313,314,315,316,317,318,319,320,321,322,323,324,325,326,327,328,329,330,331,332,333,334,335,336,337,338,339,340,341,342,343,344,345,346,347,348,349,350,351,352,353,354,355,356,357,358,359,360,361,362,363,364,365,366,367,368,369,370,371,372,373,374,375,376,377,378,379,380,381,382,383,384,385,386,387,388,389,390,391,392,393,394,395,396,397,398,399,400,401,402,403,404,405,406,407,408,409,410,411,412,413,414,415,416,417,418,419,420,421,422,423,424,425,426,427,428,429,430,431,432,433,434,435,436,437,438,439,440,441,442,443,444,445,446,447,448,449,450,451,452,453,454,455,456,457,458,459,460,461,462,463,464,465,466,467,468,469,470,471,472,473,474,475,476,477,478,479,480,481,482,483,484,485,486,487,488,489,490,491,492,493,494,495,496,497,498,499,500,501,502,503,504,505,506,507,508,509,510,511,512,513,514,515,516,517,518,519,520,521,522,523,524,525,526,527,528,529,530,531,532,533,534,535,536,537,538,539,540,541,542,543,544,545,546,547,548,549,550,551,552,553,554,555,556,557,558,559,560,561,562,563,564,565,566,567,568,569,570,571,572,573,574,575,576,577,578,579,580,581,582,583,584,585,586,587,588,589,590,591,592,593,594,595,596,597,598,599,600,601,602,603,604,605,606,607,608,609,610,611,612,613,614,615,616,617,618,619,620,621,622,623,624,625,626,627,628,629,630,631,632,633,634,635,636,637,638,639,640,641,642,643,644,645,646,647,648,649,650,651,652,653,654,655,656,657,658,659,660,661,662,663,664,665,666,667,668,669,670,671,672,673,674,675,676,677,678,679,680,681,682,683,684,685,686,687,688,689,690,691,692,693,694,695,696,697,698,699,700,701,702,703,704,705,706,707,708,709,710,711,712,713,714,715,716,717,718,719,720,721,722,723,724,725,726,727,728,729,730,731,732,733,734,735,736,737,738,739,740,741,742,743,744,745,746,747,748,749,750,751,752,753,754,755,756,757,758,759,760,761,762,763,764,765,766,767,768,769,770,771,772,773,774,775,776,777,778,779,780,781,782,783,784,785,786,787,788,789,790,791,792,793,794,795,796,797,798,799,800,801,802,803,804,805,806,807,808,809,810,811,812,813,814,815,816,817,818,819,820,821,822,823,824,825,826,827,828,829,830,831,832,833,834,835,836,837,838,839,840,841,842,843,844,845,846,847,848,849,850,851,852,853,854,855,856,857,858,859,860,861,862,863,864,865,866,867,868,869,870,871,872,873,874,875,876,877,878,879,880,881,882,883,884,885,886,887,888,889,890,891,892,893,894,895,896,897,898,899,900,901,902,903,904,905,906,907,908,909,910,911,912,913,914,915,916,917,918,919,920,921,922,923,924,925,926,927,928,929,930,931,932,933,934,935,936,937,938,939,940,941,942,943,944,945,946,947,948,949,950,951,952,953,954,955,956,957,958,959,960,961,962,963,964,965,966,967,968,969) have mixed types. Specify dtype option on import or set low_memory=False.\n",
      "  INDEXES[index_type][zone] = InvertedIndex.from_dataframe(pandas.read_csv(os.path.join(INDEX_OUTPUT_DIR, f\"index_{zone}_{index_type}.xml\"), sep=\"\\t\", encoding=\"utf-8\"))\n",
      "C:\\Users\\ongki\\AppData\\Local\\Temp\\ipykernel_18648\\2807305975.py:10: DtypeWarning: Columns (5,6,7,8,9,10,11,12,13,14,15,16,17,18,19,20,21,22,23,24,25,26,27,28,29,30,31,32,33,34,35,36,37,38,39,40,41,42,43,44,45,46,47,48,49,50,51,52,53,54,55,56,57,58,59,60,61,62,63,64,65,66,67,68,69,70,71,72,73,74,75,76,77,78,79,80,81,82,83,84,85,86,87,88,89,90,91,92,93,94,95,96,97,98,99,100,101,102,103,104,105,106,107,108,109,110,111,112,113,114,115,116,117,118,119,120,121,122,123,124,125,126,127,128,129,130,131,132,133,134,135,136,137,138,139,140,141,142,143,144,145,146,147,148,149,150,151,152,153,154,155,156,157,158,159,160,161,162,163,164,165,166,167,168,169,170,171,172,173,174,175,176,177,178,179,180,181,182,183,184,185,186,187,188,189,190,191,192,193,194,195,196,197,198,199,200,201,202,203,204,205,206,207,208,209,210,211,212,213,214,215,216,217,218,219,220,221,222,223,224,225,226,227,228,229,230,231,232,233,234,235,236,237,238,239,240,241,242,243,244,245,246,247,248,249,250,251,252,253,254,255,256,257,258,259,260,261,262,263,264,265,266,267,268,269,270,271,272,273,274,275,276,277,278,279,280,281,282,283,284,285,286,287,288,289,290,291,292,293,294,295,296,297,298,299,300,301,302,303,304,305,306,307,308,309,310,311,312,313,314,315,316,317,318,319,320,321,322,323,324,325,326,327,328,329,330,331,332,333,334,335,336,337,338,339,340,341,342,343,344,345,346,347,348,349,350,351,352,353,354,355,356,357,358,359,360,361,362,363,364,365,366,367,368,369,370,371,372,373,374,375,376,377,378,379,380,381,382,383,384,385,386,387,388,389,390,391,392,393,394,395,396,397,398,399,400,401,402,403,404,405,406,407,408,409,410,411,412,413,414,415,416,417,418,419,420,421,422,423,424,425,426,427,428,429,430,431,432,433,434,435,436,437,438,439,440,441,442,443,444,445,446,447,448,449,450,451,452,453,454,455,456,457,458,459,460,461,462,463,464,465,466,467,468,469,470,471,472,473,474,475,476,477,478,479,480,481,482,483,484,485,486,487,488,489,490,491,492,493,494,495,496,497,498,499,500,501,502,503,504,505,506,507,508,509,510,511,512,513,514,515,516,517,518,519,520,521,522,523,524,525,526,527,528,529,530,531,532,533,534,535,536,537,538,539,540,541) have mixed types. Specify dtype option on import or set low_memory=False.\n",
      "  INDEXES[index_type][zone] = InvertedIndex.from_dataframe(pandas.read_csv(os.path.join(INDEX_OUTPUT_DIR, f\"index_{zone}_{index_type}.xml\"), sep=\"\\t\", encoding=\"utf-8\"))\n"
     ]
    }
   ],
   "source": [
    "# 1. Charge le Corpus\n",
    "with open(XML_INITIAL_FILE, \"r\", encoding=\"utf-8\") as f:\n",
    "    CORPUS = Corpus.model_validate_xml(f.read(), tags=STORAGE_TAGS)\n",
    "\n",
    "# 2. Charge l'Index inversé par zone et par type de tokenisation\n",
    "INDEXES: Dict[str, Dict[str, InvertedIndex]] = {}\n",
    "for index_type in [\"lemmatized\", \"stemmed\"]:\n",
    "    INDEXES[index_type] = {}\n",
    "    for zone in [\"texte\", \"legendes\", \"titre\"]:\n",
    "        INDEXES[index_type][zone] = InvertedIndex.from_dataframe(pandas.read_csv(os.path.join(INDEX_OUTPUT_DIR, f\"index_{zone}_{index_type}.xml\"), sep=\"\\t\", encoding=\"utf-8\"))"
   ]
  },
  {
   "cell_type": "markdown",
   "id": "5be0d96e",
   "metadata": {},
   "source": [
    "### Chargement des fichiers de substitutions pour le processing des mots clés"
   ]
  },
  {
   "cell_type": "code",
   "execution_count": 3,
   "id": "c8f456ad",
   "metadata": {},
   "outputs": [],
   "source": [
    "lemma_substitutions = pandas.read_csv(LEMMATIZED_REPLACEMENTS, sep=\"\\t\", encoding=\"utf-8\", index_col=0, header=None).to_dict()[1]\n",
    "stem_substitutions = pandas.read_csv(STEMMED_REPLACEMENTS, sep=\"\\t\", encoding=\"utf-8\", index_col=0, header=None).to_dict()[1]"
   ]
  },
  {
   "cell_type": "markdown",
   "id": "60634bd7",
   "metadata": {},
   "source": [
    "### Fonctions d'evaluation"
   ]
  },
  {
   "cell_type": "code",
   "execution_count": 8,
   "id": "ecfd6d3e",
   "metadata": {},
   "outputs": [
    {
     "data": {
      "text/plain": [
       "'santé'"
      ]
     },
     "execution_count": 8,
     "metadata": {},
     "output_type": "execute_result"
    }
   ],
   "source": [
    "from index import spacy_lemmatize, snowball_stem, correct_tokens\n",
    "spacy_lemmatize(\"trousseaux\")[0]\n",
    "snowball_stem(\"trousseaux\")[0]\n",
    "\n",
    "lexicon = set(lemma_substitutions.keys())\n",
    "def correct(inp: str) -> str:\n",
    "    tokens = correct_tokens(tokens=[inp], lexicon=lexicon)\n",
    "    return tokens[0][0] if tokens[0][0] else inp\n",
    "\n",
    "def correct_and_lemmatize(inp: str) -> str:\n",
    "    token = correct(inp)\n",
    "    return lemma_substitutions.get(token, None) or spacy_lemmatize(token)[0]\n",
    "\n",
    "correct_and_lemmatize(\"santté\")"
   ]
  },
  {
   "cell_type": "code",
   "execution_count": null,
   "id": "18b38149",
   "metadata": {},
   "outputs": [],
   "source": [
    "\n",
    "STANDARDIZE: Callable[[str], str] = lambda x: re.sub(r\"[^\\w\\s]\", \"\", re.sub(r\"'\", \" \", x.strip().lower()))\n",
    "TOKENIZE_LEMMATIZE: Callable[[List[str]], List[str]] = lambda x: lemma_substitutions.get(STANDARDIZE(x), None) or correct_and_lemmatize(STANDARDIZE(x))\n",
    "TOKENIZE_STEM: Callable[[List[str]], List[str]] = lambda x: stem_substitutions.get(STANDARDIZE(x), None) or snowball_stem(STANDARDIZE(x))[0]\n",
    "\n",
    "def APPLY(q: Query, func: callable, fields: List[str]) -> Query:\n",
    "    \"\"\"Apply a function to the tokens in specified fields of a Query object.\"\"\"\n",
    "    for field in fields:\n",
    "        setattr(q, field, [func(token) for token in getattr(q, field)] if isinstance(getattr(q, field), list) else func(getattr(q, field)))\n",
    "    return q\n",
    "\n",
    "def recherche_lemma_ia(query: str) -> List[Document]:\n",
    "    q = Query.llm_build(query)\n",
    "    APPLY(q, TOKENIZE_LEMMATIZE, [\"content_terms\", \"negated_content_terms\", \"title_terms\"])\n",
    "    APPLY(q, STANDARDIZE, [\"rubric_terms\", \"negated_rubric_terms\"])\n",
    "    return q.search(documents={d.document_id: d for d in CORPUS.documents}, index=INDEXES[\"lemmatized\"])\n",
    "\n",
    "def recherche_stem_ia(query: str) -> List[Document]:\n",
    "    q = Query.llm_build(query)\n",
    "    APPLY(q, TOKENIZE_STEM, [\"content_terms\", \"negated_content_terms\", \"title_terms\"])\n",
    "    APPLY(q, STANDARDIZE, [\"rubric_terms\", \"negated_rubric_terms\"])\n",
    "    return q.search(documents={d.document_id: d for d in CORPUS.documents}, index=INDEXES[\"stemmed\"])\n",
    "\n",
    "def recherche_lemma_regex(query: str) -> List[Document]:\n",
    "    q = Query.build(query)\n",
    "    APPLY(q, TOKENIZE_LEMMATIZE, [\"content_terms\", \"negated_content_terms\", \"title_terms\"])\n",
    "    APPLY(q, STANDARDIZE, [\"rubric_terms\", \"negated_rubric_terms\"])\n",
    "    return q.search(documents={d.document_id: d for d in CORPUS.documents}, index=INDEXES[\"lemmatized\"])\n",
    "\n",
    "def recherche_stem_regex(query: str) -> List[Document]:\n",
    "    q = Query.build(query)\n",
    "    APPLY(q, TOKENIZE_STEM, [\"content_terms\", \"negated_content_terms\", \"title_terms\"])\n",
    "    APPLY(q, STANDARDIZE, [\"rubric_terms\", \"negated_rubric_terms\"])\n",
    "    return q.search(documents={d.document_id: d for d in CORPUS.documents}, index=INDEXES[\"stemmed\"])\n"
   ]
  },
  {
   "cell_type": "code",
   "execution_count": 6,
   "id": "066f2605",
   "metadata": {},
   "outputs": [
    {
     "data": {
      "text/plain": [
       "Document(fichier='76511.htm', numero='292', date=datetime.datetime(2014, 8, 6, 0, 0), rubrique='Au coeur des régions', titre='Equilibre entre radicaux libres et antioxydants : les promesses de la \"logique du vivant\"', auteur='ADIT - Jean-François Desessard - email : jfd@adit.fr', contact='Lara Spiral - Michel Prost - email : michelprost.spiral@wanadoo.fr', texte='C\\'est le 3 avril dernier, à Dijon, lors de la première journée de la 9ème édition du Congrès Goût Nutrition Santé, que Lara Spiral, un laboratoire de recherche dijonnais, et MegaMix, une entreprise russe leader sur le marché des additifs destinés à l\\'alimentation des animaux de la ferme et l\\'aviculture, ont signé un accord de coopération. Un motif de satisfaction d\\'autant plus grand pour Michel Prost, fondateur et Président Directeur Général de cette PME, que l\\'entreprise russe est intéressée plus particulièrement par son approche de la \"logique du vivant\", une théorie qui s\\'inscrit pleinement dans la stratégie autour de l\\'alimentation durable du pôle de compétitivité Vitagora. Une théorie au développement de laquelle cet infatigable chef d\\'entreprise travaille depuis plus de 25 ans, celle-ci ayant même conduit son entreprise à être impliquée dans plusieurs projets labellisés par ce pôle de compétitivité. Crédits : kentoh \"Certains m\\'ont accusé de voir des radicaux libres et des antioxydants partout\", observe, non sans une pointe d\\'humour, Michel Prost. Tout en reconnaissant la valeur de ses travaux, qui l\\'on conduit à déposer dès 1989 un premier brevet concernant le test KRL, qui permet de mesurer le potentiel global de défenses anti-radicalaires, d\\'autres le considèrent néanmoins comme un \"touche-à-tout\". \"Mais c\\'est parce que les radicaux libres et les anti-oxydants sont impliqués dans de nombreuses pathologies que j\\'ai été obligé d\\'être un touche-à-tout\", rétorque-t-il. Et celui-ci de rappeler que les radicaux libres sont des espèces chimiques produites chez tous les organismes vivants à partir d\\'une petite quantité de l\\'oxygène utilisé par ces derniers. Le fait qu\\'ils soient caractérisés par un électron non apparié (célibataire) sur leur couche externe les conduit à une grande instabilité. Aussi réagissent-ils avec de nombreux composés, captant ou cédant alors un électron à une autre molécule ce qui entraîne ce qu\\'on appelle une attaque radicalaire caractéristique du stress oxydatif ou oxydant lorsqu\\'il n\\'est pas maîtrisé. Des défenses anti-radicalaires pour lutter contre le stress oxydatif Pour lutter contre le développement de ce stress oxydatif, qui provoque des dégâts dans les tissus, les organes et au coeur de nos cellules, les organismes vivants disposent fort heureusement d\\'antioxydants naturels aux propriétés anti-radicalaires qui forment un système de défense efficace. Pour autant, ce stress oxydatif, qu\\'accroissent des agressions diverses comme les rayonnements U.V, la pollution, l\\'alcoolisme, le tabagisme ou encore le stress psychologique, peut conduire à des états pathologiques. \"Nous savons que le stress oxydatif est impliqué dans de très nombreuses maladies, comme les maladies cardiovasculaires, les maladies inflammatoires, les maladies neurodégénératives, les cancers ou encore la rétinopathie\", souligne Michel Prost qui précise que la bibliographie scientifique, depuis quelques années, renferme de plus en plus de publications dans des domaines différents qui confirment cette implication. Ajoutons que ces radicaux libres peuvent avoir aussi parfois un rôle positif chez les organismes vivants, quand ces derniers sont attaqués par une bactérie ou un champignon, en boostant leur système de défense. Pour illustrer son propos, Michel Prost prend l\\'exemple de la vigne qui, comme tout végétal, dispose de molécules de défense anti-oxydantes comme les polyphénols, circulantes ou non-circulantes, qu\\'elle va pouvoir stocker sous la forme de réserve, pour ensuite les libérer, sous l\\'action d\\'enzymes spécifiques, à un moment précis, selon ses besoins, par exemple lors d\\'une attaque d\\'une bactérie ou d\\'un champignon. \"Réséda, le test que nous avons développé l\\'a parfaitement montré\", rappelle-t-il. Bâtie sur ces mécanismes biologiques que l\\'on retrouve aussi bien chez les microorganismes que chez l\\'homme en passant par les végétaux, les algues et les animaux, cette approche de la logique du vivant et de la défense anti-radicalaire dont elle découle a donc conduit progressivement au fil des années l\\'entreprise Lara Spiral a développé notamment des mélanges naturels d\\'antioxydants. Des mélanges qui ont été utilisés ou le sont actuellement dans le cadre des travaux de plusieurs projets labellisés par Vitagora et dans lesquels est impliquée cette PME. Mélanges qui, à plus ou moins long terme, pourraient déboucher notamment sur la conception et la commercialisation de compléments alimentaires plus efficaces. Une théorie en phase avec l\\'alimentation durable Cette logique du vivant est une démarche d\\'autant plus intéressante qu\\'elle s\\'inscrit pleinement dans la stratégie adoptée par le pôle de compétitivité Vitagora autour de l\\'alimentation durable. Car si réussir à booster les défenses naturelles des plantes, via notamment la biosynthèse de molécules comme des antioxydants ou des vitamines, desquelles vont être extraits les ingrédients nécessaires à la fabrication d\\'aliments aux qualités organoleptiques et nutritionnelles irréprochables, fait déjà figure de défi, encore faudra-t-il ensuite que les process industriels permettent de préserver ces qualités. Autrement dit, il va leur falloir éviter de détruire ces molécules, de les oxyder, au cours des différentes étapes de la fabrication des aliments et de leur conservation, puis enfin chez le consommateur, lors de leur cuisson. \"On aboutit alors à un aliment qui peut être véritablement qualifié de durable puisqu\\'il préserve à la fois l\\'environnement mais aussi la santé de celui qui le consomme tout en apportant du bien-être à ce dernier. C\\'est d\\'ailleurs tout le défi des acteurs industriels membres de Vitagora\", résume l\\'entrepreneur dijonnais. Dès lors, on comprend plus facilement pourquoi Michel Prost a pu se disperser, mais la logique du vivant est une approche globale dont doit ensuite se saisir chaque spécialiste dans son propre domaine, qu\\'il travaille sur les maladies cardiovasculaires, la maladie de Parkinson, la maladie d\\'Alzheimer, voire sur la multiplication des prions. Ainsi il mène depuis des années des recherches sur le stress animal, en collaboration avec Carlo Corino, Professeur de nutrition animal à l\\'Université de Milan, qui utilise en particulier le test KRL de Lara Spiral. \"Ces travaux visent à montrer qu\\'en diminuant le stress de l\\'animal, via notamment ses défenses anti-oxydantes, on obtient une meilleure qualité du lait et de la viande, aussi bien au niveau organoleptique que nutritionnel\", explique le Président de cette entreprise. D\\'où l\\'intérêt de l\\'entreprise russe MegaMix pour les travaux de Lara Spiral dans ce domaine et cet accord signé le 3 avril dernier. Un accord qui ne peut que satisfaire les responsables du pôle de compétitivité Vitagora, à commencer par son Directeur, Christophe Breuillet, qui n\\'a pas ménagé ses efforts depuis deux ans pour initier et développer des collaborations avec la Russie, en particulier avec l\\'appui de la ville de Dijon et l\\'aide du pôle de compétitivité Aquimer. Quant à Michel Prost, il poursuit sa route, touchant à tout, certes, mais parce que les radicaux libres et les antioxydants l\\'exigent. Quoi qu\\'il en soit, au fil des jours, il continue d\\'engranger les données et les résultats qui viennent confirmer qu\\'au-delà de cette approche \"logique du vivant\" se profilent de nombreuses applications dont le suivi biologique de l\\'écotoxicité de certaines nanoparticules et le suivi médical des astronautes en préparation pour les vols de longue durée.', images=[Image(url='http://streaming.yayimages.com/images/edited/photographer/kentoh/6c30b2a8154ddd3ee333cd5389a05d97/antioxidants.jpg', legende=None)])"
      ]
     },
     "execution_count": 6,
     "metadata": {},
     "output_type": "execute_result"
    }
   ],
   "source": [
    "res = recherche_lemma_ia(\"montre moi les articles qui parlent d'environnement, minimum depuis juillet 2011 et qui nest pas dans la rubrique Focus\")\n",
    "res[0] if res else []"
   ]
  },
  {
   "cell_type": "code",
   "execution_count": 7,
   "id": "fe32acee",
   "metadata": {},
   "outputs": [
    {
     "data": {
      "text/plain": [
       "[Document(fichier='72932.htm', numero='280', date=datetime.datetime(2013, 4, 30, 0, 0), rubrique='Focus', titre=\"Nalini Anantharaman ou le plaisir d'explorer des domaines inconnus des mathématiques\", auteur='ADIT - Jean-François Desessard - email : jfd@adit.fr', contact='Nalini Anantharaman - email : Nalini.Anantharaman@math.u-psud.fr', texte='L\\'été dernier, lors du traditionnel International Congress on Mathematical Physics (ICMP), elle a reçu le prestigieux prix Henri Poincaré qu\\'elle a partagé avec trois autres lauréats, dont une autre mathématicienne française. L\\'année précédente, deux autres prix très réputés, le prix Raphaël Salem, du nom d\\'un mathématicien grec du XXème siècle, et le prix Jacques Herbrand, décerné par l\\'Académie des sciences, lui avaient été attribués. En février dernier, c\\'est le CNRS qui lui a décerné sa Médaille d\\'argent. Entre temps, cette mathématicienne trentenaire qu\\'est Nalini Anantharaman, mariée à un mathématicien et maman de deux jeunes enfants, est partie s\\'installer pour six mois outre-Atlantique, au sein de l\\' Institute for Advanced Study , situé à Princeton, dans le New Jersey. Dans ce haut lieu de la science qui porte encore l\\'empreinte de scientifiques d\\'exception qui y ont travaillé comme Albert Einstein, Kurt Gödel, John von Neumann, Robert Oppenheimer ou encore John Nash, elle poursuit ses travaux sur la propagation des ondes. Retour sur une carrière déjà bien remplie. Nalini Anantharaman, mathématicienne française actuellement en résidence à l\\'Institute for Advanced Study, à Princeton, aux Etats-Unis Crédits : Nalini Anantharaman Tous ceux qui ont eu la chance d\\'y séjourner plusieurs semaines, voire quelques mois, le reconnaissent. L\\' Institute for Advanced Study est un lieu particulier, très tranquille - \"trop\" au goût de certains - détaché du monde, propice à la réflexion et au travail. \"C\\'est la possibilité de s\\'abstraire des différentes tâches quotidiennes qu\\'implique mon métier d\\'enseignant chercheur à l\\'Université Paris-Sud à Orsay et de se consacrer uniquement à la recherche durant quelques mois\", explique Nalini Anantharaman. N\\'allez pas croire pour autant que dans cet univers qui ressemble beaucoup à celui de l\\'Institut des Hautes Etudes Scientifiques (IHES), situé à Bures-sur-Yvette, près de Paris, la vie de cette mathématicienne soit exclusivement consacrée aux équations. Ce sont en effet les horaires de la crèche qui rythment la journée de cette femme qui, tout comme sa mère, elle aussi mathématicienne et professeur à l\\'Université d\\'Orléans, a su parfaitement intégrer les mathématiques dans sa vie de femme et de maman. \"Pas question de sacrifier la rentrée scolaire de mes enfants pour me rendre à des conférences\", lâche-t-elle, reconnaissant que c\\'est sans doute là qu\\'il existe, et qu\\'il existera toujours, une différence entre un mathématicien et une mathématicienne. De longues journées de réflexion à explorer des domaines inconnus A Princeton, sa journée débute donc vers 8 H 30. Commence alors un long travail de réflexion avec, pour seuls compagnons, un crayon, du papier et l\\'ordinateur à portée de main. \"Curieux métier que celui de mathématicien\" penserons les néophytes. Un peu à l\\'image de celui de philosophe, voire d\\'écrivain, dont on ne retient le plus souvent que le côté austère. \"Le plaisir que j\\'ai de faire des mathématiques aujourd\\'hui est assez différent de celui que j\\'avais au lycée\", avoue Nalini. Elle se rappelle s\\'être intéressée très rapidement à cette discipline alors que beaucoup de lycéens gardent de très mauvais souvenirs de cet outil de sélection. Le fait d\\'avoir deux parents mathématiciens - son père, également professeur à l\\'Université d\\'Orléans, s\\'étant ensuite tourné vers l\\'informatique théorique - a sans doute joué un rôle non négligeable dans les choix qu\\'elle n\\'allait pas tarder à faire. \"Je les entendais parler de mathématiques de temps en temps. Contrairement à beaucoup de lycéens, c\\'était donc pour moi une discipline vivante\". Ainsi motivée, c\\'est avec une relative facilité qu\\'elle est entrée à l\\'Ecole Normale Supérieure, après avoir été reçue également au concours de l\\'Ecole Polytechnique, puis, diplôme en poche, a entamé une thèse de mathématiques à l\\'Université Paris-VI, sous la direction de François Ledrappier. Au plaisir de pouvoir résoudre rapidement des exercices, alors qu\\'elle était encore au lycée, a succédé le plaisir d\\'explorer des domaines inconnus des mathématiques comme elle le fait désormais au quotidien depuis plus d\\'une décennie. Durant ces longues journées de réflexion, il y a des moments de doute, de souffrance, qui peuvent aller jusqu\\'à des insomnies passagères, une perte d\\'appétit. D\\'où l\\'importance d\\'échanger avec les collègues. A Princeton, c\\'est principalement avec Peter Sarnak, membre permanent de l\\' Institut for Advanced Study , qui s\\'intéresse à ses travaux depuis plusieurs années, qu\\'elle a des discussions \"motivantes\", souligne-t-elle. Elle partage également beaucoup de centres d\\'intérêts avec Jean Bourgain, un mathématicien belge qui a reçu la médaille Fields en 1994 et réside depuis à Princeton. De plus, beaucoup d\\'exposés sont dispensés quasiment chaque jour par des chercheurs de l\\'institut. \"On y apprend beaucoup, même si les sujets traités sont éloignés de mes propres travaux. Le niveau est très élevé et les échanges sont extrêmement enrichissants. C\\'est stimulant, certes, mais parfois on se sent tout petit au contact d\\'auditoires qui comptent souvent plusieurs médailles Fields, voire des prix Nobel\", observe-t-elle. Enfin, Nalini passe beaucoup de temps en bibliothèque, à consulter des documents afin de se \"nourrir\" des travaux de ses confrères. Et a 17 H 00, elle file à la crèche, retrouver ses enfants, sans pour autant cesser de réfléchir. \"Les bonnes idées surgissent à n\\'importe quelle heure du jour et de la nuit. D\\'un seul coup, tout semble s\\'arranger comme par miracle, alors que vous n\\'avanciez plus depuis des semaines\", s\\'enthousiasme-t-elle. Mieux décrire la propagation des ondes dans un espace Depuis plusieurs années, cette mathématicienne qui enseigne aujourd\\'hui à l\\'Université de Paris-Sud, à Orsay, après avoir été maître de conférences à l\\'Ecole Normale Supérieure de Lyon avant de travailler, durant trois ans à l\\'Ecole Polytechnique en tant que chargée de recherche CNRS et professeur associé, s\\'intéresse aux équations qui décrivent la propagation des ondes. Et celle-ci de prendre l\\'exemple d\\'une onde qui se propage et se retrouve confinée dans un espace fermé à l\\'intérieur duquel elle peut rencontrer des obstacles sur lesquels elle va rebondir. Or en rebondissant, elle se disperse. Peuvent alors se produire des phénomènes d\\'interférence. \"Aussi essayons-nous de comprendre de manière un peu géométrique de quelle façon cette onde va se propager\", résume-t-elle avant d\\'ajouter : \"Sa propagation sera forcément très différente en fonction de l\\'espace dans lequel elle se trouve\". Des travaux, certes très théoriques, mais qui intéressent tout particulièrement des physiciens qui réalisent des expériences sur la propagation des ondes laser dans des fibres optiques. \"Les fibres optiques possèdent une section ronde. Mais ces physiciens utilisent des fibres optiques dont la forme de la section est différente, plus complexe, afin de savoir comment une onde laser s\\'y propage de manière plus ou moins chaotique\", explique-t-elle. Une collaboration qui nécessite évidemment de faire un effort des deux côtés afin de mieux se comprendre, ce qui n\\'est pas pour déplaire à cette mathématicienne. Plusieurs des lauréats du prix Henri Poincaré, en particulier Maxime Kontsevich, professeur permanent à l\\'IHES, ou,plus récemment, Cédric Villani, directeur de l\\'Institut Henri Poincaré, ont reçu ensuite la fameuse médaille Fields, la plus prestigieuse des récompenses pour un mathématicien, souvent comparée au prix Nobel, attribuée tous les 4 ans lors du Congrès international des mathématiques, dont la prochaine édition se déroulera en 2014. Nalini Anantharaman y pense-t-elle parfois ? \"Je ne me considère pas dans la course\", déclare-t-elle sans fausse modestie aucune. Certes, elle en a l\\'étoffe. Sa carrière déjà bien remplie et jalonnées de prix scientifiques le confirme. \"La quantité de travail à fournir est phénoménale\", ajoute-t-elle. Elle évoque alors son collègue et ami, Cédric Villani, un mathématicien exceptionnel capable d\\'efforts surhumains pour aller au bout de sa recherche et qui peut être alors comparé à un athlète de haut niveau. \"Or aujourd\\'hui, je n\\'ai pas cette capacité de travail\", répond cette femme qui semble néanmoins heureuse d\\'avoir réussi à concilier deux métiers particulièrement prenants : mathématicienne et mère de famille.', images=[Image(url='http://www4.utc.fr/~lo17/IMAGESWEB/72932_01.jpg', legende=\"Nalini Anantharaman, mathématicienne française actuellement en résidence à l'Institute for Advanced Study, à Princeton, aux Etats-Unis\")])]"
      ]
     },
     "execution_count": 7,
     "metadata": {},
     "output_type": "execute_result"
    }
   ],
   "source": [
    "recherche_stem_regex(\"Quels sont les articles parus entre le 3 mars 2013 et le 4 mai 2013 évoquant les Etats-Unis ?\")"
   ]
  },
  {
   "cell_type": "code",
   "execution_count": 8,
   "id": "f67c1131",
   "metadata": {},
   "outputs": [
    {
     "data": {
      "text/plain": [
       "Query(content_terms=['Etats-Unis'], content_operator='AND', rubric_terms=[], rubric_operator='OR', negated_content_terms=[], negated_rubric_terms=[], date_start=datetime.datetime(2013, 3, 3, 0, 0, tzinfo=TzInfo(UTC)), date_end=datetime.datetime(2013, 5, 4, 23, 59, 59, 999000, tzinfo=TzInfo(UTC)), excluded_date_periods=[], title_terms=[], title_operator='AND', has_image=False, target_info='articles')"
      ]
     },
     "execution_count": 8,
     "metadata": {},
     "output_type": "execute_result"
    }
   ],
   "source": [
    "Query.llm_build(\"Quels sont les articles parus entre le 3 mars 2013 et le 4 mai 2013 évoquant les Etats-Unis ?\")"
   ]
  },
  {
   "cell_type": "code",
   "execution_count": 9,
   "id": "948f325c",
   "metadata": {},
   "outputs": [
    {
     "data": {
      "text/plain": [
       "Query(content_terms=['etats-unis'], content_operator='AND', rubric_terms=[], rubric_operator=None, negated_content_terms=[], negated_rubric_terms=[], date_start=datetime.datetime(2013, 3, 3, 0, 0, tzinfo=datetime.timezone.utc), date_end=datetime.datetime(2013, 5, 4, 23, 59, 59, 999999, tzinfo=datetime.timezone.utc), excluded_date_periods=[], title_terms=[], title_operator=None, has_image=False, target_info='articles')"
      ]
     },
     "execution_count": 9,
     "metadata": {},
     "output_type": "execute_result"
    }
   ],
   "source": [
    "Query.build(\"Quels sont les articles parus entre le 3 mars 2013 et le 4 mai 2013 évoquant les Etats-Unis ?\")"
   ]
  },
  {
   "cell_type": "markdown",
   "id": "dc9eb686",
   "metadata": {},
   "source": [
    "## Evaluation des Performances"
   ]
  },
  {
   "cell_type": "code",
   "execution_count": 10,
   "id": "71caa543",
   "metadata": {},
   "outputs": [],
   "source": [
    "TRUTH: Dict[str, List[Document]] = {\n",
    "    \"Quels sont les articles parus entre le 3 mars 2013 et le 4 mai 2013 évoquant les Etats-Unis ?\": [\"72932.htm\"],\n",
    "    \"Je veux les articles de 2014 et de la rubrique Focus et parlant de la santé\": [\"75458.htm\", \"75459.htm\", \"76507.htm\"],\n",
    "    \"Je souhaite les rubriques des articles parlant de nutrition ou de vins.\": [\"Focus\", \"Au coeur des régions\", \"Du côté des pôles\", \"Actualité Innovation\", \"A lire\"], \n",
    "}"
   ]
  },
  {
   "cell_type": "code",
   "execution_count": 11,
   "id": "c5540204",
   "metadata": {},
   "outputs": [],
   "source": [
    "var = [\n",
    "  {\n",
    "    \"nom_test\": \"test_etats_unis_date_range\",\n",
    "    \"requete_utilisateur\": \"Quels sont les articles parus entre le 3 mars 2013 et le 4 mai 2013 évoquant les etatsunis ?\",\n",
    "    \"resultat_attendu\": {\n",
    "      \"type_resultat\": \"articles\",\n",
    "      \"valeurs\": [\"72932.htm\"]\n",
    "    }\n",
    "  },\n",
    "  {\n",
    "    \"nom_test\": \"test_annee_rubrique_contenu\",\n",
    "    \"requete_utilisateur\": \"Je veux les articles de 2014 et de la rubrique Focus et parlant de la santé\",\n",
    "    \"resultat_attendu\": {\n",
    "      \"type_resultat\": \"articles\",\n",
    "      \"valeurs\": [\"75458.htm\", \"75459.htm\", \"76507.htm\"]\n",
    "    }\n",
    "  },\n",
    "  {\n",
    "    \"nom_test\": \"test_rubriques_nutrition_vins\",\n",
    "    \"requete_utilisateur\": \"Je souhaite les rubriques des articles parlant de nutrition ou de vin.\",\n",
    "    \"resultat_attendu\": {\n",
    "      \"type_resultat\": \"rubriques\",\n",
    "      \"valeurs\": [\n",
    "        \"Actualité Innovation\",\n",
    "        \"Actualités Innovations\",\n",
    "        \"Au coeur des régions\",\n",
    "        \"Du côté des pôles\",\n",
    "        \"Evénement\",\n",
    "        \"Focus\"\n",
    "      ]\n",
    "    }\n",
    "  },\n",
    "  {\n",
    "    \"nom_test\": \"test_serious_game_realite_virtuelle_aucun\",\n",
    "    \"requete_utilisateur\": \"Article traitant des Serious Game et de la réalité virtuelle.\",\n",
    "    \"resultat_attendu\": {\n",
    "      \"type_resultat\": \"articles\",\n",
    "      \"valeurs\": []\n",
    "    }\n",
    "  },\n",
    "  {\n",
    "    \"nom_test\": \"test_image_titre_croissance\",\n",
    "    \"requete_utilisateur\": \"Je voudrais les articles avec des images dont le titre contient le mot croissance.\",\n",
    "    \"resultat_attendu\": {\n",
    "      \"type_resultat\": \"articles\",\n",
    "      \"valeurs\": [\"68390.htm\"]\n",
    "    }\n",
    "  },\n",
    "  {\n",
    "    \"nom_test\": \"test_cnrs_grandes_ecoles_sauf_centrale\",\n",
    "    \"requete_utilisateur\": \"Liste des articles qui parlent soit du cnr, soit des grand ecole, mais pas de centrale pari.\",\n",
    "    \"resultat_attendu\": {\n",
    "      \"type_resultat\": \"articles\",\n",
    "      \"valeurs\": [\n",
    "        \"67068.htm\", \"67071.htm\", \"67383.htm\", \"67385.htm\", \"67387.htm\",\n",
    "        \"67390.htm\", \"67391.htm\", \"67556.htm\", \"67558.htm\", \"67795.htm\",\n",
    "        \"67799.htm\", \"67800.htm\", \"67802.htm\", \"67937.htm\", \"67939.htm\",\n",
    "        \"67943.htm\", \"67944.htm\", \"67945.htm\", \"68276.htm\", \"68277.htm\",\n",
    "        \"68278.htm\", \"68280.htm\", \"68281.htm\", \"68384.htm\", \"68385.htm\",\n",
    "        \"68388.htm\", \"68389.htm\", \"68390.htm\", \"68393.htm\", \"68638.htm\",\n",
    "        \"68639.htm\", \"68641.htm\", \"68642.htm\", \"68644.htm\", \"68645.htm\",\n",
    "        \"68646.htm\", \"68883.htm\", \"68886.htm\", \"68887.htm\", \"68889.htm\",\n",
    "        \"69177.htm\", \"69178.htm\", \"69180.htm\", \"69181.htm\", \"69182.htm\",\n",
    "        \"69183.htm\", \"69184.htm\", \"69185.htm\", \"69186.htm\", \"69533.htm\",\n",
    "        \"69539.htm\", \"69540.htm\", \"69541.htm\", \"69542.htm\", \"69814.htm\",\n",
    "        \"69816.htm\", \"69819.htm\", \"69820.htm\", \"70161.htm\", \"70163.htm\",\n",
    "        \"70168.htm\", \"70420.htm\", \"70422.htm\", \"70423.htm\", \"70424.htm\",\n",
    "        \"70425.htm\", \"70743.htm\", \"70744.htm\", \"70745.htm\", \"70747.htm\",\n",
    "        \"70748.htm\", \"70914.htm\", \"70916.htm\", \"70922.htm\", \"70923.htm\",\n",
    "        \"71358.htm\", \"71361.htm\", \"71362.htm\", \"71363.htm\", \"71612.htm\",\n",
    "        \"71615.htm\", \"71835.htm\", \"71838.htm\", \"71841.htm\", \"71843.htm\",\n",
    "        \"72114.htm\", \"72119.htm\", \"72121.htm\", \"72397.htm\", \"72398.htm\",\n",
    "        \"72632.htm\", \"72633.htm\", \"72634.htm\", \"72635.htm\", \"72637.htm\",\n",
    "        \"72932.htm\", \"72934.htm\", \"72939.htm\", \"72940.htm\", \"73182.htm\",\n",
    "        \"73183.htm\", \"73185.htm\", \"73186.htm\", \"73188.htm\", \"73189.htm\",\n",
    "        \"73190.htm\", \"73431.htm\", \"73434.htm\", \"73436.htm\", \"73683.htm\",\n",
    "        \"73685.htm\", \"73687.htm\", \"73688.htm\", \"73877.htm\", \"73882.htm\",\n",
    "        \"73883.htm\", \"74170.htm\", \"74173.htm\", \"74175.htm\", \"74450.htm\",\n",
    "        \"74452.htm\", \"74455.htm\", \"74750.htm\", \"74752.htm\", \"75063.htm\",\n",
    "        \"75065.htm\", \"75066.htm\", \"75067.htm\", \"75070.htm\", \"75071.htm\",\n",
    "        \"75457.htm\", \"75458.htm\", \"75460.htm\", \"75463.htm\", \"75464.htm\",\n",
    "        \"75790.htm\", \"75791.htm\", \"75794.htm\", \"75796.htm\", \"76208.htm\",\n",
    "        \"76210.htm\", \"76513.htm\"\n",
    "      ]\n",
    "    }\n",
    "  },\n",
    "  {\n",
    "    \"nom_test\": \"test_rubrique_focus_actualites_chercheurs_paris\",\n",
    "    \"requete_utilisateur\": \"Je souhaites avoir tout les articles donc la rubrique est focus ou Actualités Innovations et qui contiennent les mots chercheur et pari.\",\n",
    "    \"resultat_attendu\": {\n",
    "      \"type_resultat\": \"articles\",\n",
    "      \"valeurs\": [\n",
    "        \"67068.htm\", \"67795.htm\", \"68638.htm\", \"69178.htm\", \"70421.htm\",\n",
    "        \"70422.htm\", \"70424.htm\", \"70914.htm\", \"71612.htm\", \"71835.htm\",\n",
    "        \"71837.htm\", \"71841.htm\", \"72113.htm\", \"72393.htm\", \"72932.htm\",\n",
    "        \"72933.htm\", \"73184.htm\", \"73431.htm\", \"75063.htm\", \"75065.htm\",\n",
    "        \"75788.htm\"\n",
    "      ]\n",
    "    }\n",
    "  },\n",
    "  {\n",
    "    \"nom_test\": \"test_date_1dec2012_rubrique_actualites_innovations_rien\",\n",
    "    \"requete_utilisateur\": \"Je voudrais les articles qui datent du 1 décembre 2012 et dont la rubrique est Actualités Innovations.\",\n",
    "    \"resultat_attendu\": {\n",
    "      \"type_resultat\": \"articles\",\n",
    "      \"valeurs\": []\n",
    "    }\n",
    "  },\n",
    "  {\n",
    "    \"nom_test\": \"test_entre_2012_2013_sauf_juin\",\n",
    "    \"requete_utilisateur\": \"Je voudrais tous les bulletins écrits entre 2012 et 2013 mais pas au mois de juin\",\n",
    "    \"resultat_attendu\": {\n",
    "      \"type_resultat\": \"articles\",\n",
    "      \"valeurs\": [\n",
    "        \"68881.htm\", \"68882.htm\", \"68883.htm\", \"68884.htm\", \"68885.htm\",\n",
    "        \"68886.htm\", \"68887.htm\", \"68888.htm\", \"68889.htm\", \"69177.htm\",\n",
    "        \"69178.htm\", \"69179.htm\", \"69180.htm\", \"69181.htm\", \"69182.htm\",\n",
    "        \"69183.htm\", \"69184.htm\", \"69185.htm\", \"69186.htm\", \"69533.htm\",\n",
    "        \"69534.htm\", \"69535.htm\", \"69536.htm\", \"69537.htm\", \"69538.htm\",\n",
    "        \"69539.htm\", \"69540.htm\", \"69541.htm\", \"69542.htm\", \"69543.htm\",\n",
    "        \"69811.htm\", \"69812.htm\", \"69813.htm\", \"69814.htm\", \"69815.htm\",\n",
    "        \"69816.htm\", \"69817.htm\", \"69818.htm\", \"69819.htm\", \"69820.htm\",\n",
    "        \"69821.htm\", \"70161.htm\", \"70162.htm\", \"70163.htm\", \"70164.htm\",\n",
    "        \"70165.htm\", \"70166.htm\", \"70167.htm\", \"70168.htm\", \"70169.htm\",\n",
    "        \"70170.htm\", \"70743.htm\", \"70744.htm\", \"70745.htm\", \"70746.htm\",\n",
    "        \"70747.htm\", \"70748.htm\", \"70749.htm\", \"70751.htm\", \"70752.htm\",\n",
    "        \"70753.htm\", \"70914.htm\", \"70915.htm\", \"70916.htm\", \"70917.htm\",\n",
    "        \"70918.htm\", \"70919.htm\", \"70920.htm\", \"70921.htm\", \"70922.htm\",\n",
    "        \"70923.htm\", \"71357.htm\", \"71358.htm\", \"71359.htm\", \"71360.htm\",\n",
    "        \"71361.htm\", \"71362.htm\", \"71363.htm\", \"71366.htm\", \"71612.htm\",\n",
    "        \"71614.htm\", \"71615.htm\", \"71616.htm\", \"71617.htm\", \"71618.htm\",\n",
    "        \"71619.htm\", \"71620.htm\", \"71621.htm\", \"71835.htm\", \"71836.htm\",\n",
    "        \"71837.htm\", \"71838.htm\", \"71839.htm\", \"71840.htm\", \"71841.htm\",\n",
    "        \"71842.htm\", \"71843.htm\", \"71845.htm\", \"72113.htm\", \"72114.htm\",\n",
    "        \"72115.htm\", \"72116.htm\", \"72117.htm\", \"72118.htm\", \"72119.htm\",\n",
    "        \"72120.htm\", \"72121.htm\", \"72122.htm\", \"72392.htm\", \"72393.htm\",\n",
    "        \"72394.htm\", \"72395.htm\", \"72396.htm\", \"72397.htm\", \"72398.htm\",\n",
    "        \"72399.htm\", \"72400.htm\", \"72401.htm\", \"72629.htm\", \"72630.htm\",\n",
    "        \"72631.htm\", \"72632.htm\", \"72633.htm\", \"72634.htm\", \"72635.htm\",\n",
    "        \"72636.htm\", \"72637.htm\", \"72932.htm\", \"72933.htm\", \"72934.htm\",\n",
    "        \"72935.htm\", \"72936.htm\", \"72937.htm\", \"72938.htm\", \"72939.htm\",\n",
    "        \"72940.htm\", \"73430.htm\", \"73431.htm\", \"73432.htm\", \"73433.htm\",\n",
    "        \"73434.htm\", \"73435.htm\", \"73436.htm\", \"73437.htm\", \"73438.htm\",\n",
    "        \"73683.htm\", \"73684.htm\", \"73685.htm\", \"73686.htm\", \"73687.htm\",\n",
    "        \"73688.htm\", \"73689.htm\", \"73690.htm\", \"73691.htm\", \"73875.htm\",\n",
    "        \"73876.htm\", \"73877.htm\", \"73878.htm\", \"73879.htm\", \"73880.htm\",\n",
    "        \"73881.htm\", \"73882.htm\", \"73883.htm\", \"73884.htm\", \"74167.htm\",\n",
    "        \"74168.htm\", \"74169.htm\", \"74170.htm\", \"74171.htm\", \"74172.htm\",\n",
    "        \"74173.htm\", \"74174.htm\", \"74175.htm\", \"74176.htm\", \"74449.htm\",\n",
    "        \"74450.htm\", \"74451.htm\", \"74452.htm\", \"74453.htm\", \"74454.htm\",\n",
    "        \"74455.htm\", \"74456.htm\", \"74457.htm\", \"74744.htm\", \"74745.htm\",\n",
    "        \"74746.htm\", \"74747.htm\", \"74748.htm\", \"74749.htm\", \"74750.htm\",\n",
    "        \"74751.htm\", \"74752.htm\"\n",
    "      ]\n",
    "    }\n",
    "  },\n",
    "  {\n",
    "    \"nom_test\": \"test_changement_climatique_apres_29092011\",\n",
    "    \"requete_utilisateur\": \"Je cherche les articles sur le changement et climatique publiés après 29/09/2011\",\n",
    "    \"resultat_attendu\": {\n",
    "      \"type_resultat\": \"articles\",\n",
    "      \"valeurs\": [\n",
    "        \"67794.htm\", \"67803.htm\", \"67939.htm\", \"68278.htm\", \"68283.htm\",\n",
    "        \"68389.htm\", \"68645.htm\", \"68882.htm\", \"69182.htm\", \"69533.htm\",\n",
    "        \"69535.htm\", \"69811.htm\", \"69814.htm\", \"69816.htm\", \"69817.htm\",\n",
    "        \"70745.htm\", \"70916.htm\", \"70920.htm\", \"71363.htm\", \"71617.htm\",\n",
    "        \"71621.htm\", \"71837.htm\", \"71838.htm\", \"73183.htm\", \"73434.htm\",\n",
    "        \"73688.htm\", \"73877.htm\", \"73880.htm\", \"75458.htm\", \"75463.htm\",\n",
    "        \"76213.htm\"\n",
    "      ]\n",
    "    }\n",
    "  }\n",
    "]"
   ]
  },
  {
   "cell_type": "code",
   "execution_count": 12,
   "id": "4d79f52d",
   "metadata": {},
   "outputs": [
    {
     "data": {
      "text/plain": [
       "dict_keys(['Quels sont les articles parus entre le 3 mars 2013 et le 4 mai 2013 évoquant les etatsunis ?', 'Je veux les articles de 2014 et de la rubrique Focus et parlant de la santé', 'Je souhaite les rubriques des articles parlant de nutrition ou de vin.', 'Article traitant des Serious Game et de la réalité virtuelle.', 'Je voudrais les articles avec des images dont le titre contient le mot croissance.', 'Liste des articles qui parlent soit du cnr, soit des grand ecole, mais pas de centrale pari.', 'Je souhaites avoir tout les articles donc la rubrique est focus ou Actualités Innovations et qui contiennent les mots chercheur et pari.', 'Je voudrais les articles qui datent du 1 décembre 2012 et dont la rubrique est Actualités Innovations.', 'Je voudrais tous les bulletins écrits entre 2012 et 2013 mais pas au mois de juin', 'Je cherche les articles sur le changement et climatique publiés après 29/09/2011'])"
      ]
     },
     "execution_count": 12,
     "metadata": {},
     "output_type": "execute_result"
    }
   ],
   "source": [
    "TRUTH = {v[\"requete_utilisateur\"]: v[\"resultat_attendu\"][\"valeurs\"] for v in var}\n",
    "TRUTH.keys()"
   ]
  },
  {
   "cell_type": "code",
   "execution_count": 13,
   "id": "bd602b00",
   "metadata": {},
   "outputs": [
    {
     "name": "stdout",
     "output_type": "stream",
     "text": [
      "1 ['72932.htm']\n",
      "3 ['75458.htm', '75459.htm', '76507.htm']\n",
      "6 ['Actualité Innovation', 'Actualités Innovations', 'Au coeur des régions', 'Du côté des pôles', 'Evénement', 'Focus']\n",
      "0 []\n",
      "1 ['68390.htm']\n",
      "142 ['67068.htm', '67071.htm', '67383.htm', '67385.htm', '67387.htm', '67390.htm', '67391.htm', '67556.htm', '67558.htm', '67795.htm', '67799.htm', '67800.htm', '67802.htm', '67937.htm', '67939.htm', '67943.htm', '67944.htm', '67945.htm', '68276.htm', '68277.htm', '68278.htm', '68280.htm', '68281.htm', '68384.htm', '68385.htm', '68388.htm', '68389.htm', '68390.htm', '68393.htm', '68638.htm', '68639.htm', '68641.htm', '68642.htm', '68644.htm', '68645.htm', '68646.htm', '68883.htm', '68886.htm', '68887.htm', '68889.htm', '69177.htm', '69178.htm', '69180.htm', '69181.htm', '69182.htm', '69183.htm', '69184.htm', '69185.htm', '69186.htm', '69533.htm', '69539.htm', '69540.htm', '69541.htm', '69542.htm', '69814.htm', '69816.htm', '69819.htm', '69820.htm', '70161.htm', '70163.htm', '70168.htm', '70420.htm', '70422.htm', '70423.htm', '70424.htm', '70425.htm', '70743.htm', '70744.htm', '70745.htm', '70747.htm', '70748.htm', '70914.htm', '70916.htm', '70922.htm', '70923.htm', '71358.htm', '71361.htm', '71362.htm', '71363.htm', '71612.htm', '71615.htm', '71835.htm', '71838.htm', '71841.htm', '71843.htm', '72114.htm', '72119.htm', '72121.htm', '72397.htm', '72398.htm', '72632.htm', '72633.htm', '72634.htm', '72635.htm', '72637.htm', '72932.htm', '72934.htm', '72939.htm', '72940.htm', '73182.htm', '73183.htm', '73185.htm', '73186.htm', '73188.htm', '73189.htm', '73190.htm', '73431.htm', '73434.htm', '73436.htm', '73683.htm', '73685.htm', '73687.htm', '73688.htm', '73877.htm', '73882.htm', '73883.htm', '74170.htm', '74173.htm', '74175.htm', '74450.htm', '74452.htm', '74455.htm', '74750.htm', '74752.htm', '75063.htm', '75065.htm', '75066.htm', '75067.htm', '75070.htm', '75071.htm', '75457.htm', '75458.htm', '75460.htm', '75463.htm', '75464.htm', '75790.htm', '75791.htm', '75794.htm', '75796.htm', '76208.htm', '76210.htm', '76513.htm']\n",
      "21 ['67068.htm', '67795.htm', '68638.htm', '69178.htm', '70421.htm', '70422.htm', '70424.htm', '70914.htm', '71612.htm', '71835.htm', '71837.htm', '71841.htm', '72113.htm', '72393.htm', '72932.htm', '72933.htm', '73184.htm', '73431.htm', '75063.htm', '75065.htm', '75788.htm']\n",
      "0 []\n",
      "192 ['68881.htm', '68882.htm', '68883.htm', '68884.htm', '68885.htm', '68886.htm', '68887.htm', '68888.htm', '68889.htm', '69177.htm', '69178.htm', '69179.htm', '69180.htm', '69181.htm', '69182.htm', '69183.htm', '69184.htm', '69185.htm', '69186.htm', '69533.htm', '69534.htm', '69535.htm', '69536.htm', '69537.htm', '69538.htm', '69539.htm', '69540.htm', '69541.htm', '69542.htm', '69543.htm', '69811.htm', '69812.htm', '69813.htm', '69814.htm', '69815.htm', '69816.htm', '69817.htm', '69818.htm', '69819.htm', '69820.htm', '69821.htm', '70161.htm', '70162.htm', '70163.htm', '70164.htm', '70165.htm', '70166.htm', '70167.htm', '70168.htm', '70169.htm', '70170.htm', '70743.htm', '70744.htm', '70745.htm', '70746.htm', '70747.htm', '70748.htm', '70749.htm', '70751.htm', '70752.htm', '70753.htm', '70914.htm', '70915.htm', '70916.htm', '70917.htm', '70918.htm', '70919.htm', '70920.htm', '70921.htm', '70922.htm', '70923.htm', '71357.htm', '71358.htm', '71359.htm', '71360.htm', '71361.htm', '71362.htm', '71363.htm', '71366.htm', '71612.htm', '71614.htm', '71615.htm', '71616.htm', '71617.htm', '71618.htm', '71619.htm', '71620.htm', '71621.htm', '71835.htm', '71836.htm', '71837.htm', '71838.htm', '71839.htm', '71840.htm', '71841.htm', '71842.htm', '71843.htm', '71845.htm', '72113.htm', '72114.htm', '72115.htm', '72116.htm', '72117.htm', '72118.htm', '72119.htm', '72120.htm', '72121.htm', '72122.htm', '72392.htm', '72393.htm', '72394.htm', '72395.htm', '72396.htm', '72397.htm', '72398.htm', '72399.htm', '72400.htm', '72401.htm', '72629.htm', '72630.htm', '72631.htm', '72632.htm', '72633.htm', '72634.htm', '72635.htm', '72636.htm', '72637.htm', '72932.htm', '72933.htm', '72934.htm', '72935.htm', '72936.htm', '72937.htm', '72938.htm', '72939.htm', '72940.htm', '73430.htm', '73431.htm', '73432.htm', '73433.htm', '73434.htm', '73435.htm', '73436.htm', '73437.htm', '73438.htm', '73683.htm', '73684.htm', '73685.htm', '73686.htm', '73687.htm', '73688.htm', '73689.htm', '73690.htm', '73691.htm', '73875.htm', '73876.htm', '73877.htm', '73878.htm', '73879.htm', '73880.htm', '73881.htm', '73882.htm', '73883.htm', '73884.htm', '74167.htm', '74168.htm', '74169.htm', '74170.htm', '74171.htm', '74172.htm', '74173.htm', '74174.htm', '74175.htm', '74176.htm', '74449.htm', '74450.htm', '74451.htm', '74452.htm', '74453.htm', '74454.htm', '74455.htm', '74456.htm', '74457.htm', '74744.htm', '74745.htm', '74746.htm', '74747.htm', '74748.htm', '74749.htm', '74750.htm', '74751.htm', '74752.htm']\n",
      "31 ['67794.htm', '67803.htm', '67939.htm', '68278.htm', '68283.htm', '68389.htm', '68645.htm', '68882.htm', '69182.htm', '69533.htm', '69535.htm', '69811.htm', '69814.htm', '69816.htm', '69817.htm', '70745.htm', '70916.htm', '70920.htm', '71363.htm', '71617.htm', '71621.htm', '71837.htm', '71838.htm', '73183.htm', '73434.htm', '73688.htm', '73877.htm', '73880.htm', '75458.htm', '75463.htm', '76213.htm']\n"
     ]
    }
   ],
   "source": [
    "for val in TRUTH.values():\n",
    "    print(len(val), val)"
   ]
  },
  {
   "cell_type": "markdown",
   "id": "a6a62fa4",
   "metadata": {},
   "source": [
    "### Calcul des métriques"
   ]
  },
  {
   "cell_type": "code",
   "execution_count": 14,
   "id": "57483cdf",
   "metadata": {},
   "outputs": [
    {
     "name": "stderr",
     "output_type": "stream",
     "text": [
      "C:\\Users\\ongki\\AppData\\Local\\Temp\\ipykernel_22196\\249936839.py:22: FutureWarning: The behavior of DataFrame concatenation with empty or all-NA entries is deprecated. In a future version, this will no longer exclude empty or all-NA columns when determining the result dtypes. To retain the old behavior, exclude the relevant entries before the concat operation.\n",
      "  DATA[layer] = pandas.concat([DATA[layer], pandas.DataFrame([row])], ignore_index=True)\n",
      "C:\\Users\\ongki\\AppData\\Local\\Temp\\ipykernel_22196\\249936839.py:22: FutureWarning: The behavior of DataFrame concatenation with empty or all-NA entries is deprecated. In a future version, this will no longer exclude empty or all-NA columns when determining the result dtypes. To retain the old behavior, exclude the relevant entries before the concat operation.\n",
      "  DATA[layer] = pandas.concat([DATA[layer], pandas.DataFrame([row])], ignore_index=True)\n",
      "C:\\Users\\ongki\\AppData\\Local\\Temp\\ipykernel_22196\\249936839.py:22: FutureWarning: The behavior of DataFrame concatenation with empty or all-NA entries is deprecated. In a future version, this will no longer exclude empty or all-NA columns when determining the result dtypes. To retain the old behavior, exclude the relevant entries before the concat operation.\n",
      "  DATA[layer] = pandas.concat([DATA[layer], pandas.DataFrame([row])], ignore_index=True)\n",
      "C:\\Users\\ongki\\AppData\\Local\\Temp\\ipykernel_22196\\249936839.py:22: FutureWarning: The behavior of DataFrame concatenation with empty or all-NA entries is deprecated. In a future version, this will no longer exclude empty or all-NA columns when determining the result dtypes. To retain the old behavior, exclude the relevant entries before the concat operation.\n",
      "  DATA[layer] = pandas.concat([DATA[layer], pandas.DataFrame([row])], ignore_index=True)\n"
     ]
    },
    {
     "data": {
      "text/html": [
       "<div>\n",
       "<style scoped>\n",
       "    .dataframe tbody tr th:only-of-type {\n",
       "        vertical-align: middle;\n",
       "    }\n",
       "\n",
       "    .dataframe tbody tr th {\n",
       "        vertical-align: top;\n",
       "    }\n",
       "\n",
       "    .dataframe thead th {\n",
       "        text-align: right;\n",
       "    }\n",
       "</style>\n",
       "<table border=\"1\" class=\"dataframe\">\n",
       "  <thead>\n",
       "    <tr style=\"text-align: right;\">\n",
       "      <th></th>\n",
       "      <th>Recall</th>\n",
       "      <th>Precision</th>\n",
       "      <th>Delay</th>\n",
       "      <th>Hint</th>\n",
       "      <th>Size</th>\n",
       "    </tr>\n",
       "  </thead>\n",
       "  <tbody>\n",
       "    <tr>\n",
       "      <th>0</th>\n",
       "      <td>0.000000</td>\n",
       "      <td>0.00000</td>\n",
       "      <td>3.889906</td>\n",
       "      <td>Quels sont les articles parus entre le 3 mars ...</td>\n",
       "      <td>0.0</td>\n",
       "    </tr>\n",
       "    <tr>\n",
       "      <th>1</th>\n",
       "      <td>1.000000</td>\n",
       "      <td>1.00000</td>\n",
       "      <td>2.935644</td>\n",
       "      <td>Je veux les articles de 2014 et de la rubrique...</td>\n",
       "      <td>3.0</td>\n",
       "    </tr>\n",
       "    <tr>\n",
       "      <th>2</th>\n",
       "      <td>1.000000</td>\n",
       "      <td>1.00000</td>\n",
       "      <td>2.409687</td>\n",
       "      <td>Je souhaite les rubriques des articles parlant...</td>\n",
       "      <td>6.0</td>\n",
       "    </tr>\n",
       "    <tr>\n",
       "      <th>3</th>\n",
       "      <td>0.000000</td>\n",
       "      <td>0.00000</td>\n",
       "      <td>4.305643</td>\n",
       "      <td>Article traitant des Serious Game et de la réa...</td>\n",
       "      <td>0.0</td>\n",
       "    </tr>\n",
       "    <tr>\n",
       "      <th>4</th>\n",
       "      <td>1.000000</td>\n",
       "      <td>1.00000</td>\n",
       "      <td>2.274949</td>\n",
       "      <td>Je voudrais les articles avec des images dont ...</td>\n",
       "      <td>1.0</td>\n",
       "    </tr>\n",
       "    <tr>\n",
       "      <th>5</th>\n",
       "      <td>0.654930</td>\n",
       "      <td>0.57764</td>\n",
       "      <td>4.529185</td>\n",
       "      <td>Liste des articles qui parlent soit du cnr, so...</td>\n",
       "      <td>161.0</td>\n",
       "    </tr>\n",
       "    <tr>\n",
       "      <th>6</th>\n",
       "      <td>0.523810</td>\n",
       "      <td>1.00000</td>\n",
       "      <td>2.537432</td>\n",
       "      <td>Je souhaites avoir tout les articles donc la r...</td>\n",
       "      <td>11.0</td>\n",
       "    </tr>\n",
       "    <tr>\n",
       "      <th>7</th>\n",
       "      <td>0.000000</td>\n",
       "      <td>0.00000</td>\n",
       "      <td>3.436420</td>\n",
       "      <td>Je voudrais les articles qui datent du 1 décem...</td>\n",
       "      <td>0.0</td>\n",
       "    </tr>\n",
       "    <tr>\n",
       "      <th>8</th>\n",
       "      <td>1.000000</td>\n",
       "      <td>1.00000</td>\n",
       "      <td>3.235061</td>\n",
       "      <td>Je voudrais tous les bulletins écrits entre 20...</td>\n",
       "      <td>192.0</td>\n",
       "    </tr>\n",
       "    <tr>\n",
       "      <th>9</th>\n",
       "      <td>0.580645</td>\n",
       "      <td>0.62069</td>\n",
       "      <td>4.229180</td>\n",
       "      <td>Je cherche les articles sur le changement et c...</td>\n",
       "      <td>29.0</td>\n",
       "    </tr>\n",
       "  </tbody>\n",
       "</table>\n",
       "</div>"
      ],
      "text/plain": [
       "     Recall  Precision     Delay  \\\n",
       "0  0.000000    0.00000  3.889906   \n",
       "1  1.000000    1.00000  2.935644   \n",
       "2  1.000000    1.00000  2.409687   \n",
       "3  0.000000    0.00000  4.305643   \n",
       "4  1.000000    1.00000  2.274949   \n",
       "5  0.654930    0.57764  4.529185   \n",
       "6  0.523810    1.00000  2.537432   \n",
       "7  0.000000    0.00000  3.436420   \n",
       "8  1.000000    1.00000  3.235061   \n",
       "9  0.580645    0.62069  4.229180   \n",
       "\n",
       "                                                Hint   Size  \n",
       "0  Quels sont les articles parus entre le 3 mars ...    0.0  \n",
       "1  Je veux les articles de 2014 et de la rubrique...    3.0  \n",
       "2  Je souhaite les rubriques des articles parlant...    6.0  \n",
       "3  Article traitant des Serious Game et de la réa...    0.0  \n",
       "4  Je voudrais les articles avec des images dont ...    1.0  \n",
       "5  Liste des articles qui parlent soit du cnr, so...  161.0  \n",
       "6  Je souhaites avoir tout les articles donc la r...   11.0  \n",
       "7  Je voudrais les articles qui datent du 1 décem...    0.0  \n",
       "8  Je voudrais tous les bulletins écrits entre 20...  192.0  \n",
       "9  Je cherche les articles sur le changement et c...   29.0  "
      ]
     },
     "execution_count": 14,
     "metadata": {},
     "output_type": "execute_result"
    }
   ],
   "source": [
    "\n",
    "import pandas, datetime\n",
    "\n",
    "CASES = [\"ia_lemma\", \"ia_stem\", \"reg_lemma\", \"reg_stem\"]\n",
    "EVALUATORS = [recherche_lemma_ia, recherche_stem_ia, recherche_lemma_regex, recherche_stem_regex]\n",
    "\n",
    "DATA: Dict[str, pandas.DataFrame] = {name: pandas.DataFrame(columns=[\"Recall\", \"Precision\", \"Delay\", \"Hint\"]) for name in CASES}\n",
    "for layer, search in zip(CASES, EVALUATORS):\n",
    "\n",
    "    for query, truth in TRUTH.items():\n",
    "        \n",
    "        start = datetime.datetime.now()\n",
    "        results = [(d.document_id if isinstance(d, Document) else d) for d in (search(query) or [])]\n",
    "\n",
    "        row = {\n",
    "            \"Recall\":    len(set(results) & set(truth)) / len(truth) if len(truth) > 0 else 0.0,\n",
    "            \"Precision\": len(set(results) & set(truth)) / len(results) if len(results) > 0 else 0.0,\n",
    "            \"Size\":      len(results),\n",
    "            \"Delay\":     (datetime.datetime.now() - start).total_seconds(),\n",
    "            \"Hint\":      query,\n",
    "        }\n",
    "\n",
    "        DATA[layer] = pandas.concat([DATA[layer], pandas.DataFrame([row])], ignore_index=True)\n",
    "\n",
    "DATA[\"ia_lemma\"]"
   ]
  },
  {
   "cell_type": "code",
   "execution_count": 15,
   "id": "f485dca7",
   "metadata": {},
   "outputs": [
    {
     "data": {
      "text/html": [
       "<div>\n",
       "<style scoped>\n",
       "    .dataframe tbody tr th:only-of-type {\n",
       "        vertical-align: middle;\n",
       "    }\n",
       "\n",
       "    .dataframe tbody tr th {\n",
       "        vertical-align: top;\n",
       "    }\n",
       "\n",
       "    .dataframe thead th {\n",
       "        text-align: right;\n",
       "    }\n",
       "</style>\n",
       "<table border=\"1\" class=\"dataframe\">\n",
       "  <thead>\n",
       "    <tr style=\"text-align: right;\">\n",
       "      <th></th>\n",
       "      <th>Recall</th>\n",
       "      <th>Precision</th>\n",
       "      <th>Delay</th>\n",
       "      <th>Hint</th>\n",
       "      <th>Size</th>\n",
       "    </tr>\n",
       "  </thead>\n",
       "  <tbody>\n",
       "    <tr>\n",
       "      <th>0</th>\n",
       "      <td>1.000000</td>\n",
       "      <td>1.000000</td>\n",
       "      <td>3.113390</td>\n",
       "      <td>Quels sont les articles parus entre le 3 mars ...</td>\n",
       "      <td>1.0</td>\n",
       "    </tr>\n",
       "    <tr>\n",
       "      <th>1</th>\n",
       "      <td>1.000000</td>\n",
       "      <td>1.000000</td>\n",
       "      <td>2.966846</td>\n",
       "      <td>Je veux les articles de 2014 et de la rubrique...</td>\n",
       "      <td>3.0</td>\n",
       "    </tr>\n",
       "    <tr>\n",
       "      <th>2</th>\n",
       "      <td>1.000000</td>\n",
       "      <td>1.000000</td>\n",
       "      <td>2.471515</td>\n",
       "      <td>Je souhaite les rubriques des articles parlant...</td>\n",
       "      <td>6.0</td>\n",
       "    </tr>\n",
       "    <tr>\n",
       "      <th>3</th>\n",
       "      <td>0.000000</td>\n",
       "      <td>0.000000</td>\n",
       "      <td>2.497869</td>\n",
       "      <td>Article traitant des Serious Game et de la réa...</td>\n",
       "      <td>0.0</td>\n",
       "    </tr>\n",
       "    <tr>\n",
       "      <th>4</th>\n",
       "      <td>1.000000</td>\n",
       "      <td>1.000000</td>\n",
       "      <td>2.433107</td>\n",
       "      <td>Je voudrais les articles avec des images dont ...</td>\n",
       "      <td>1.0</td>\n",
       "    </tr>\n",
       "    <tr>\n",
       "      <th>5</th>\n",
       "      <td>0.647887</td>\n",
       "      <td>0.593548</td>\n",
       "      <td>2.636922</td>\n",
       "      <td>Liste des articles qui parlent soit du cnr, so...</td>\n",
       "      <td>155.0</td>\n",
       "    </tr>\n",
       "    <tr>\n",
       "      <th>6</th>\n",
       "      <td>0.000000</td>\n",
       "      <td>0.000000</td>\n",
       "      <td>2.606197</td>\n",
       "      <td>Je souhaites avoir tout les articles donc la r...</td>\n",
       "      <td>0.0</td>\n",
       "    </tr>\n",
       "    <tr>\n",
       "      <th>7</th>\n",
       "      <td>0.000000</td>\n",
       "      <td>0.000000</td>\n",
       "      <td>3.002051</td>\n",
       "      <td>Je voudrais les articles qui datent du 1 décem...</td>\n",
       "      <td>0.0</td>\n",
       "    </tr>\n",
       "    <tr>\n",
       "      <th>8</th>\n",
       "      <td>1.000000</td>\n",
       "      <td>1.000000</td>\n",
       "      <td>3.120701</td>\n",
       "      <td>Je voudrais tous les bulletins écrits entre 20...</td>\n",
       "      <td>192.0</td>\n",
       "    </tr>\n",
       "    <tr>\n",
       "      <th>9</th>\n",
       "      <td>0.612903</td>\n",
       "      <td>0.527778</td>\n",
       "      <td>2.673057</td>\n",
       "      <td>Je cherche les articles sur le changement et c...</td>\n",
       "      <td>36.0</td>\n",
       "    </tr>\n",
       "  </tbody>\n",
       "</table>\n",
       "</div>"
      ],
      "text/plain": [
       "     Recall  Precision     Delay  \\\n",
       "0  1.000000   1.000000  3.113390   \n",
       "1  1.000000   1.000000  2.966846   \n",
       "2  1.000000   1.000000  2.471515   \n",
       "3  0.000000   0.000000  2.497869   \n",
       "4  1.000000   1.000000  2.433107   \n",
       "5  0.647887   0.593548  2.636922   \n",
       "6  0.000000   0.000000  2.606197   \n",
       "7  0.000000   0.000000  3.002051   \n",
       "8  1.000000   1.000000  3.120701   \n",
       "9  0.612903   0.527778  2.673057   \n",
       "\n",
       "                                                Hint   Size  \n",
       "0  Quels sont les articles parus entre le 3 mars ...    1.0  \n",
       "1  Je veux les articles de 2014 et de la rubrique...    3.0  \n",
       "2  Je souhaite les rubriques des articles parlant...    6.0  \n",
       "3  Article traitant des Serious Game et de la réa...    0.0  \n",
       "4  Je voudrais les articles avec des images dont ...    1.0  \n",
       "5  Liste des articles qui parlent soit du cnr, so...  155.0  \n",
       "6  Je souhaites avoir tout les articles donc la r...    0.0  \n",
       "7  Je voudrais les articles qui datent du 1 décem...    0.0  \n",
       "8  Je voudrais tous les bulletins écrits entre 20...  192.0  \n",
       "9  Je cherche les articles sur le changement et c...   36.0  "
      ]
     },
     "execution_count": 15,
     "metadata": {},
     "output_type": "execute_result"
    }
   ],
   "source": [
    "DATA[\"ia_stem\"]"
   ]
  },
  {
   "cell_type": "code",
   "execution_count": 16,
   "id": "2d40d7cf",
   "metadata": {},
   "outputs": [
    {
     "name": "stdout",
     "output_type": "stream",
     "text": [
      "     Recall  Precision     Delay  Size\n",
      "0  0.575938   0.619833  3.378311  40.3\n",
      "     Recall  Precision     Delay  Size\n",
      "0  0.626079   0.612133  2.752165  39.4\n",
      "    Recall  Precision    Delay  Size\n",
      "0  0.68239   0.757764  0.37381  39.5\n",
      "     Recall  Precision     Delay  Size\n",
      "0  0.632531   0.659355  0.002264  37.9\n"
     ]
    }
   ],
   "source": [
    "# moyenne par colonne\n",
    "for name, df_ in DATA.items():\n",
    "    print(\n",
    "        df_.mean(numeric_only=True).to_frame().T\n",
    "    )"
   ]
  },
  {
   "cell_type": "markdown",
   "id": "b554427e",
   "metadata": {},
   "source": [
    "### Visualisation"
   ]
  },
  {
   "cell_type": "code",
   "execution_count": 17,
   "id": "69ff174b",
   "metadata": {},
   "outputs": [
    {
     "name": "stderr",
     "output_type": "stream",
     "text": [
      "C:\\Users\\ongki\\AppData\\Local\\Temp\\ipykernel_22196\\618777212.py:3: FutureWarning: The behavior of DataFrame concatenation with empty or all-NA entries is deprecated. In a future version, this will no longer exclude empty or all-NA columns when determining the result dtypes. To retain the old behavior, exclude the relevant entries before the concat operation.\n",
      "  df = pandas.concat([\n"
     ]
    },
    {
     "data": {
      "text/html": [
       "<div>\n",
       "<style scoped>\n",
       "    .dataframe tbody tr th:only-of-type {\n",
       "        vertical-align: middle;\n",
       "    }\n",
       "\n",
       "    .dataframe tbody tr th {\n",
       "        vertical-align: top;\n",
       "    }\n",
       "\n",
       "    .dataframe thead th {\n",
       "        text-align: right;\n",
       "    }\n",
       "</style>\n",
       "<table border=\"1\" class=\"dataframe\">\n",
       "  <thead>\n",
       "    <tr style=\"text-align: right;\">\n",
       "      <th></th>\n",
       "      <th>Delay</th>\n",
       "      <th>Recall</th>\n",
       "      <th>Precision</th>\n",
       "      <th>Model</th>\n",
       "    </tr>\n",
       "  </thead>\n",
       "  <tbody>\n",
       "    <tr>\n",
       "      <th>0</th>\n",
       "      <td>3.889906</td>\n",
       "      <td>0.0</td>\n",
       "      <td>0.0</td>\n",
       "      <td>ia_lemma</td>\n",
       "    </tr>\n",
       "    <tr>\n",
       "      <th>1</th>\n",
       "      <td>2.935644</td>\n",
       "      <td>1.0</td>\n",
       "      <td>1.0</td>\n",
       "      <td>ia_lemma</td>\n",
       "    </tr>\n",
       "  </tbody>\n",
       "</table>\n",
       "</div>"
      ],
      "text/plain": [
       "      Delay  Recall  Precision     Model\n",
       "0  3.889906     0.0        0.0  ia_lemma\n",
       "1  2.935644     1.0        1.0  ia_lemma"
      ]
     },
     "execution_count": 17,
     "metadata": {},
     "output_type": "execute_result"
    }
   ],
   "source": [
    "df = pandas.DataFrame(columns=[\"Delay\", \"Recall\", \"Precision\", \"Model\"])\n",
    "for model, data in DATA.items():\n",
    "    df = pandas.concat([\n",
    "        df,\n",
    "        data[[\"Delay\", \"Recall\", \"Precision\"]].assign(Model=model)\n",
    "    ], ignore_index=True)\n",
    "df.head(2)"
   ]
  },
  {
   "cell_type": "code",
   "execution_count": 18,
   "id": "457c2fa5",
   "metadata": {},
   "outputs": [
    {
     "data": {
      "text/plain": [
       "<Axes: xlabel='Model', ylabel='Delay'>"
      ]
     },
     "execution_count": 18,
     "metadata": {},
     "output_type": "execute_result"
    },
    {
     "data": {
      "image/png": "[encoded data removed]",
      "text/plain": [
       "<Figure size 2000x600 with 3 Axes>"
      ]
     },
     "metadata": {},
     "output_type": "display_data"
    }
   ],
   "source": [
    "import matplotlib.pyplot as plt\n",
    "import seaborn as sns\n",
    "\n",
    "fig, axs = plt.subplots(1, 3, figsize=(20, 6))\n",
    "\n",
    "sns.boxplot(x=\"Model\", y=\"Recall\", data=df, ax=axs[0])\n",
    "sns.boxplot(x=\"Model\", y=\"Precision\", data=df, ax=axs[1])\n",
    "sns.boxplot(x=\"Model\", y=\"Delay\", data=df, ax=axs[2])"
   ]
  },
  {
   "cell_type": "code",
   "execution_count": null,
   "id": "bc4b3c6e",
   "metadata": {},
   "outputs": [
    {
     "data": {
      "text/plain": [
       "(10830, 9220)"
      ]
     },
     "execution_count": 27,
     "metadata": {},
     "output_type": "execute_result"
    }
   ],
   "source": [
    "lemmes_uniques = set(lemma_substitutions.values())\n",
    "stemmes_uniques = set(stem_substitutions.values())\n",
    "\n",
    "len(lemmes_uniques), len(stemmes_uniques)"
   ]
  },
  {
   "cell_type": "code",
   "execution_count": null,
   "id": "49810cdf",
   "metadata": {},
   "outputs": [],
   "source": [
    "def count_shared(substitutions: Dict[str, str]) -> Dict[str, int]:\n",
    "    \"\"\"Calcule le nombre de mots différents qui partagent le même stem / lemma.\"\"\"\n",
    "    counts = {}\n",
    "    for word, stem in substitutions.items():\n",
    "        if stem not in counts:\n",
    "            counts[stem] = set()\n",
    "        counts[stem].add(word)\n",
    "    \n",
    "    return {stem: len(words) for stem, words in counts.items()}\n",
    "\n",
    "shared_stems = sorted(count_shared(stem_substitutions).items(), key=lambda x: x[1], reverse=True)\n",
    "shared_lemmas = sorted(count_shared(lemma_substitutions).items(), key=lambda x: x[1], reverse=True)"
   ]
  },
  {
   "cell_type": "code",
   "execution_count": null,
   "id": "1d4dbd63",
   "metadata": {},
   "outputs": [
    {
     "data": {
      "text/plain": [
       "Text(0, 0.5, 'Nombre de stems/lemmes')"
      ]
     },
     "execution_count": 29,
     "metadata": {},
     "output_type": "execute_result"
    },
    {
     "data": {
      "image/png": "[encoded data removed]",
      "text/plain": [
       "<Figure size 2000x600 with 2 Axes>"
      ]
     },
     "metadata": {},
     "output_type": "display_data"
    }
   ],
   "source": [
    "import matplotlib.pyplot as plt\n",
    "import seaborn as sns\n",
    "\n",
    "fig, axs = plt.subplots(1, 2, figsize=(20, 6))\n",
    "\n",
    "# plot a histogram of the number of sizes of shared stems and lemmas\n",
    "sns.lineplot(x=list(range(len(shared_stems))), y=[x[1] for x in shared_stems], ax=axs[0])\n",
    "sns.lineplot(x=list(range(len(shared_lemmas))), y=[x[1] for x in shared_lemmas], ax=axs[0])\n",
    "# sns.histplot([x[1] for x in shared_stems if x[1]], bins=20, ax=axs[0])\n",
    "# sns.histplot([x[1] for x in shared_lemmas if x[1]], bins=20, ax=axs[0])\n",
    "sns.histplot([x[1] for x in shared_stems if x[1] > 5], bins=10, ax=axs[1])\n",
    "sns.histplot([x[1] for x in shared_lemmas if x[1] > 5], bins=10, ax=axs[1])\n",
    "\n",
    "# titres\n",
    "axs[0].set_title(\"Distribution des stems et lemmes partagés par plusieurs mots\")\n",
    "axs[1].set_title(\"Distribution des stems et lemmes partagés zoomé (> 5 mots)\")\n",
    "\n",
    "# legendes\n",
    "axs[0].legend([\"Stems\", \"Lemmas\"])\n",
    "axs[1].legend([\"Stems\", \"Lemmas\"])\n",
    "\n",
    "# axes\n",
    "axs[0].set_xlabel(\"Index des stems/lemmes\")\n",
    "axs[0].set_ylabel(\"Nombre de mots différents\")\n",
    "axs[1].set_xlabel(\"Nombre de mots différents\")\n",
    "axs[1].set_ylabel(\"Nombre de stems/lemmes\")"
   ]
  },
  {
   "cell_type": "markdown",
   "id": "e63a9d03",
   "metadata": {},
   "source": [
    "Les lemmes sont uniformément plus \"uniques\", moins de mots partagent les mêmes lemmes à travers presque toute la distribution que ne partagent la même stem.\n",
    "Un index par stem confondra davantage la query qu'un index par lemmes.\n",
    "On peut noter que les mots qui partagent le plus de lemmes en ont plus que ceux qui partagent le plus de stems."
   ]
  },
  {
   "cell_type": "markdown",
   "id": "b284896d",
   "metadata": {},
   "source": [
    "Combien de racines sont répétées ?"
   ]
  },
  {
   "cell_type": "code",
   "execution_count": null,
   "id": "ec0756d4",
   "metadata": {},
   "outputs": [
    {
     "data": {
      "text/plain": [
       "(0.7190889370932755, 0.784949215143121)"
      ]
     },
     "execution_count": 30,
     "metadata": {},
     "output_type": "execute_result"
    }
   ],
   "source": [
    "counts_stems = {}\n",
    "for stem, count in shared_stems:\n",
    "    if count not in counts_stems:\n",
    "        counts_stems[count] = 0\n",
    "    counts_stems[count] += 1\n",
    "    \n",
    "counts_lemmas = {}\n",
    "for lemma, count in shared_lemmas:\n",
    "    if count not in counts_lemmas:\n",
    "        counts_lemmas[count] = 0\n",
    "    counts_lemmas[count] += 1\n",
    "    \n",
    "counts_stems[1] / sum(counts_stems.values()), counts_lemmas[1] / sum(counts_lemmas.values())\n",
    "# (counts_stems[1] + counts_stems[2]) / sum(counts_stems.values()), (counts_lemmas[1] + counts_lemmas[2]) / sum(counts_lemmas.values())"
   ]
  },
  {
   "cell_type": "markdown",
   "id": "ea26b5df",
   "metadata": {},
   "source": [
    "72% des stems sont uniques, 78% des lemmes sont uniques (confirme l'observation par le graphique précédent)\n",
    "\n",
    "88% des stems sont uniques ou partagés par 2 mots, 94% des lemmes sont uniques ou partagés par 2 mots"
   ]
  },
  {
   "cell_type": "code",
   "execution_count": null,
   "id": "48bcde83",
   "metadata": {},
   "outputs": [
    {
     "data": {
      "text/plain": [
       "Text(0, 0.5, 'Nombre de mots différents')"
      ]
     },
     "execution_count": 31,
     "metadata": {},
     "output_type": "execute_result"
    },
    {
     "data": {
      "image/png": "[encoded data removed]",
      "text/plain": [
       "<Figure size 2000x600 with 2 Axes>"
      ]
     },
     "metadata": {},
     "output_type": "display_data"
    }
   ],
   "source": [
    "fig, axs = plt.subplots(1, 2, figsize=(20, 6))\n",
    "sns.barplot(x=[x[0] for x in shared_stems[:10]], y=[x[1] for x in shared_stems[:10]], ax=axs[0])\n",
    "sns.barplot(x=[x[0] for x in shared_lemmas[:10]], y=[x[1] for x in shared_lemmas[:10]], ax=axs[1])\n",
    "\n",
    "# titre\n",
    "axs[0].set_title(\"10 stems les plus partagés\")\n",
    "axs[1].set_title(\"10 lemmes les plus partagés\")\n",
    "# axes\n",
    "axs[0].set_xlabel(\"Stems\")\n",
    "axs[1].set_xlabel(\"Lemmas\")\n",
    "axs[0].set_ylabel(\"Nombre de mots différents\")\n",
    "axs[1].set_ylabel(\"Nombre de mots différents\")"
   ]
  },
  {
   "cell_type": "markdown",
   "id": "2199cbb1",
   "metadata": {},
   "source": [
    "Les lemmes les plus denses (mots associés) sont les verbes, et ils le sont plus que les stems les plus denses\n",
    "Les mots stemmés les plus denses sont les mots qui présentent un préfix courant en français (integr) engendre beaucoup de mots.\n",
    "\n",
    "Les lemmes confondent les différentes flexions d'un verbe, tandis que les stems confondent plutôt les mots avec le même préfixe.\n",
    "Intuitivement, il semble plus pertinent d'ignorer les formes d'un verbe, et risqué d'ignorer différents mots qui partagent \"observ\" par exemple."
   ]
  },
  {
   "cell_type": "code",
   "execution_count": null,
   "id": "3840374c",
   "metadata": {},
   "outputs": [
    {
     "name": "stdout",
     "output_type": "stream",
     "text": [
      "trousseaux -> trousseau / trousseau\n",
      "environnement -> environnement / environ\n",
      "environ -> environ / environ\n",
      "expéridiraient -> expéridiraier / expérid\n",
      "expédier -> expédier / expédi\n",
      "expédition -> expédition / expédit\n",
      "expédions -> expédier / exped\n",
      "décomposaient -> décomposer / décompos\n",
      "décomposition -> décomposition / décomposit\n"
     ]
    }
   ],
   "source": [
    "from index import spacy_lemmatize, snowball_stem\n",
    "\n",
    "for word in (\"trousseaux\", \"environnement\", \"environ\", \"expéridiraient\", \"expédier\", \"expédition\", \"expédions\", \"décomposaient\", \"décomposition\"):\n",
    "    print(f\"{word} -> {spacy_lemmatize(word)[0]} / {snowball_stem(word)[0]}\")"
   ]
  },
  {
   "cell_type": "markdown",
   "id": "67f46611",
   "metadata": {},
   "source": [
    "Les stems mélangent \"environ\" et \"environnement\" alors que ce sont des mots très différents. La lemmatisation distingue les deux.\n",
    "Expédier et \"expédions\" deux formes du même verbe sont différenciés par les stems alors que les lemmes les confondent, même formes d'un même verbe (plus pertinent)\n",
    "Stems et Lemmes s'accordent sinon sur de nombreux exemples, en particulier les noms comme \"trousseau\" pour lesquels ils parviennent à simplifier les pluriels.\n"
   ]
  }
 ],
 "metadata": {
  "kernelspec": {
   "display_name": ".venv",
   "language": "python",
   "name": "python3"
  },
  "language_info": {
   "codemirror_mode": {
    "name": "ipython",
    "version": 3
   },
   "file_extension": ".py",
   "mimetype": "text/x-python",
   "name": "python",
   "nbconvert_exporter": "python",
   "pygments_lexer": "ipython3",
   "version": "3.12.10"
  }
 },
 "nbformat": 4,
 "nbformat_minor": 5
}
