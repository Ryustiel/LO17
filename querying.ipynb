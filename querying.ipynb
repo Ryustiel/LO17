{
 "cells": [
  {
   "cell_type": "markdown",
   "id": "2a91447f",
   "metadata": {},
   "source": [
    "# Code minimal nécessaire pour Query"
   ]
  },
  {
   "cell_type": "code",
   "execution_count": 1,
   "id": "1a21b028",
   "metadata": {},
   "outputs": [],
   "source": [
    "DATA_FOLDER = \"\"\n",
    "XML_INITIAL_FILE = \"\"\n",
    "ANTI_DICT_FILE = \"\"\n",
    "STEMMED_REPLACEMENTS = \"\""
   ]
  },
  {
   "cell_type": "code",
   "execution_count": null,
   "id": "a064e18d",
   "metadata": {},
   "outputs": [],
   "source": [
    "import pandas\n",
    "\n",
    "substitutions = pandas.read_csv(STEMMED_REPLACEMENTS, sep=\"\\t\", header=None, na_filter=False)\n",
    "substitutions.head(3)  # Fichier de Substitutions par lemmes"
   ]
  },
  {
   "cell_type": "code",
   "execution_count": null,
   "id": "c09b1158",
   "metadata": {},
   "outputs": [],
   "source": [
    "from index import Corpus\n",
    "\n",
    "with open(XML_INITIAL_FILE, \"r\", encoding=\"utf-8\") as f:\n",
    "    CORPUS = Corpus.model_validate_xml(f.read())"
   ]
  },
  {
   "cell_type": "code",
   "execution_count": null,
   "id": "f4e8f38c",
   "metadata": {},
   "outputs": [],
   "source": [
    "from index import InvertedIndex\n",
    "\n",
    "replacements = {inp: repl for inp, repl in zip(substitutions[0], substitutions[1])}\n",
    "\n",
    "INDEX = {}\n",
    "for zone in [\"titre\", \"texte\", \"legendes\"]:\n",
    "    INDEX[zone] = InvertedIndex()\n",
    "    \n",
    "    # TODO : Construire l'index en remplaçant les tokens par leurs lemmes à posteriori\n",
    "    # TODO : 1. Construire un nouvel objet InvertedIndex 2. Récupérer chaque liste de document associé au token 3. Rassembler les doc_id qui ont le même lemme\n",
    "    \n",
    "    for token, doc_ids in CORPUS.inverted_token_index(zones=[zone]).items():\n",
    "        \n",
    "        filtered_token = replacements.get(token, token)\n",
    "        \n",
    "        if filtered_token not in INDEX[zone]:\n",
    "            INDEX[zone][filtered_token] = []\n",
    "            \n",
    "        INDEX[zone][filtered_token].extend(doc_ids)\n",
    "        \n",
    "INDEX[\"texte\"].keys()"
   ]
  },
  {
   "cell_type": "code",
   "execution_count": null,
   "id": "3c154d24",
   "metadata": {},
   "outputs": [],
   "source": [
    "from index import Query\n",
    "q = Query.build('montre moi les articles qui parlent de environnement minimum depuis juillet 2011 et qui nest pas dans la rubrique Focus')\n",
    "print(q)\n",
    "q.search(documents=CORPUS, index=INDEX)"
   ]
  }
 ],
 "metadata": {
  "kernelspec": {
   "display_name": ".venv",
   "language": "python",
   "name": "python3"
  },
  "language_info": {
   "codemirror_mode": {
    "name": "ipython",
    "version": 3
   },
   "file_extension": ".py",
   "mimetype": "text/x-python",
   "name": "python",
   "nbconvert_exporter": "python",
   "pygments_lexer": "ipython3",
   "version": "3.12.3"
  }
 },
 "nbformat": 4,
 "nbformat_minor": 5
}
