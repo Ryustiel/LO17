{
 "cells": [
  {
   "cell_type": "code",
   "execution_count": 2,
   "metadata": {},
   "outputs": [],
   "source": [
    "from index import BS4Parser, Document, Image\n",
    "BS4CLIENT = BS4Parser()"
   ]
  },
  {
   "cell_type": "code",
   "execution_count": 3,
   "metadata": {},
   "outputs": [
    {
     "data": {
      "text/plain": [
       "Document(numero='258', date=None, rubrique='Focus', titre='Physique : Mathias Fink, un bel exemple de chercheur qui innove', auteur='ADIT - Jean-François Desessard - email : jfd@adit.fr', contact=None, texte=None, images=[Image(url='lol', legende='aha'), Image(url='OmO', legende='UwU')])"
      ]
     },
     "execution_count": 3,
     "metadata": {},
     "output_type": "execute_result"
    }
   ],
   "source": [
    "model = BS4CLIENT.process_local_file(\"data/BULLETINS/67068.htm\")\n",
    "model.images = [Image(url=\"lol\", legende=\"aha\"), Image(url=\"OmO\", legende=\"UwU\")]\n",
    "model"
   ]
  },
  {
   "cell_type": "code",
   "execution_count": 7,
   "metadata": {},
   "outputs": [
    {
     "data": {
      "text/plain": [
       "Document(numero='258', date=datetime.datetime(2025, 3, 20, 13, 14, 31, 920973), rubrique='Focus', titre='Physique : Mathias Fink, un bel exemple de chercheur qui innove', auteur='ADIT - Jean-François Desessard - email : jfd@adit.fr', contact=None, texte=None, images=[Image(url='lol', legende='aha'), Image(url='OmO', legende='UwU')])"
      ]
     },
     "execution_count": 7,
     "metadata": {},
     "output_type": "execute_result"
    }
   ],
   "source": [
    "import datetime\n",
    "model.date = datetime.datetime.now()\n",
    "model"
   ]
  },
  {
   "cell_type": "code",
   "execution_count": 8,
   "metadata": {},
   "outputs": [
    {
     "data": {
      "text/plain": [
       "b'<Document><numero>258</numero><date>2025-03-20T13:14:31.920973</date><rubrique>Focus</rubrique><titre>Physique : Mathias Fink, un bel exemple de chercheur qui innove</titre><auteur>ADIT - Jean-Fran\\xc3\\xa7ois Desessard - email : jfd@adit.fr</auteur><images><Image><url>lol</url><legende>aha</legende></Image><Image><url>OmO</url><legende>UwU</legende></Image></images></Document>'"
      ]
     },
     "execution_count": 8,
     "metadata": {},
     "output_type": "execute_result"
    }
   ],
   "source": [
    "xml = model.model_dump_xml_str()\n",
    "xml"
   ]
  },
  {
   "cell_type": "code",
   "execution_count": 9,
   "metadata": {},
   "outputs": [
    {
     "data": {
      "text/plain": [
       "Document(numero='258', date=datetime.datetime(2025, 3, 20, 13, 14, 31, 920973), rubrique='Focus', titre='Physique : Mathias Fink, un bel exemple de chercheur qui innove', auteur='ADIT - Jean-François Desessard - email : jfd@adit.fr', contact=None, texte=None, images=[Image(url='lol', legende='aha'), Image(url='OmO', legende='UwU')])"
      ]
     },
     "execution_count": 9,
     "metadata": {},
     "output_type": "execute_result"
    }
   ],
   "source": [
    "Document.model_validate_xml(xml)"
   ]
  },
  {
   "cell_type": "code",
   "execution_count": 10,
   "metadata": {},
   "outputs": [
    {
     "data": {
      "text/plain": [
       "[Document(numero='258', date=None, rubrique='Focus', titre='Physique : Mathias Fink, un bel exemple de chercheur qui innove', auteur='ADIT - Jean-François Desessard - email : jfd@adit.fr', contact=None, texte=None, images=[]),\n",
       " Document(numero='258', date=None, rubrique='Actualité Innovation', titre=\"Recherche pour l'environnement : AllEnvi publie son premier rapport\", auteur='ADIT - Jean-François Desessard - email : jfd@adit.fr', contact=None, texte=None, images=[]),\n",
       " Document(numero='259', date=None, rubrique='Focus', titre=\"Une médaille de l'innovation qui récompense un roboticien qui ne cesse d'innover\", auteur='ADIT - Jean-François Desessard - email : jfd@adit.fr', contact=None, texte=None, images=[]),\n",
       " Document(numero='259', date=None, rubrique='Actualité Innovation', titre='Produire du biogaz et absorber du CO2 grâce à des micro-algues', auteur='ADIT - Jean-François Desessard - email : jfd@adit.fr', contact=None, texte=None, images=[]),\n",
       " Document(numero='259', date=None, rubrique='Actualité Innovation', titre='Des réseaux de capteurs sans fil à moindre coût pour les usines', auteur='ADIT - Jean-François Desessard - email : jfd@adit.fr', contact=None, texte=None, images=[])]"
      ]
     },
     "execution_count": 10,
     "metadata": {},
     "output_type": "execute_result"
    }
   ],
   "source": [
    "BS4CLIENT.process_folder(\"data/BULLETINS\", limit=5)"
   ]
  }
 ],
 "metadata": {
  "kernelspec": {
   "display_name": ".venv",
   "language": "python",
   "name": "python3"
  },
  "language_info": {
   "codemirror_mode": {
    "name": "ipython",
    "version": 3
   },
   "file_extension": ".py",
   "mimetype": "text/x-python",
   "name": "python",
   "nbconvert_exporter": "python",
   "pygments_lexer": "ipython3",
   "version": "3.12.3"
  }
 },
 "nbformat": 4,
 "nbformat_minor": 2
}
