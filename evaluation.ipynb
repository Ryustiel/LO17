{
 "cells": [
  {
   "cell_type": "markdown",
   "id": "02559c92",
   "metadata": {},
   "source": [
    "## Evaluation des performances de la recherche et de la tokenization"
   ]
  },
  {
   "cell_type": "code",
   "execution_count": null,
   "id": "d7069d35",
   "metadata": {},
   "outputs": [],
   "source": [
    "# TODO : Afficher les comparatifs de lemmes"
   ]
  },
  {
   "cell_type": "code",
   "execution_count": null,
   "id": "457c2fa5",
   "metadata": {},
   "outputs": [],
   "source": [
    "# TODO : Générer des graphiques sur les résultats de la recherche"
   ]
  }
 ],
 "metadata": {
  "kernelspec": {
   "display_name": ".venv",
   "language": "python",
   "name": "python3"
  },
  "language_info": {
   "name": "python",
   "version": "3.12.3"
  }
 },
 "nbformat": 4,
 "nbformat_minor": 5
}
