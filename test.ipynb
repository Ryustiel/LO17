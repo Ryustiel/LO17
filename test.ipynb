{
 "cells": [
  {
   "cell_type": "code",
   "metadata": {
    "ExecuteTime": {
     "end_time": "2025-03-20T13:50:49.745871Z",
     "start_time": "2025-03-20T13:50:49.592827Z"
    }
   },
   "source": [
    "from index import BS4Parser, Document, Image\n",
    "BS4CLIENT = BS4Parser()"
   ],
   "outputs": [],
   "execution_count": 1
  },
  {
   "cell_type": "code",
   "metadata": {
    "ExecuteTime": {
     "end_time": "2025-03-20T13:50:49.776242Z",
     "start_time": "2025-03-20T13:50:49.753459Z"
    }
   },
   "source": [
    "model = BS4CLIENT.process_local_file(\"data/BULLETINS/67068.htm\")\n",
    "model.images = [Image(url=\"lol\", legende=\"aha\"), Image(url=\"OmO\", legende=\"UwU\")]\n",
    "model"
   ],
   "outputs": [
    {
     "data": {
      "text/plain": [
       "Document(fichier='67068.htm', numero='258', date=datetime.datetime(2011, 6, 21, 0, 0), rubrique='Focus', titre='Physique : Mathias Fink, un bel exemple de chercheur qui innove', auteur='ADIT - Jean-François Desessard - email : jfd@adit.fr', contact='Institut Langevin \"Ondes et Images\" - Mathias Fink - email : mathias.fink@espci.fr - http://www.institut-langevin.espci.fr', texte='Le 27 avril dernier, le CNRS décernait pour la première fois la Médaille de l\\'Innovation, dont Valérie Pécresse, ministre de l\\'Enseignement Supérieur et de la Recherche est à l\\'origine de la création. Le CNRS souhaite ainsi honorer des chercheurs et ingénieurs travaillant dans des établissements publics de recherche, des universités, des grandes écoles mais aussi des industriels qui développent des innovations marquantes. Pour cette première édition, cette nouvelle distinction a été attribuée à trois chercheurs réputés : l\\'économiste Esther Duflo, le roboticien François Pierrot et le physicien Mathias Fink. Directeur de l\\'Institut Langevin \"Ondes et Images\", créé en janvier 2009 au sein de l\\'Ecole de Physique et de Chimie Industrielles de la Ville de Paris (ESPCI), Mathias Fink est un remarquable exemple de ces chercheurs qui innovent. Les travaux de son équipe ont en effet abouti à la création de quatre start-ups, qui totalisent 230 personnes, dans des domaines aussi variés que la médecine, les télécommunications, le multimédia ou encore les objets tactiles. \"J\\'aime transformer des idées de physique très fondamentale en produits innovants\", précise d\\'emblée Mathias Fink. Mais pour y parvenir, il fallait trouver le \"terrain\" propice. Et c\\'est à la fin des années 1980, à l\\'occasion d\\'une rencontre avec Georges Charpak, le prix Nobel de Physique 1992, qu\\'il va le découvrir, au coeur de la Montagne Sainte Geneviève, en plein Paris. Alors physicien au sein d\\'un des plus grands laboratoires français de physique du solide, Mathias Fink souhaite faire de l\\'innovation autour du concept de renversement du temps. De la \"belle physique\" comme la qualifient les connaisseurs, qui plus est qui intéresse quatre grands industriels du secteur aéronautique (Dassault, Aerospatial, Snecma, Turboméca), prêts à financer des travaux. Mais à cette époque, le milieu de la recherche est encore peu enclin à travailler avec l\\'industrie, d\\'autant plus si celle-ci est \"militaro-industrielle\". Aussi Mathias Fink se retrouve isolé. Georges Charpak lui propose alors de rencontrer Pierre-Gilles de Gennes, alors directeur de l\\'ESPCI, et Jacques Lewiner, le directeur scientifique. \"C\\'est un endroit sympathique\", lui précise Georges Charpak. \"Je les ai rencontré. L\\'endroit était en effet très sympathique. Ils m\\'ont alors dit : vous voulez Innovez ? Alors venez\", résume Mathias Fink qui ajoute : \"cela a été la chance de ma carrière\". Vous êtes chercheur : amusez-vous C\\'est ainsi que dès 1990, ce physicien crée le Laboratoire Ondes et Acoustique, dans une école qu\\'il qualifie d\\'\"unique\". \"Innover est particulièrement bien vu à l\\'ESPCI, et l\\'on vous donne le feu vert du moment que l\\'idée proposée est très originale\", précise-t-il. Autre particularité de cette école vraiment pas comme les autres Grandes Ecoles, la pluridisciplinarité qui y règne. Ne cherchez pas, vous n\\'y trouverez pas comme ailleurs un département de physique, un département de chimie et un département de biologie. \"Ici, on vous dit dès le départ : vous êtes chercheur, amusez-vous\", souligne-t-il avec une pointe d\\'humour. Et c\\'est en s\\'amusant que lui et son équipe ont développé les fameux miroirs à retournement temporel qui permettent d\\'échantillonner et d\\'enregistrer un champ acoustique incident puis de le réémettre dans une chronologie inversée. Mathias Fink et ses collaborateurs se sont rendus compte en effet que faire revivre à une onde sa vie passée permettait de focaliser cette onde à sa source d\\'une façon très efficace. Ils commencèrent alors à travailler d\\'abord sur les ultrasons, puis sur les ondes sismiques et les micro-ondes. Cette équipe aurait pu se limiter à publier d\\'excellents papiers dans des publications réputées comme Physical Review. Mais ces chercheurs ont compris très vite qu\\'au-delà de cette \"belle physique\", il y avait des applications potentielles. Ainsi le renversement du temps permettait de brûler une tumeur, mais aussi de détruire un composant électronique, ou encore de voir derrière un mur ou d\\'envoyer des informations à un endroit précis dans une pièce. \"Progressivement, nous avons donc développé un certain nombre d\\'instruments originaux qui ont fini par déboucher sur la création de plusieurs start-ups\", indique-t-il. A partir du concept de renversement du temps, Mathias Fink et son équipe ont découvert qu\\'il était possible de créer des images d\\'une autre façon. Aussi sont-ils parvenus à fabriquer des imageurs du corps humain grâce auxquels il est possible d\\'obtenir 10.000 images par seconde du corps humain. \"Nous avons pu alors découvrir que le corps humain était parcouru d\\'ondes que jamais personne n\\'avait observé jusqu\\'alors\", s\\'enthousiasme-t-il. La pluridisciplinarité, clé de la réussite de l\\'Institut Langevin \"Ondes et Images\" Le renversement du temps aurait-il des effets sur l\\'âge de ceux qui le pratiquent ? Au-delà de la boutade, Mathias Fink, âgé aujourd\\'hui de 65 ans, pourrait le laisser croire, tant son enthousiasme reste intact. Ainsi, en 2009 a-t-il concrétisé le rapprochement de son laboratoire avec un autre laboratoire de l\\'ESPCI, celui d\\'Optique Physique, en créant l\\'Institut Langevin \"Ondes et Images\", dont il est le directeur, Arnaud Tourin et Rémi Carminatti en étant les deux directeurs adjoints. Cette Unité Mixte de Recherche (CNRS/ESPCI ParisTech/UPMC/Université Paris-Diderot), qui compte une centaine de personnes, a pour coeur de métier la physique des ondes. Les recherches qui y sont menées s\\'étendent des concepts fondamentaux aux applications les plus poussées de l\\'imagerie multi-ondes (acousto-optique, photo-acoustique, élastographie par ultrasons ou IRM) aux techniques originales de focalisation (retournement temporel, filtre inverse, contrôle de front d\\'ondes), en passant par la création d\\'entreprises mettant en oeuvre ces nouvelles technologies dans les domaines du biomédical, des télécommunications, de la domotique, etc. \"L\\'aventure se poursuit, toujours dans la pluridisciplinarité, qui est la clé de notre réussite. Aussi faut-il impérativement la préserver\", conclut-il.', images=[Image(url='lol', legende='aha'), Image(url='OmO', legende='UwU')])"
      ]
     },
     "execution_count": 2,
     "metadata": {},
     "output_type": "execute_result"
    }
   ],
   "execution_count": 2
  },
  {
   "cell_type": "code",
   "metadata": {
    "ExecuteTime": {
     "end_time": "2025-03-20T13:50:49.923627Z",
     "start_time": "2025-03-20T13:50:49.916177Z"
    }
   },
   "source": [
    "import datetime\n",
    "model.date = datetime.datetime.now()\n",
    "model"
   ],
   "outputs": [
    {
     "data": {
      "text/plain": [
       "Document(fichier='67068.htm', numero='258', date=datetime.datetime(2025, 3, 20, 14, 50, 49, 916177), rubrique='Focus', titre='Physique : Mathias Fink, un bel exemple de chercheur qui innove', auteur='ADIT - Jean-François Desessard - email : jfd@adit.fr', contact='Institut Langevin \"Ondes et Images\" - Mathias Fink - email : mathias.fink@espci.fr - http://www.institut-langevin.espci.fr', texte='Le 27 avril dernier, le CNRS décernait pour la première fois la Médaille de l\\'Innovation, dont Valérie Pécresse, ministre de l\\'Enseignement Supérieur et de la Recherche est à l\\'origine de la création. Le CNRS souhaite ainsi honorer des chercheurs et ingénieurs travaillant dans des établissements publics de recherche, des universités, des grandes écoles mais aussi des industriels qui développent des innovations marquantes. Pour cette première édition, cette nouvelle distinction a été attribuée à trois chercheurs réputés : l\\'économiste Esther Duflo, le roboticien François Pierrot et le physicien Mathias Fink. Directeur de l\\'Institut Langevin \"Ondes et Images\", créé en janvier 2009 au sein de l\\'Ecole de Physique et de Chimie Industrielles de la Ville de Paris (ESPCI), Mathias Fink est un remarquable exemple de ces chercheurs qui innovent. Les travaux de son équipe ont en effet abouti à la création de quatre start-ups, qui totalisent 230 personnes, dans des domaines aussi variés que la médecine, les télécommunications, le multimédia ou encore les objets tactiles. \"J\\'aime transformer des idées de physique très fondamentale en produits innovants\", précise d\\'emblée Mathias Fink. Mais pour y parvenir, il fallait trouver le \"terrain\" propice. Et c\\'est à la fin des années 1980, à l\\'occasion d\\'une rencontre avec Georges Charpak, le prix Nobel de Physique 1992, qu\\'il va le découvrir, au coeur de la Montagne Sainte Geneviève, en plein Paris. Alors physicien au sein d\\'un des plus grands laboratoires français de physique du solide, Mathias Fink souhaite faire de l\\'innovation autour du concept de renversement du temps. De la \"belle physique\" comme la qualifient les connaisseurs, qui plus est qui intéresse quatre grands industriels du secteur aéronautique (Dassault, Aerospatial, Snecma, Turboméca), prêts à financer des travaux. Mais à cette époque, le milieu de la recherche est encore peu enclin à travailler avec l\\'industrie, d\\'autant plus si celle-ci est \"militaro-industrielle\". Aussi Mathias Fink se retrouve isolé. Georges Charpak lui propose alors de rencontrer Pierre-Gilles de Gennes, alors directeur de l\\'ESPCI, et Jacques Lewiner, le directeur scientifique. \"C\\'est un endroit sympathique\", lui précise Georges Charpak. \"Je les ai rencontré. L\\'endroit était en effet très sympathique. Ils m\\'ont alors dit : vous voulez Innovez ? Alors venez\", résume Mathias Fink qui ajoute : \"cela a été la chance de ma carrière\". Vous êtes chercheur : amusez-vous C\\'est ainsi que dès 1990, ce physicien crée le Laboratoire Ondes et Acoustique, dans une école qu\\'il qualifie d\\'\"unique\". \"Innover est particulièrement bien vu à l\\'ESPCI, et l\\'on vous donne le feu vert du moment que l\\'idée proposée est très originale\", précise-t-il. Autre particularité de cette école vraiment pas comme les autres Grandes Ecoles, la pluridisciplinarité qui y règne. Ne cherchez pas, vous n\\'y trouverez pas comme ailleurs un département de physique, un département de chimie et un département de biologie. \"Ici, on vous dit dès le départ : vous êtes chercheur, amusez-vous\", souligne-t-il avec une pointe d\\'humour. Et c\\'est en s\\'amusant que lui et son équipe ont développé les fameux miroirs à retournement temporel qui permettent d\\'échantillonner et d\\'enregistrer un champ acoustique incident puis de le réémettre dans une chronologie inversée. Mathias Fink et ses collaborateurs se sont rendus compte en effet que faire revivre à une onde sa vie passée permettait de focaliser cette onde à sa source d\\'une façon très efficace. Ils commencèrent alors à travailler d\\'abord sur les ultrasons, puis sur les ondes sismiques et les micro-ondes. Cette équipe aurait pu se limiter à publier d\\'excellents papiers dans des publications réputées comme Physical Review. Mais ces chercheurs ont compris très vite qu\\'au-delà de cette \"belle physique\", il y avait des applications potentielles. Ainsi le renversement du temps permettait de brûler une tumeur, mais aussi de détruire un composant électronique, ou encore de voir derrière un mur ou d\\'envoyer des informations à un endroit précis dans une pièce. \"Progressivement, nous avons donc développé un certain nombre d\\'instruments originaux qui ont fini par déboucher sur la création de plusieurs start-ups\", indique-t-il. A partir du concept de renversement du temps, Mathias Fink et son équipe ont découvert qu\\'il était possible de créer des images d\\'une autre façon. Aussi sont-ils parvenus à fabriquer des imageurs du corps humain grâce auxquels il est possible d\\'obtenir 10.000 images par seconde du corps humain. \"Nous avons pu alors découvrir que le corps humain était parcouru d\\'ondes que jamais personne n\\'avait observé jusqu\\'alors\", s\\'enthousiasme-t-il. La pluridisciplinarité, clé de la réussite de l\\'Institut Langevin \"Ondes et Images\" Le renversement du temps aurait-il des effets sur l\\'âge de ceux qui le pratiquent ? Au-delà de la boutade, Mathias Fink, âgé aujourd\\'hui de 65 ans, pourrait le laisser croire, tant son enthousiasme reste intact. Ainsi, en 2009 a-t-il concrétisé le rapprochement de son laboratoire avec un autre laboratoire de l\\'ESPCI, celui d\\'Optique Physique, en créant l\\'Institut Langevin \"Ondes et Images\", dont il est le directeur, Arnaud Tourin et Rémi Carminatti en étant les deux directeurs adjoints. Cette Unité Mixte de Recherche (CNRS/ESPCI ParisTech/UPMC/Université Paris-Diderot), qui compte une centaine de personnes, a pour coeur de métier la physique des ondes. Les recherches qui y sont menées s\\'étendent des concepts fondamentaux aux applications les plus poussées de l\\'imagerie multi-ondes (acousto-optique, photo-acoustique, élastographie par ultrasons ou IRM) aux techniques originales de focalisation (retournement temporel, filtre inverse, contrôle de front d\\'ondes), en passant par la création d\\'entreprises mettant en oeuvre ces nouvelles technologies dans les domaines du biomédical, des télécommunications, de la domotique, etc. \"L\\'aventure se poursuit, toujours dans la pluridisciplinarité, qui est la clé de notre réussite. Aussi faut-il impérativement la préserver\", conclut-il.', images=[Image(url='lol', legende='aha'), Image(url='OmO', legende='UwU')])"
      ]
     },
     "execution_count": 3,
     "metadata": {},
     "output_type": "execute_result"
    }
   ],
   "execution_count": 3
  },
  {
   "metadata": {
    "ExecuteTime": {
     "end_time": "2025-03-20T13:50:49.941497Z",
     "start_time": "2025-03-20T13:50:49.932073Z"
    }
   },
   "cell_type": "code",
   "source": [
    "xml = model.model_dump_xml_str(tag=\"bulletin\")\n",
    "with open(\"corpus.xml\", \"w\", encoding='utf-8') as f:\n",
    "    f.write(xml)"
   ],
   "outputs": [],
   "execution_count": 4
  },
  {
   "metadata": {
    "ExecuteTime": {
     "end_time": "2025-03-20T13:50:49.956744Z",
     "start_time": "2025-03-20T13:50:49.949057Z"
    }
   },
   "cell_type": "code",
   "source": [
    "xml_pretty = model.model_dump_xml_str_pretty(tag=\"bulletin\")\n",
    "with open(\"corpus_pretty.xml\", \"w\",encoding='utf-8') as f:\n",
    "    f.write(xml_pretty)"
   ],
   "outputs": [],
   "execution_count": 5
  },
  {
   "metadata": {
    "ExecuteTime": {
     "end_time": "2025-03-20T13:50:49.974576Z",
     "start_time": "2025-03-20T13:50:49.965106Z"
    }
   },
   "cell_type": "code",
   "source": "Document.model_validate_xml(xml)",
   "outputs": [
    {
     "data": {
      "text/plain": [
       "Document(fichier='67068.htm', numero='258', date=datetime.datetime(2025, 3, 20, 14, 50, 49, 916177), rubrique='Focus', titre='Physique : Mathias Fink, un bel exemple de chercheur qui innove', auteur='ADIT - Jean-François Desessard - email : jfd@adit.fr', contact='Institut Langevin \"Ondes et Images\" - Mathias Fink - email : mathias.fink@espci.fr - http://www.institut-langevin.espci.fr', texte='Le 27 avril dernier, le CNRS décernait pour la première fois la Médaille de l\\'Innovation, dont Valérie Pécresse, ministre de l\\'Enseignement Supérieur et de la Recherche est à l\\'origine de la création. Le CNRS souhaite ainsi honorer des chercheurs et ingénieurs travaillant dans des établissements publics de recherche, des universités, des grandes écoles mais aussi des industriels qui développent des innovations marquantes. Pour cette première édition, cette nouvelle distinction a été attribuée à trois chercheurs réputés : l\\'économiste Esther Duflo, le roboticien François Pierrot et le physicien Mathias Fink. Directeur de l\\'Institut Langevin \"Ondes et Images\", créé en janvier 2009 au sein de l\\'Ecole de Physique et de Chimie Industrielles de la Ville de Paris (ESPCI), Mathias Fink est un remarquable exemple de ces chercheurs qui innovent. Les travaux de son équipe ont en effet abouti à la création de quatre start-ups, qui totalisent 230 personnes, dans des domaines aussi variés que la médecine, les télécommunications, le multimédia ou encore les objets tactiles. \"J\\'aime transformer des idées de physique très fondamentale en produits innovants\", précise d\\'emblée Mathias Fink. Mais pour y parvenir, il fallait trouver le \"terrain\" propice. Et c\\'est à la fin des années 1980, à l\\'occasion d\\'une rencontre avec Georges Charpak, le prix Nobel de Physique 1992, qu\\'il va le découvrir, au coeur de la Montagne Sainte Geneviève, en plein Paris. Alors physicien au sein d\\'un des plus grands laboratoires français de physique du solide, Mathias Fink souhaite faire de l\\'innovation autour du concept de renversement du temps. De la \"belle physique\" comme la qualifient les connaisseurs, qui plus est qui intéresse quatre grands industriels du secteur aéronautique (Dassault, Aerospatial, Snecma, Turboméca), prêts à financer des travaux. Mais à cette époque, le milieu de la recherche est encore peu enclin à travailler avec l\\'industrie, d\\'autant plus si celle-ci est \"militaro-industrielle\". Aussi Mathias Fink se retrouve isolé. Georges Charpak lui propose alors de rencontrer Pierre-Gilles de Gennes, alors directeur de l\\'ESPCI, et Jacques Lewiner, le directeur scientifique. \"C\\'est un endroit sympathique\", lui précise Georges Charpak. \"Je les ai rencontré. L\\'endroit était en effet très sympathique. Ils m\\'ont alors dit : vous voulez Innovez ? Alors venez\", résume Mathias Fink qui ajoute : \"cela a été la chance de ma carrière\". Vous êtes chercheur : amusez-vous C\\'est ainsi que dès 1990, ce physicien crée le Laboratoire Ondes et Acoustique, dans une école qu\\'il qualifie d\\'\"unique\". \"Innover est particulièrement bien vu à l\\'ESPCI, et l\\'on vous donne le feu vert du moment que l\\'idée proposée est très originale\", précise-t-il. Autre particularité de cette école vraiment pas comme les autres Grandes Ecoles, la pluridisciplinarité qui y règne. Ne cherchez pas, vous n\\'y trouverez pas comme ailleurs un département de physique, un département de chimie et un département de biologie. \"Ici, on vous dit dès le départ : vous êtes chercheur, amusez-vous\", souligne-t-il avec une pointe d\\'humour. Et c\\'est en s\\'amusant que lui et son équipe ont développé les fameux miroirs à retournement temporel qui permettent d\\'échantillonner et d\\'enregistrer un champ acoustique incident puis de le réémettre dans une chronologie inversée. Mathias Fink et ses collaborateurs se sont rendus compte en effet que faire revivre à une onde sa vie passée permettait de focaliser cette onde à sa source d\\'une façon très efficace. Ils commencèrent alors à travailler d\\'abord sur les ultrasons, puis sur les ondes sismiques et les micro-ondes. Cette équipe aurait pu se limiter à publier d\\'excellents papiers dans des publications réputées comme Physical Review. Mais ces chercheurs ont compris très vite qu\\'au-delà de cette \"belle physique\", il y avait des applications potentielles. Ainsi le renversement du temps permettait de brûler une tumeur, mais aussi de détruire un composant électronique, ou encore de voir derrière un mur ou d\\'envoyer des informations à un endroit précis dans une pièce. \"Progressivement, nous avons donc développé un certain nombre d\\'instruments originaux qui ont fini par déboucher sur la création de plusieurs start-ups\", indique-t-il. A partir du concept de renversement du temps, Mathias Fink et son équipe ont découvert qu\\'il était possible de créer des images d\\'une autre façon. Aussi sont-ils parvenus à fabriquer des imageurs du corps humain grâce auxquels il est possible d\\'obtenir 10.000 images par seconde du corps humain. \"Nous avons pu alors découvrir que le corps humain était parcouru d\\'ondes que jamais personne n\\'avait observé jusqu\\'alors\", s\\'enthousiasme-t-il. La pluridisciplinarité, clé de la réussite de l\\'Institut Langevin \"Ondes et Images\" Le renversement du temps aurait-il des effets sur l\\'âge de ceux qui le pratiquent ? Au-delà de la boutade, Mathias Fink, âgé aujourd\\'hui de 65 ans, pourrait le laisser croire, tant son enthousiasme reste intact. Ainsi, en 2009 a-t-il concrétisé le rapprochement de son laboratoire avec un autre laboratoire de l\\'ESPCI, celui d\\'Optique Physique, en créant l\\'Institut Langevin \"Ondes et Images\", dont il est le directeur, Arnaud Tourin et Rémi Carminatti en étant les deux directeurs adjoints. Cette Unité Mixte de Recherche (CNRS/ESPCI ParisTech/UPMC/Université Paris-Diderot), qui compte une centaine de personnes, a pour coeur de métier la physique des ondes. Les recherches qui y sont menées s\\'étendent des concepts fondamentaux aux applications les plus poussées de l\\'imagerie multi-ondes (acousto-optique, photo-acoustique, élastographie par ultrasons ou IRM) aux techniques originales de focalisation (retournement temporel, filtre inverse, contrôle de front d\\'ondes), en passant par la création d\\'entreprises mettant en oeuvre ces nouvelles technologies dans les domaines du biomédical, des télécommunications, de la domotique, etc. \"L\\'aventure se poursuit, toujours dans la pluridisciplinarité, qui est la clé de notre réussite. Aussi faut-il impérativement la préserver\", conclut-il.', images=[Image(url='lol', legende='aha'), Image(url='OmO', legende='UwU')])"
      ]
     },
     "execution_count": 6,
     "metadata": {},
     "output_type": "execute_result"
    }
   ],
   "execution_count": 6
  },
  {
   "metadata": {
    "ExecuteTime": {
     "end_time": "2025-03-20T13:51:46.782672Z",
     "start_time": "2025-03-20T13:51:42.181387Z"
    }
   },
   "cell_type": "code",
   "source": [
    "model_full = BS4CLIENT.process_folder(\"data/BULLETINS\")\n",
    "with open(\"corpus_full.xml\", \"w\", encoding='utf-8') as f:\n",
    "    xml_full = model_full[0].model_dump_xml_str_pretty(tag=\"bulletin\")\n",
    "    f.write(xml_full)\n",
    "with open(\"corpus_full_plus.xml\", \"w\", encoding='utf-8') as f:\n",
    "    xml_full = model_full[0].model_dump_xml_str_pretty(tag=\"bulletin\")\n",
    "    xml_full_plus = '\\n'.join([line for line in xml_full.split('\\n') if line.strip()])\n",
    "    f.write(xml_full_plus)"
   ],
   "outputs": [],
   "execution_count": 8
  },
  {
   "metadata": {
    "ExecuteTime": {
     "end_time": "2025-03-20T13:50:54.285867200Z",
     "start_time": "2025-03-20T13:44:35.294063Z"
    }
   },
   "cell_type": "code",
   "source": [
    "xml_content = '\\n'.join([line for line in xml_pretty.split('\\n') if line.strip()])\n",
    "with open(\"corpus_pretty_plus.xml\", \"w\") as f:\n",
    "    f.write(xml_content)"
   ],
   "outputs": [],
   "execution_count": 8
  }
 ],
 "metadata": {
  "kernelspec": {
   "display_name": ".venv",
   "language": "python",
   "name": "python3"
  },
  "language_info": {
   "codemirror_mode": {
    "name": "ipython",
    "version": 3
   },
   "file_extension": ".py",
   "mimetype": "text/x-python",
   "name": "python",
   "nbconvert_exporter": "python",
   "pygments_lexer": "ipython3",
   "version": "3.12.3"
  }
 },
 "nbformat": 4,
 "nbformat_minor": 2
}
