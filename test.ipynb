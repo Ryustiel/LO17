{
 "cells": [
  {
   "cell_type": "code",
   "execution_count": null,
   "metadata": {},
   "outputs": [],
   "source": [
    "from index import BS4Parser, Document, Image\n",
    "test = BS4Parser()"
   ]
  },
  {
   "cell_type": "code",
   "execution_count": 4,
   "metadata": {},
   "outputs": [
    {
     "data": {
      "text/plain": [
       "Document(numero='258', date=None, rubrique='Focus', titre='Physique : Mathias Fink, un bel exemple de chercheur qui innove', auteur='ADIT - Jean-François Desessard - email : jfd@adit.fr', contact=None, texte=None, images=[Image(url='lol', legende='aha'), Image(url='OmO', legende='UwU')])"
      ]
     },
     "execution_count": 4,
     "metadata": {},
     "output_type": "execute_result"
    }
   ],
   "source": [
    "model = test.process_local_file(\"data/BULLETINS/67068.htm\")\n",
    "model.images = [Image(url=\"lol\", legende=\"aha\"), Image(url=\"OmO\", legende=\"UwU\")]\n",
    "model"
   ]
  },
  {
   "cell_type": "code",
   "execution_count": 5,
   "metadata": {},
   "outputs": [
    {
     "data": {
      "text/plain": [
       "b'<Document><numero>258</numero><rubrique>Focus</rubrique><titre>Physique : Mathias Fink, un bel exemple de chercheur qui innove</titre><auteur>ADIT - Jean-Fran\\xc3\\xa7ois Desessard - email : jfd@adit.fr</auteur><images><Image><url>lol</url><legende>aha</legende></Image><Image><url>OmO</url><legende>UwU</legende></Image></images></Document>'"
      ]
     },
     "execution_count": 5,
     "metadata": {},
     "output_type": "execute_result"
    }
   ],
   "source": [
    "xml = model.model_dump_xml_str()\n",
    "xml"
   ]
  },
  {
   "cell_type": "code",
   "execution_count": 6,
   "metadata": {},
   "outputs": [
    {
     "data": {
      "text/plain": [
       "<Element 'Document' at 0x0000016F32CBA390>"
      ]
     },
     "execution_count": 6,
     "metadata": {},
     "output_type": "execute_result"
    }
   ],
   "source": [
    "import xml.etree.ElementTree as ET\n",
    "ET.fromstring(xml)"
   ]
  },
  {
   "cell_type": "code",
   "execution_count": 7,
   "metadata": {},
   "outputs": [
    {
     "data": {
      "text/plain": [
       "Document(numero='258', date=None, rubrique='Focus', titre='Physique : Mathias Fink, un bel exemple de chercheur qui innove', auteur='ADIT - Jean-François Desessard - email : jfd@adit.fr', contact=None, texte=None, images=[Image(url='lol', legende='aha'), Image(url='OmO', legende='UwU')])"
      ]
     },
     "execution_count": 7,
     "metadata": {},
     "output_type": "execute_result"
    }
   ],
   "source": [
    "Document.model_validate_xml(xml)"
   ]
  }
 ],
 "metadata": {
  "kernelspec": {
   "display_name": ".venv",
   "language": "python",
   "name": "python3"
  },
  "language_info": {
   "codemirror_mode": {
    "name": "ipython",
    "version": 3
   },
   "file_extension": ".py",
   "mimetype": "text/x-python",
   "name": "python",
   "nbconvert_exporter": "python",
   "pygments_lexer": "ipython3",
   "version": "3.12.3"
  }
 },
 "nbformat": 4,
 "nbformat_minor": 2
}
