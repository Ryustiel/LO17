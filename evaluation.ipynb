{
 "cells": [
  {
   "cell_type": "markdown",
   "id": "02559c92",
   "metadata": {},
   "source": [
    "# Perfs"
   ]
  },
  {
   "cell_type": "markdown",
   "id": "5735b85f",
   "metadata": {},
   "source": [
    "## Import de la recherche"
   ]
  },
  {
   "cell_type": "code",
   "execution_count": 2,
   "id": "816e7b3a",
   "metadata": {},
   "outputs": [],
   "source": [
    "from typing import Callable, List, Dict\n",
    "from index import Document, Corpus, InvertedIndex, Query\n",
    "\n",
    "import pandas, os, re\n",
    "\n",
    "DATA_FOLDER = os.path.join(os.getcwd(), \"output\")\n",
    "INDEX_OUTPUT_DIR = os.path.join(DATA_FOLDER, \"index_files\")\n",
    "\n",
    "XML_INITIAL_FILE = os.path.join(DATA_FOLDER, \"corpus_initial.xml\")\n",
    "STEMMED_REPLACEMENTS = os.path.join(DATA_FOLDER, \"stemmed_replacement.tsv\")\n",
    "LEMMATIZED_REPLACEMENTS = os.path.join(DATA_FOLDER, \"lemmatized_replacement.tsv\")\n",
    "\n",
    "STORAGE_TAGS = {\"Corpus\": \"corpus\", \"documents\": \"bulletins\", \"Document\": \"bulletin\", \"Image\": \"image\"}"
   ]
  },
  {
   "cell_type": "markdown",
   "id": "56789ccc",
   "metadata": {},
   "source": [
    "### Reconstruction des Index"
   ]
  },
  {
   "cell_type": "code",
   "execution_count": 3,
   "id": "423af0d5",
   "metadata": {},
   "outputs": [
    {
     "name": "stderr",
     "output_type": "stream",
     "text": [
      "C:\\Users\\ongki\\AppData\\Local\\Temp\\ipykernel_16308\\2807305975.py:10: DtypeWarning: Columns (5,6,7,8,9,10,11,12,13,14,15,16,17,18,19,20,21,22,23,24,25,26,27,28,29,30,31,32,33,34,35,36,37,38,39,40,41,42,43,44,45,46,47,48,49,50,51,52,53,54,55,56,57,58,59,60,61,62,63,64,65,66,67,68,69,70,71,72,73,74,75,76,77,78,79,80,81,82,83,84,85,86,87,88,89,90,91,92,93,94,95,96,97,98,99,100,101,102,103,104,105,106,107,108,109,110,111,112,113,114,115,116,117,118,119,120,121,122,123,124,125,126,127,128,129,130,131,132,133,134,135,136,137,138,139,140,141,142,143,144,145,146,147,148,149,150,151,152,153,154,155,156,157,158,159,160,161,162,163,164,165,166,167,168,169,170,171,172,173,174,175,176,177,178,179,180,181,182,183,184,185,186,187,188,189,190,191,192,193,194,195,196,197,198,199,200,201,202,203,204,205,206,207,208,209,210,211,212,213,214,215,216,217,218,219,220,221,222,223,224,225,226,227,228,229,230,231,232,233,234,235,236,237,238,239,240,241,242,243,244,245,246,247,248,249,250,251,252,253,254,255,256,257,258,259,260,261,262,263,264,265,266,267,268,269,270,271,272,273,274,275,276,277,278,279,280,281,282,283,284,285,286,287,288,289,290,291,292,293,294,295,296,297,298,299,300,301,302,303,304,305,306,307,308,309,310,311,312,313,314,315,316,317,318,319,320,321,322,323,324,325,326,327,328,329,330,331,332,333,334,335,336,337,338,339,340,341,342,343,344,345,346,347,348,349,350,351,352,353,354,355,356,357,358,359,360,361,362,363,364,365,366,367,368,369,370,371,372,373,374,375,376,377,378,379,380,381,382,383,384,385,386,387,388,389,390,391,392,393,394,395,396,397,398,399,400,401,402,403,404,405,406,407,408,409,410,411,412,413,414,415,416,417,418,419,420,421,422,423,424,425,426,427,428,429,430,431,432,433,434,435,436,437,438,439,440,441,442,443,444,445,446,447,448,449,450,451,452,453,454,455,456,457,458,459,460,461,462,463,464,465,466,467,468,469,470,471,472,473,474,475,476,477,478,479,480,481,482,483,484,485,486,487,488,489,490,491,492,493,494,495,496,497,498,499,500,501,502,503,504,505,506,507,508,509,510,511,512,513,514,515,516,517,518,519,520,521,522,523,524,525,526,527,528,529,530,531,532,533,534,535,536,537,538,539,540,541,542,543,544,545,546,547,548,549,550,551,552,553,554,555,556,557,558,559,560,561,562,563,564,565,566,567,568,569,570,571,572,573,574,575,576,577,578,579,580,581,582,583,584,585,586,587,588,589,590,591,592,593,594,595,596,597,598,599,600,601,602,603,604,605,606,607,608,609,610,611,612,613,614,615,616,617,618,619,620,621,622,623,624,625,626,627,628,629,630,631,632,633,634,635,636,637,638,639,640,641,642,643,644,645,646,647,648,649,650,651,652,653,654,655,656,657,658,659,660,661,662,663,664,665,666,667,668,669,670,671,672,673,674,675,676,677,678,679,680,681,682,683,684,685,686,687,688,689,690,691,692,693,694,695,696,697,698,699,700,701,702,703,704,705,706,707,708,709,710,711,712,713,714,715,716,717,718,719,720,721,722,723,724,725,726,727,728,729,730,731,732,733,734,735,736,737,738,739,740,741,742,743,744,745,746,747,748,749,750,751,752,753,754,755,756,757,758,759,760,761,762,763,764,765,766,767,768,769,770,771,772,773,774,775,776,777,778,779,780,781,782,783,784,785,786,787,788,789,790,791,792,793,794,795,796,797,798,799,800,801,802,803,804,805,806,807,808,809,810,811,812,813,814,815,816,817,818,819,820,821,822,823,824,825,826,827,828,829,830,831,832,833,834,835,836,837,838,839,840,841,842,843,844,845,846,847,848,849,850,851,852,853,854,855,856,857,858,859,860,861,862,863,864,865,866,867,868,869,870,871,872,873,874,875,876,877,878,879,880,881,882,883,884,885,886,887,888,889,890,891,892,893,894,895,896,897,898,899,900,901,902,903,904,905,906,907,908,909,910,911,912,913,914,915,916,917,918,919,920,921,922,923,924,925,926,927,928,929,930,931,932,933,934,935,936,937,938,939,940,941,942,943,944,945,946,947,948,949,950,951,952,953,954,955,956,957,958,959,960,961,962,963,964,965,966,967,968,969) have mixed types. Specify dtype option on import or set low_memory=False.\n",
      "  INDEXES[index_type][zone] = InvertedIndex.from_dataframe(pandas.read_csv(os.path.join(INDEX_OUTPUT_DIR, f\"index_{zone}_{index_type}.xml\"), sep=\"\\t\", encoding=\"utf-8\"))\n",
      "C:\\Users\\ongki\\AppData\\Local\\Temp\\ipykernel_16308\\2807305975.py:10: DtypeWarning: Columns (5,6,7,8,9,10,11,12,13,14,15,16,17,18,19,20,21,22,23,24,25,26,27,28,29,30,31,32,33,34,35,36,37,38,39,40,41,42,43,44,45,46,47,48,49,50,51,52,53,54,55,56,57,58,59,60,61,62,63,64,65,66,67,68,69,70,71,72,73,74,75,76,77,78,79,80,81,82,83,84,85,86,87,88,89,90,91,92,93,94,95,96,97,98,99,100,101,102,103,104,105,106,107,108,109,110,111,112,113,114,115,116,117,118,119,120,121,122,123,124,125,126,127,128,129,130,131,132,133,134,135,136,137,138,139,140,141,142,143,144,145,146,147,148,149,150,151,152,153,154,155,156,157,158,159,160,161,162,163,164,165,166,167,168,169,170,171,172,173,174,175,176,177,178,179,180,181,182,183,184,185,186,187,188,189,190,191,192,193,194,195,196,197,198,199,200,201,202,203,204,205,206,207,208,209,210,211,212,213,214,215,216,217,218,219,220,221,222,223,224,225,226,227,228,229,230,231,232,233,234,235,236,237,238,239,240,241,242,243,244,245,246,247,248,249,250,251,252,253,254,255,256,257,258,259,260,261,262,263,264,265,266,267,268,269,270,271,272,273,274,275,276,277,278,279,280,281,282,283,284,285,286,287,288,289,290,291,292,293,294,295,296,297,298,299,300,301,302,303,304,305,306,307,308,309,310,311,312,313,314,315,316,317,318,319,320,321,322,323,324,325,326,327,328,329,330,331,332,333,334,335,336,337,338,339,340,341,342,343,344,345,346,347,348,349,350,351,352,353,354,355,356,357,358,359,360,361,362,363,364,365,366,367,368,369,370,371,372,373,374,375,376,377,378,379,380,381,382,383,384,385,386,387,388,389,390,391,392,393,394,395,396,397,398,399,400,401,402,403,404,405,406,407,408,409,410,411,412,413,414,415,416,417,418,419,420,421,422,423,424,425,426,427,428,429,430,431,432,433,434,435,436,437,438,439,440,441,442,443,444,445,446,447,448,449,450,451,452,453,454,455,456,457,458,459,460,461,462,463,464,465,466,467,468,469,470,471,472,473,474,475,476,477,478,479,480,481,482,483,484,485,486,487,488,489,490,491,492,493,494,495,496,497,498,499,500,501,502,503,504,505,506,507,508,509,510,511,512,513,514,515,516,517,518,519,520,521,522,523,524,525,526,527,528,529,530,531,532,533,534,535,536,537,538,539,540,541) have mixed types. Specify dtype option on import or set low_memory=False.\n",
      "  INDEXES[index_type][zone] = InvertedIndex.from_dataframe(pandas.read_csv(os.path.join(INDEX_OUTPUT_DIR, f\"index_{zone}_{index_type}.xml\"), sep=\"\\t\", encoding=\"utf-8\"))\n"
     ]
    }
   ],
   "source": [
    "# 1. Charge le Corpus\n",
    "with open(XML_INITIAL_FILE, \"r\", encoding=\"utf-8\") as f:\n",
    "    CORPUS = Corpus.model_validate_xml(f.read(), tags=STORAGE_TAGS)\n",
    "\n",
    "# 2. Charge l'Index inversé par zone et par type de tokenisation\n",
    "INDEXES: Dict[str, Dict[str, InvertedIndex]] = {}\n",
    "for index_type in [\"lemmatized\", \"stemmed\"]:\n",
    "    INDEXES[index_type] = {}\n",
    "    for zone in [\"texte\", \"legendes\", \"titre\"]:\n",
    "        INDEXES[index_type][zone] = InvertedIndex.from_dataframe(pandas.read_csv(os.path.join(INDEX_OUTPUT_DIR, f\"index_{zone}_{index_type}.xml\"), sep=\"\\t\", encoding=\"utf-8\"))"
   ]
  },
  {
   "cell_type": "markdown",
   "id": "5be0d96e",
   "metadata": {},
   "source": [
    "### Chargement des fichiers de substitutions pour le processing des mots clés"
   ]
  },
  {
   "cell_type": "code",
   "execution_count": 4,
   "id": "c8f456ad",
   "metadata": {},
   "outputs": [],
   "source": [
    "lemma_substitutions = pandas.read_csv(LEMMATIZED_REPLACEMENTS, sep=\"\\t\", encoding=\"utf-8\", index_col=0, header=None).to_dict()[1]\n",
    "stem_substitutions = pandas.read_csv(STEMMED_REPLACEMENTS, sep=\"\\t\", encoding=\"utf-8\", index_col=0, header=None).to_dict()[1]"
   ]
  },
  {
   "cell_type": "markdown",
   "id": "60634bd7",
   "metadata": {},
   "source": [
    "### Fonctions d'evaluation"
   ]
  },
  {
   "cell_type": "code",
   "execution_count": null,
   "id": "ecfd6d3e",
   "metadata": {},
   "outputs": [
    {
     "data": {
      "text/plain": [
       "'trousseau'"
      ]
     },
     "execution_count": 59,
     "metadata": {},
     "output_type": "execute_result"
    }
   ],
   "source": [
    "from index import spacy_lemmatize, snowball_stem\n",
    "spacy_lemmatize(\"trousseaux\")[0]\n",
    "snowball_stem(\"trousseaux\")[0]"
   ]
  },
  {
   "cell_type": "code",
   "execution_count": 5,
   "id": "18b38149",
   "metadata": {},
   "outputs": [],
   "source": [
    "STANDARDIZE: Callable[[str], str] = lambda x: re.sub(r\"[^\\w\\s]\", \"\", re.sub(r\"'\", \" \", x.strip().lower()))\n",
    "TOKENIZE_LEMMATIZE: Callable[[List[str]], List[str]] = lambda x: lemma_substitutions.get(STANDARDIZE(x), STANDARDIZE(x))\n",
    "TOKENIZE_STEM: Callable[[List[str]], List[str]] = lambda x: stem_substitutions.get(STANDARDIZE(x), STANDARDIZE(x))\n",
    "\n",
    "def APPLY(q: Query, func: callable, fields: List[str]) -> Query:\n",
    "    \"\"\"Apply a function to the tokens in specified fields of a Query object.\"\"\"\n",
    "    for field in fields:\n",
    "        setattr(q, field, [func(token) for token in getattr(q, field)] if isinstance(getattr(q, field), list) else func(getattr(q, field)))\n",
    "    return q\n",
    "\n",
    "def recherche_lemma_ia(query: str) -> List[Document]:\n",
    "    q = Query.llm_build(query)\n",
    "    APPLY(q, TOKENIZE_LEMMATIZE, [\"keywords\", \"excluded_keywords\", \"title_contains\"])\n",
    "    APPLY(q, STANDARDIZE, [\"rubriques\", \"excluded_rubriques\"])\n",
    "    return q.search(documents={d.document_id: d for d in CORPUS.documents}, index=INDEXES[\"lemmatized\"])\n",
    "\n",
    "def recherche_stem_ia(query: str) -> List[Document]:\n",
    "    q = Query.llm_build(query)\n",
    "    APPLY(q, TOKENIZE_LEMMATIZE, [\"keywords\", \"excluded_keywords\", \"title_contains\"])\n",
    "    APPLY(q, STANDARDIZE, [\"rubriques\", \"excluded_rubriques\"])\n",
    "    return q.search(documents={d.document_id: d for d in CORPUS.documents}, index=INDEXES[\"stemmed\"])\n",
    "\n",
    "def recherche_lemma_regex(query: str) -> List[Document]:\n",
    "    q = Query.build(query)\n",
    "    return q.search(documents={d.document_id: d for d in CORPUS.documents}, index=INDEXES[\"lemmatized\"])\n",
    "\n",
    "def recherche_stem_regex(query: str) -> List[Document]:\n",
    "    q = Query.build(query)\n",
    "    return q.search(documents={d.document_id: d for d in CORPUS.documents}, index=INDEXES[\"stemmed\"])"
   ]
  },
  {
   "cell_type": "code",
   "execution_count": null,
   "id": "f67c1131",
   "metadata": {},
   "outputs": [],
   "source": [
    "Query.llm_build(\"Quels sont les articles parus entre le 3 mars 2013 et le 4 mai 2013 évoquant les Etats-Unis ?\")"
   ]
  },
  {
   "cell_type": "code",
   "execution_count": null,
   "id": "066f2605",
   "metadata": {},
   "outputs": [
    {
     "data": {
      "text/plain": [
       "Document(fichier='70745.htm', numero='272', date=datetime.datetime(2012, 8, 9, 0, 0), rubrique='Au coeur des régions', titre=\"Chrono-Environnement ou l'étude de la dynamique des relations entre l'homme et son environnement\", auteur='ADIT - Jean-François Desessard - email : jfd@adit.fr', contact='Chono-Environnement - Daniel Gilbert - email : daniel.gilbert@univ-fcomte.fr', texte='Avec 230 personnes, l\\'Unité Mixte de Recherche (UMR) Chrono-Environnement (CNRS/Université de Franche-Comté) que dirige Daniel Gilbert est aujourd\\'hui le deuxième laboratoire de la région Franche-Comté. Et pourtant, il s\\'agit d\\'un laboratoire dont la structuration est particulièrement originale. N\\'y cherchez pas d\\'équipes en effet, cette structure de recherche essayant avant tout d\\'offrir un \"contexte de travail\" aux géologues, aux archéologues, mais aussi aux biologistes, aux écologistes, aux médecins et aux pharmaciens, mais encore aux physiciens, aux chimistes et aux mathématiciens qui y mènent des travaux. Ici, la pluridisciplinarité et l\\'inter-disciplinarité ne se réduisent pas à de vaines promesses. Elles se pratiquent au quotidien. Et parmi toutes les thématiques auxquelles s\\'intéressent les chercheurs de cette UMR, il y en a quelques-unes, en particulier autour des terroirs et des agrosystèmes qui intéressent le pôle de compétitivité Vitagora. \" Chrono-Environnement est en effet un laboratoire très particulier\" , lâche d\\'emblée Daniel Gilbert, cet écologiste microbien qui le dirige depuis janvier dernier. Particulier parce qu\\'il agrège des thématiques extrêmement différentes qui partagent néanmoins un même objectif, étudier la dynamique des relations entre l\\'homme et son environnement, du Néolithique jusqu\\'à aujourd\\'hui, voire de faire des prévisions pour le futur. D\\'où l\\'absence de véritables équipes telles que l\\'on en trouve dans la quasi-totalité des laboratoires de recherche en France, mais l\\'instauration d\\'un \"contexte de travail\" au travers d\\'un continuum entre la Terre, le climat, les sociétés, l\\'environnement et la santé. Un modèle qui semble bien fonctionner puisque qu\\'aujourd\\'hui, Chrono-Environnement est le 4ème laboratoire de l\\'Institut Ecologie et Environnement (INEE) du CNRS en termes de nombre de publications. Globalement, les chercheurs de Chrono-Environnement s\\'intéressent à 6 grandes thématiques, la première d\\'entre elles concernant les géosciences et les transferts dans les géosystèmes. La seconde porte plus particulièrement sur ce que l\\'on appelle les \"écosystèmes sentinelles\", comme les tourbières et les lacs, dont l\\'étude des sédiments qu\\'ils renferment va permettre de reconstruire les climats et les environnements du passé et d\\'observer leur évolution. \" On peut notamment reconstituer les changements climatiques régionaux depuis plusieurs millénaires\" , explique Daniel Gilbert. Une troisième thématique s\\'intéresse à la dynamique des sociétés et de l\\'agroenvironnement. Par exemple, les chercheurs essayent d\\'évaluer quel a été l\\'impact des activités agricoles des Vikings au Groenland, à l\\'époque d\\'Erik Le Rouge. \" Il s\\'agit de comprendre comment l\\'environnement s\\'est modifié, de quelle manière il a été altéré\" , précise l\\'universitaire franc-comtois. La quatrième thématique \"environnement santé\", vise à mieux identifier les sources de contaminants et leur transfert dans les écosystèmes. Or une fois dans l\\'environnement, ceux-ci vont être transférés en particulier dans les chaînes alimentaires. D\\'où des modifications dans la compétition entre les organismes. \" Aussi essayons nous dans le cadre de la cinquième thématique de comprendre ces modifications à l\\'échelle de l\\'écosystème\" . Enfin la dernière thématique vise à observer comment l\\'homme va réagir à ces multi-expositions. \" Par exemple, nous allons observer les allergies chez les enfants en lien avec le développement de champignons ou encore avec la qualité de l\\'air intérieur\" , indique le directeur de Chrono-Environnement. Certains de ces travaux conduisent ainsi les chercheurs de ce laboratoire franc-comtois à s\\'intéresser aux terroirs, aux pâturages, à travailler sur la notion d\\'AOC, et plus généralement sur \" l\\'environnement de l\\'agroalimentaire\" et la notion de santé en rapport avec l\\'aliment. \" Nous travaillons sur la partie développement durable de l\\'agriculture, d\\'où l\\'intérêt que peuvent représenter certains de nos travaux pour Vitagora \", déclare Daniel Gilbert. Aussi Chrono-Environnement souhaite-t-il se rapprocher du pôle, et renforcer les liens existants déjà via la filière fromagère, et plus particulièrement la filière du Comté, d\\'autant plus que le fonctionnement d\\'un laboratoire aussi particulier implique d\\'entretenir beaucoup de partenariats divers et variés. D\\'où cette volonté de franchir de nouvelles étapes, dans le sillage du pôle de compétitivité Vitagora, le croisement des compétences de ce laboratoire avec celles de certains adhérents du pôle pouvant conduire à l\\'émergence de projets prometteurs pour la Franche-Comté et la Bourgogne.', images=[])"
      ]
     },
     "execution_count": 8,
     "metadata": {},
     "output_type": "execute_result"
    }
   ],
   "source": [
    "res = recherche_lemma_ia(\"montre moi les articles qui parlent de environnement, minimum depuis juillet 2011 et qui nest pas dans la rubrique Focus\")\n",
    "res[0] if res else []"
   ]
  },
  {
   "cell_type": "markdown",
   "id": "dc9eb686",
   "metadata": {},
   "source": [
    "## Evaluation des Performances"
   ]
  },
  {
   "cell_type": "code",
   "execution_count": null,
   "id": "71caa543",
   "metadata": {},
   "outputs": [],
   "source": [
    "TRUTH: Dict[str, List[Document]] = {\n",
    "    \"Quels sont les articles parus entre le 3 mars 2013 et le 4 mai 2013 évoquant les Etats-Unis ?\": [\"72932.htm\"],\n",
    "    \"Je veux les articles de 2014 et de la rubrique Focus et parlant de la santé\": [\"75458.htm\", \"75459.htm\", \"76507.htm\"],\n",
    "    \"Je souhaite les rubriques des articles parlant de nutrition ou de vins.\": [\"Focus\", \"Au coeur des régions\", \"Du côté des pôles\", \"Actualité Innovation\", \"A lire\"], \n",
    "}"
   ]
  },
  {
   "cell_type": "markdown",
   "id": "a6a62fa4",
   "metadata": {},
   "source": [
    "### Calcul des métriques"
   ]
  },
  {
   "cell_type": "code",
   "execution_count": null,
   "id": "57483cdf",
   "metadata": {},
   "outputs": [
    {
     "name": "stderr",
     "output_type": "stream",
     "text": [
      "C:\\Users\\ongki\\AppData\\Local\\Temp\\ipykernel_9316\\3343908899.py:22: FutureWarning: The behavior of DataFrame concatenation with empty or all-NA entries is deprecated. In a future version, this will no longer exclude empty or all-NA columns when determining the result dtypes. To retain the old behavior, exclude the relevant entries before the concat operation.\n",
      "  DATA[layer] = pandas.concat([DATA[layer], pandas.DataFrame([row])], ignore_index=True)\n",
      "C:\\Users\\ongki\\AppData\\Local\\Temp\\ipykernel_9316\\3343908899.py:22: FutureWarning: The behavior of DataFrame concatenation with empty or all-NA entries is deprecated. In a future version, this will no longer exclude empty or all-NA columns when determining the result dtypes. To retain the old behavior, exclude the relevant entries before the concat operation.\n",
      "  DATA[layer] = pandas.concat([DATA[layer], pandas.DataFrame([row])], ignore_index=True)\n",
      "C:\\Users\\ongki\\AppData\\Local\\Temp\\ipykernel_9316\\3343908899.py:22: FutureWarning: The behavior of DataFrame concatenation with empty or all-NA entries is deprecated. In a future version, this will no longer exclude empty or all-NA columns when determining the result dtypes. To retain the old behavior, exclude the relevant entries before the concat operation.\n",
      "  DATA[layer] = pandas.concat([DATA[layer], pandas.DataFrame([row])], ignore_index=True)\n",
      "C:\\Users\\ongki\\AppData\\Local\\Temp\\ipykernel_9316\\3343908899.py:22: FutureWarning: The behavior of DataFrame concatenation with empty or all-NA entries is deprecated. In a future version, this will no longer exclude empty or all-NA columns when determining the result dtypes. To retain the old behavior, exclude the relevant entries before the concat operation.\n",
      "  DATA[layer] = pandas.concat([DATA[layer], pandas.DataFrame([row])], ignore_index=True)\n"
     ]
    },
    {
     "data": {
      "text/html": [
       "<div>\n",
       "<style scoped>\n",
       "    .dataframe tbody tr th:only-of-type {\n",
       "        vertical-align: middle;\n",
       "    }\n",
       "\n",
       "    .dataframe tbody tr th {\n",
       "        vertical-align: top;\n",
       "    }\n",
       "\n",
       "    .dataframe thead th {\n",
       "        text-align: right;\n",
       "    }\n",
       "</style>\n",
       "<table border=\"1\" class=\"dataframe\">\n",
       "  <thead>\n",
       "    <tr style=\"text-align: right;\">\n",
       "      <th></th>\n",
       "      <th>Recall</th>\n",
       "      <th>Precision</th>\n",
       "      <th>Delay</th>\n",
       "      <th>Hint</th>\n",
       "      <th>Size</th>\n",
       "    </tr>\n",
       "  </thead>\n",
       "  <tbody>\n",
       "    <tr>\n",
       "      <th>0</th>\n",
       "      <td>0.0</td>\n",
       "      <td>0.0</td>\n",
       "      <td>2.662811</td>\n",
       "      <td>Quels sont les articles parus entre le 3 mars ...</td>\n",
       "      <td>0.0</td>\n",
       "    </tr>\n",
       "    <tr>\n",
       "      <th>1</th>\n",
       "      <td>1.0</td>\n",
       "      <td>1.0</td>\n",
       "      <td>2.893238</td>\n",
       "      <td>Je veux les articles de 2014 et de la rubrique...</td>\n",
       "      <td>3.0</td>\n",
       "    </tr>\n",
       "    <tr>\n",
       "      <th>2</th>\n",
       "      <td>0.0</td>\n",
       "      <td>0.0</td>\n",
       "      <td>2.229373</td>\n",
       "      <td>Je souhaite les rubriques des articles parlant...</td>\n",
       "      <td>24.0</td>\n",
       "    </tr>\n",
       "  </tbody>\n",
       "</table>\n",
       "</div>"
      ],
      "text/plain": [
       "   Recall  Precision     Delay  \\\n",
       "0     0.0        0.0  2.662811   \n",
       "1     1.0        1.0  2.893238   \n",
       "2     0.0        0.0  2.229373   \n",
       "\n",
       "                                                Hint  Size  \n",
       "0  Quels sont les articles parus entre le 3 mars ...   0.0  \n",
       "1  Je veux les articles de 2014 et de la rubrique...   3.0  \n",
       "2  Je souhaite les rubriques des articles parlant...  24.0  "
      ]
     },
     "execution_count": 10,
     "metadata": {},
     "output_type": "execute_result"
    }
   ],
   "source": [
    "import pandas, datetime\n",
    "\n",
    "CASES = [\"ia_lemma\", \"ia_stem\", \"reg_lemma\", \"reg_stem\"]\n",
    "EVALUATORS = [recherche_lemma_ia, recherche_stem_ia, recherche_lemma_regex, recherche_stem_regex]\n",
    "\n",
    "DATA: Dict[str, pandas.DataFrame] = {name: pandas.DataFrame(columns=[\"Recall\", \"Precision\", \"Delay\", \"Hint\"]) for name in CASES}\n",
    "for layer, search in zip(CASES, EVALUATORS):\n",
    "\n",
    "    for query, truth in TRUTH.items():\n",
    "        \n",
    "        start = datetime.datetime.now()\n",
    "        results = [d.document_id for d in search(query)]\n",
    "\n",
    "        row = {\n",
    "            \"Recall\":    len(set(results) & set(truth)) / len(truth),\n",
    "            \"Precision\": len(set(results) & set(truth)) / len(results) if len(results) > 0 else 0.0,\n",
    "            \"Size\":      len(results),\n",
    "            \"Delay\":     (datetime.datetime.now() - start).total_seconds(),\n",
    "            \"Hint\":      query,\n",
    "        }\n",
    "\n",
    "        DATA[layer] = pandas.concat([DATA[layer], pandas.DataFrame([row])], ignore_index=True)\n",
    "\n",
    "DATA[\"ia_lemma\"]"
   ]
  },
  {
   "cell_type": "code",
   "execution_count": null,
   "id": "f485dca7",
   "metadata": {},
   "outputs": [
    {
     "data": {
      "text/html": [
       "<div>\n",
       "<style scoped>\n",
       "    .dataframe tbody tr th:only-of-type {\n",
       "        vertical-align: middle;\n",
       "    }\n",
       "\n",
       "    .dataframe tbody tr th {\n",
       "        vertical-align: top;\n",
       "    }\n",
       "\n",
       "    .dataframe thead th {\n",
       "        text-align: right;\n",
       "    }\n",
       "</style>\n",
       "<table border=\"1\" class=\"dataframe\">\n",
       "  <thead>\n",
       "    <tr style=\"text-align: right;\">\n",
       "      <th></th>\n",
       "      <th>Recall</th>\n",
       "      <th>Precision</th>\n",
       "      <th>Delay</th>\n",
       "      <th>Hint</th>\n",
       "      <th>Size</th>\n",
       "    </tr>\n",
       "  </thead>\n",
       "  <tbody>\n",
       "    <tr>\n",
       "      <th>0</th>\n",
       "      <td>0.0</td>\n",
       "      <td>0.0</td>\n",
       "      <td>2.822313</td>\n",
       "      <td>Quels sont les articles parus entre le 3 mars ...</td>\n",
       "      <td>0.0</td>\n",
       "    </tr>\n",
       "    <tr>\n",
       "      <th>1</th>\n",
       "      <td>0.0</td>\n",
       "      <td>0.0</td>\n",
       "      <td>2.707644</td>\n",
       "      <td>Je veux les articles de 2014 et de la rubrique...</td>\n",
       "      <td>0.0</td>\n",
       "    </tr>\n",
       "    <tr>\n",
       "      <th>2</th>\n",
       "      <td>0.0</td>\n",
       "      <td>0.0</td>\n",
       "      <td>2.188350</td>\n",
       "      <td>Je souhaite les rubriques des articles parlant...</td>\n",
       "      <td>8.0</td>\n",
       "    </tr>\n",
       "  </tbody>\n",
       "</table>\n",
       "</div>"
      ],
      "text/plain": [
       "   Recall  Precision     Delay  \\\n",
       "0     0.0        0.0  2.822313   \n",
       "1     0.0        0.0  2.707644   \n",
       "2     0.0        0.0  2.188350   \n",
       "\n",
       "                                                Hint  Size  \n",
       "0  Quels sont les articles parus entre le 3 mars ...   0.0  \n",
       "1  Je veux les articles de 2014 et de la rubrique...   0.0  \n",
       "2  Je souhaite les rubriques des articles parlant...   8.0  "
      ]
     },
     "execution_count": 11,
     "metadata": {},
     "output_type": "execute_result"
    }
   ],
   "source": [
    "DATA[\"ia_stem\"]"
   ]
  },
  {
   "cell_type": "markdown",
   "id": "b554427e",
   "metadata": {},
   "source": [
    "### Visualisation"
   ]
  },
  {
   "cell_type": "code",
   "execution_count": null,
   "id": "69ff174b",
   "metadata": {},
   "outputs": [
    {
     "name": "stderr",
     "output_type": "stream",
     "text": [
      "C:\\Users\\ongki\\AppData\\Local\\Temp\\ipykernel_9316\\618777212.py:3: FutureWarning: The behavior of DataFrame concatenation with empty or all-NA entries is deprecated. In a future version, this will no longer exclude empty or all-NA columns when determining the result dtypes. To retain the old behavior, exclude the relevant entries before the concat operation.\n",
      "  df = pandas.concat([\n"
     ]
    },
    {
     "data": {
      "text/html": [
       "<div>\n",
       "<style scoped>\n",
       "    .dataframe tbody tr th:only-of-type {\n",
       "        vertical-align: middle;\n",
       "    }\n",
       "\n",
       "    .dataframe tbody tr th {\n",
       "        vertical-align: top;\n",
       "    }\n",
       "\n",
       "    .dataframe thead th {\n",
       "        text-align: right;\n",
       "    }\n",
       "</style>\n",
       "<table border=\"1\" class=\"dataframe\">\n",
       "  <thead>\n",
       "    <tr style=\"text-align: right;\">\n",
       "      <th></th>\n",
       "      <th>Delay</th>\n",
       "      <th>Recall</th>\n",
       "      <th>Precision</th>\n",
       "      <th>Model</th>\n",
       "    </tr>\n",
       "  </thead>\n",
       "  <tbody>\n",
       "    <tr>\n",
       "      <th>0</th>\n",
       "      <td>2.662811</td>\n",
       "      <td>0.0</td>\n",
       "      <td>0.0</td>\n",
       "      <td>ia_lemma</td>\n",
       "    </tr>\n",
       "    <tr>\n",
       "      <th>1</th>\n",
       "      <td>2.893238</td>\n",
       "      <td>1.0</td>\n",
       "      <td>1.0</td>\n",
       "      <td>ia_lemma</td>\n",
       "    </tr>\n",
       "  </tbody>\n",
       "</table>\n",
       "</div>"
      ],
      "text/plain": [
       "      Delay  Recall  Precision     Model\n",
       "0  2.662811     0.0        0.0  ia_lemma\n",
       "1  2.893238     1.0        1.0  ia_lemma"
      ]
     },
     "execution_count": 12,
     "metadata": {},
     "output_type": "execute_result"
    }
   ],
   "source": [
    "df = pandas.DataFrame(columns=[\"Delay\", \"Recall\", \"Precision\", \"Model\"])\n",
    "for model, data in DATA.items():\n",
    "    df = pandas.concat([\n",
    "        df,\n",
    "        data[[\"Delay\", \"Recall\", \"Precision\"]].assign(Model=model)\n",
    "    ], ignore_index=True)\n",
    "df.head(2)"
   ]
  },
  {
   "cell_type": "code",
   "execution_count": null,
   "id": "457c2fa5",
   "metadata": {},
   "outputs": [
    {
     "data": {
      "text/plain": [
       "<Axes: xlabel='Model', ylabel='Delay'>"
      ]
     },
     "execution_count": 13,
     "metadata": {},
     "output_type": "execute_result"
    },
    {
     "data": {
      "image/png": "[encoded data removed]",
      "text/plain": [
       "<Figure size 2000x600 with 3 Axes>"
      ]
     },
     "metadata": {},
     "output_type": "display_data"
    }
   ],
   "source": [
    "import matplotlib.pyplot as plt\n",
    "import seaborn as sns\n",
    "\n",
    "fig, axs = plt.subplots(1, 3, figsize=(20, 6))\n",
    "\n",
    "sns.boxplot(x=\"Model\", y=\"Delay\", data=df, ax=axs[1])"
   ]
  },
  {
   "cell_type": "code",
   "execution_count": null,
   "id": "bc4b3c6e",
   "metadata": {},
   "outputs": [
    {
     "data": {
      "text/plain": [
       "(10830, 9220)"
      ]
     },
     "execution_count": 15,
     "metadata": {},
     "output_type": "execute_result"
    }
   ],
   "source": [
    "lemmes_uniques = set(lemma_substitutions.values())\n",
    "stemmes_uniques = set(stem_substitutions.values())\n",
    "\n",
    "len(lemmes_uniques), len(stemmes_uniques)"
   ]
  },
  {
   "cell_type": "code",
   "execution_count": 12,
   "id": "49810cdf",
   "metadata": {},
   "outputs": [],
   "source": [
    "def count_shared(substitutions: Dict[str, str]) -> Dict[str, int]:\n",
    "    \"\"\"Calcule le nombre de mots différents qui partagent le même stem / lemma.\"\"\"\n",
    "    counts = {}\n",
    "    for word, stem in substitutions.items():\n",
    "        if stem not in counts:\n",
    "            counts[stem] = set()\n",
    "        counts[stem].add(word)\n",
    "    \n",
    "    return {stem: len(words) for stem, words in counts.items()}\n",
    "\n",
    "shared_stems = sorted(count_shared(stem_substitutions).items(), key=lambda x: x[1], reverse=True)\n",
    "shared_lemmas = sorted(count_shared(lemma_substitutions).items(), key=lambda x: x[1], reverse=True)"
   ]
  },
  {
   "cell_type": "code",
   "execution_count": 51,
   "id": "1d4dbd63",
   "metadata": {},
   "outputs": [
    {
     "data": {
      "text/plain": [
       "Text(0, 0.5, 'Nombre de stems/lemmes')"
      ]
     },
     "execution_count": 51,
     "metadata": {},
     "output_type": "execute_result"
    },
    {
     "data": {
      "image/png": "[encoded data removed]",
      "text/plain": [
       "<Figure size 2000x600 with 2 Axes>"
      ]
     },
     "metadata": {},
     "output_type": "display_data"
    }
   ],
   "source": [
    "import matplotlib.pyplot as plt\n",
    "import seaborn as sns\n",
    "\n",
    "fig, axs = plt.subplots(1, 2, figsize=(20, 6))\n",
    "\n",
    "# plot a histogram of the number of sizes of shared stems and lemmas\n",
    "sns.lineplot(x=list(range(len(shared_stems))), y=[x[1] for x in shared_stems], ax=axs[0])\n",
    "sns.lineplot(x=list(range(len(shared_lemmas))), y=[x[1] for x in shared_lemmas], ax=axs[0])\n",
    "# sns.histplot([x[1] for x in shared_stems if x[1]], bins=20, ax=axs[0])\n",
    "# sns.histplot([x[1] for x in shared_lemmas if x[1]], bins=20, ax=axs[0])\n",
    "sns.histplot([x[1] for x in shared_stems if x[1] > 5], bins=10, ax=axs[1])\n",
    "sns.histplot([x[1] for x in shared_lemmas if x[1] > 5], bins=10, ax=axs[1])\n",
    "\n",
    "# titres\n",
    "axs[0].set_title(\"Distribution des stems et lemmes partagés par plusieurs mots\")\n",
    "axs[1].set_title(\"Distribution des stems et lemmes partagés zoomé (> 5 mots)\")\n",
    "\n",
    "# legendes\n",
    "axs[0].legend([\"Stems\", \"Lemmas\"])\n",
    "axs[1].legend([\"Stems\", \"Lemmas\"])\n",
    "\n",
    "# axes\n",
    "axs[0].set_xlabel(\"Index des stems/lemmes\")\n",
    "axs[0].set_ylabel(\"Nombre de mots différents\")\n",
    "axs[1].set_xlabel(\"Nombre de mots différents\")\n",
    "axs[1].set_ylabel(\"Nombre de stems/lemmes\")"
   ]
  },
  {
   "cell_type": "markdown",
   "id": "e63a9d03",
   "metadata": {},
   "source": [
    "Les lemmes sont uniformément plus \"uniques\", moins de mots partagent les mêmes lemmes à travers presque toute la distribution que ne partagent la même stem.\n",
    "Un index par stem confondra davantage la query qu'un index par lemmes.\n",
    "On peut noter que les mots qui partagent le plus de lemmes en ont plus que ceux qui partagent le plus de stems."
   ]
  },
  {
   "cell_type": "markdown",
   "id": "b284896d",
   "metadata": {},
   "source": [
    "Combien de racines sont répétées ?"
   ]
  },
  {
   "cell_type": "code",
   "execution_count": null,
   "id": "ec0756d4",
   "metadata": {},
   "outputs": [
    {
     "data": {
      "text/plain": [
       "(0.8821041214750542, 0.9444136657433057)"
      ]
     },
     "execution_count": 52,
     "metadata": {},
     "output_type": "execute_result"
    }
   ],
   "source": [
    "counts_stems = {}\n",
    "for stem, count in shared_stems:\n",
    "    if count not in counts_stems:\n",
    "        counts_stems[count] = 0\n",
    "    counts_stems[count] += 1\n",
    "    \n",
    "counts_lemmas = {}\n",
    "for lemma, count in shared_lemmas:\n",
    "    if count not in counts_lemmas:\n",
    "        counts_lemmas[count] = 0\n",
    "    counts_lemmas[count] += 1\n",
    "    \n",
    "counts_stems[1] / sum(counts_stems.values()), counts_lemmas[1] / sum(counts_lemmas.values())\n",
    "# (counts_stems[1] + counts_stems[2]) / sum(counts_stems.values()), (counts_lemmas[1] + counts_lemmas[2]) / sum(counts_lemmas.values())"
   ]
  },
  {
   "cell_type": "markdown",
   "id": "ea26b5df",
   "metadata": {},
   "source": [
    "72% des stems sont uniques, 78% des lemmes sont uniques (confirme l'observation par le graphique précédent)\n",
    "\n",
    "88% des stems sont uniques ou partagés par 2 mots, 94% des lemmes sont uniques ou partagés par 2 mots"
   ]
  },
  {
   "cell_type": "code",
   "execution_count": 46,
   "id": "48bcde83",
   "metadata": {},
   "outputs": [
    {
     "data": {
      "text/plain": [
       "<Axes: >"
      ]
     },
     "execution_count": 46,
     "metadata": {},
     "output_type": "execute_result"
    },
    {
     "data": {
      "image/png": "[encoded data removed]",
      "text/plain": [
       "<Figure size 2000x600 with 2 Axes>"
      ]
     },
     "metadata": {},
     "output_type": "display_data"
    }
   ],
   "source": [
    "fig, axs = plt.subplots(1, 2, figsize=(20, 6))\n",
    "sns.barplot(x=[x[0] for x in shared_stems[:10]], y=[x[1] for x in shared_stems[:10]], ax=axs[0])\n",
    "sns.barplot(x=[x[0] for x in shared_lemmas[:10]], y=[x[1] for x in shared_lemmas[:10]], ax=axs[1])"
   ]
  },
  {
   "cell_type": "markdown",
   "id": "2199cbb1",
   "metadata": {},
   "source": [
    "Les lemmes les plus denses (mots associés) sont les verbes, et ils le sont plus que les stems les plus denses\n",
    "Les mots stemmés les plus denses sont les mots qui présentent un préfix courant en français (integr) engendre beaucoup de mots.\n",
    "\n",
    "Les lemmes confondent les différentes flexions d'un verbe, tandis que les stems confondent plutôt les mots avec le même préfixe.\n",
    "Intuitivement, il semble plus pertinent d'ignorer les formes d'un verbe, et risqué d'ignorer différents mots qui partagent \"observ\" par exemple."
   ]
  },
  {
   "cell_type": "code",
   "execution_count": 63,
   "id": "3840374c",
   "metadata": {},
   "outputs": [
    {
     "name": "stdout",
     "output_type": "stream",
     "text": [
      "trousseaux -> trousseau / trousseau\n",
      "environnement -> environnement / environ\n",
      "environ -> environ / environ\n",
      "expéridiraient -> expéridiraier / expérid\n",
      "expédier -> expédier / expédi\n",
      "expédition -> expédition / expédit\n",
      "expédions -> expédier / exped\n",
      "décomposaient -> décomposer / décompos\n",
      "décomposition -> décomposition / décomposit\n"
     ]
    }
   ],
   "source": [
    "from index import spacy_lemmatize, snowball_stem\n",
    "\n",
    "for word in (\"trousseaux\", \"environnement\", \"environ\", \"expéridiraient\", \"expédier\", \"expédition\", \"expédions\", \"décomposaient\", \"décomposition\"):\n",
    "    print(f\"{word} -> {spacy_lemmatize(word)[0]} / {snowball_stem(word)[0]}\")"
   ]
  },
  {
   "cell_type": "markdown",
   "id": "67f46611",
   "metadata": {},
   "source": [
    "Les stems mélangent \"environ\" et \"environnement\" alors que ce sont des mots très différents. La lemmatisation distingue les deux.\n",
    "Expédier et \"expédions\" deux formes du même verbe sont différenciés par les stems alors que les lemmes les confondent, même formes d'un même verbe (plus pertinent)\n",
    "Stems et Lemmes s'accordent sinon sur de nombreux exemples, en particulier les noms comme \"trousseau\" pour lesquels ils parviennent à simplifier les pluriels.\n"
   ]
  }
 ],
 "metadata": {
  "kernelspec": {
   "display_name": ".venv",
   "language": "python",
   "name": "python3"
  },
  "language_info": {
   "codemirror_mode": {
    "name": "ipython",
    "version": 3
   },
   "file_extension": ".py",
   "mimetype": "text/x-python",
   "name": "python",
   "nbconvert_exporter": "python",
   "pygments_lexer": "ipython3",
   "version": "3.12.10"
  }
 },
 "nbformat": 4,
 "nbformat_minor": 5
}
