{
 "cells": [
  {
   "cell_type": "markdown",
   "id": "d1e0f856",
   "metadata": {},
   "source": [
    "# Code minimal nécessaire pour Process un document"
   ]
  },
  {
   "cell_type": "code",
   "execution_count": null,
   "id": "ddc86f83",
   "metadata": {},
   "outputs": [],
   "source": [
    "DATA_FOLDER = \"\"\n",
    "XML_INITIAL_FILE = \"\"\n",
    "ANTI_DICT_FILE = \"\"\n",
    "STEMMED_REPLACEMENTS = \"\""
   ]
  },
  {
   "cell_type": "code",
   "execution_count": null,
   "id": "3d0ba57a",
   "metadata": {},
   "outputs": [],
   "source": [
    "from index import BS4Parser, Corpus\n",
    "\n",
    "documents = BS4Parser().process_folder(DATA_FOLDER, limit=20)  # Process all files inside the folder\n",
    "Corpus(documents = documents)"
   ]
  },
  {
   "cell_type": "code",
   "execution_count": null,
   "id": "ddbe542d",
   "metadata": {},
   "outputs": [],
   "source": [
    "STORAGE_TAGS = {\"Corpus\": \"corpus\", \"documents\": \"bulletins\", \"Document\": \"bulletin\", \"Image\": \"image\"}\n",
    "\n",
    "with open(XML_INITIAL_FILE, \"w\", encoding=\"utf-8\") as file:\n",
    "    file.write(Corpus(documents=documents).model_dump_xml_str_pretty(tags=STORAGE_TAGS))\n",
    "with open(XML_INITIAL_FILE, \"r\", encoding=\"utf-8\") as file:\n",
    "    CORPUS = Corpus.model_validate_xml(file.read(), tags=STORAGE_TAGS)\n",
    "\n",
    "FILTERED_CORPUS = CORPUS.model_copy(deep=True)\n",
    "CORPUS"
   ]
  },
  {
   "cell_type": "markdown",
   "id": "c2766195",
   "metadata": {},
   "source": [
    "## STANDARDISATION"
   ]
  },
  {
   "cell_type": "code",
   "execution_count": null,
   "id": "359b1142",
   "metadata": {},
   "outputs": [],
   "source": [
    "from typing import Callable\n",
    "import re\n",
    "\n",
    "# Fonction de standardisation\n",
    "STANDARDIZE: Callable[[str], str] = lambda x: re.sub(r\"[^\\w\\s]\", \"\", re.sub(r\"'\", \" \", x.strip().lower()))\n",
    "\n",
    "STANDARDIZE(\"L'éléphant est un animal majestueux.\")  # \"l éléphant est un animal majestueux\""
   ]
  },
  {
   "cell_type": "code",
   "execution_count": null,
   "id": "66755758",
   "metadata": {},
   "outputs": [],
   "source": [
    "FILTERED_CORPUS.apply_filter([\"texte\", \"titre\", \"images.legende\"], filter=STANDARDIZE)"
   ]
  },
  {
   "cell_type": "markdown",
   "id": "a7bcfed5",
   "metadata": {},
   "source": [
    "## Filtrage par ANTI DICT"
   ]
  },
  {
   "cell_type": "code",
   "execution_count": null,
   "id": "03123097",
   "metadata": {},
   "outputs": [],
   "source": [
    "import pandas\n",
    "with open(ANTI_DICT_FILE, \"w+\", encoding=\"utf-8\") as file:\n",
    "    file.writelines([f\"{token}\\t\\\"\\\"\\n\" for token in CORPUS.token_index().get_irrelevant_terms()])\n",
    "anti_dictionnaire = pandas.read_csv(ANTI_DICT_FILE, sep=\"\\t\", header=None, na_filter=False)\n",
    "anti_dictionnaire.head(3)"
   ]
  },
  {
   "cell_type": "code",
   "execution_count": null,
   "id": "8ba8f15d",
   "metadata": {},
   "outputs": [],
   "source": [
    "FILTERED_CORPUS.apply_substitutions([\"texte\", \"titre\", \"images.legende\"], anti_dictionnaire)\n",
    "print(CORPUS.documents[0].texte)\n",
    "print(\"---\")\n",
    "print(FILTERED_CORPUS.documents[0].texte)"
   ]
  },
  {
   "cell_type": "code",
   "execution_count": null,
   "id": "d57a491b",
   "metadata": {},
   "outputs": [],
   "source": [
    "from index import spacy_lemmas, snowball_stems\n",
    "\n",
    "tokens = list(FILTERED_CORPUS.tokens().keys())\n",
    "\n",
    "snowball_stems = snowball_stems(tokens)\n",
    "spacy_lemmas = spacy_lemmas(tokens)\n",
    "\n",
    "pandas.DataFrame({\n",
    "    \"Token\": list(snowball_stems[\"word\"]), \n",
    "    \"Spacy\": list(spacy_lemmas[\"stem\"]), \n",
    "    \"Snowball\": list(snowball_stems[\"stem\"]),\n",
    "}).tail(3)"
   ]
  },
  {
   "cell_type": "code",
   "execution_count": null,
   "id": "6cf1f0d6",
   "metadata": {},
   "outputs": [],
   "source": [
    "stems = spacy_lemmas\n",
    "with open(STEMMED_REPLACEMENTS, \"w+\", encoding=\"utf-8\") as file:\n",
    "    file.writelines([f\"{word}\\t{stem}\\n\" for word, stem in zip(stems['word'], stems['stem'])])\n",
    "    \n",
    "substitutions = pandas.read_csv(STEMMED_REPLACEMENTS, sep=\"\\t\", header=None, na_filter=False)\n",
    "substitutions.head(3)  # Fichier de Substitutions par lemmes"
   ]
  }
 ],
 "metadata": {
  "kernelspec": {
   "display_name": ".venv",
   "language": "python",
   "name": "python3"
  },
  "language_info": {
   "name": "python",
   "version": "3.12.3"
  }
 },
 "nbformat": 4,
 "nbformat_minor": 5
}
